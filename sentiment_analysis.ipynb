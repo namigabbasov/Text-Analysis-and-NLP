{
  "cells": [
    {
      "cell_type": "markdown",
      "metadata": {
        "id": "view-in-github",
        "colab_type": "text"
      },
      "source": [
        "<a href=\"https://colab.research.google.com/github/namigabbasov/Text-Analysis-and-NLP/blob/main/sentiment_analysis.ipynb\" target=\"_parent\"><img src=\"https://colab.research.google.com/assets/colab-badge.svg\" alt=\"Open In Colab\"/></a>"
      ]
    },
    {
      "cell_type": "markdown",
      "source": [
        "# **Sentiment Analysis**\n",
        "\n",
        "This notebook will walk you through three different ways to analyze the sentiment of text:\n",
        "\n",
        "1. Lexicon-Based Analysis: This method uses dictionaries of positive and negative words to figure out the sentiment of a sentence or document.\n",
        "2. Machine Learning-Based Analysis: Here, we will use traditional machine learning models combined with text features to predict sentiment.\n",
        "3. Transformer Models: Finally, we will explore powerful, cutting-edge models from Hugging Face (like BERT) to get highly accurate results.\n",
        "\n",
        "\n",
        "The tutorial starts with basics of sentiment analysis and then moves to two case studies. By the end of this tutorial, you will know how to use each method and see how they compare, so you can pick the right approach for your own projects!"
      ],
      "metadata": {
        "id": "77MVhuld0WEp"
      }
    },
    {
      "cell_type": "code",
      "source": [
        "!pip install datasets transformers huggingface_hub torch scikit-learn\n",
        "!apt-get install git-lfs"
      ],
      "metadata": {
        "id": "0lNBv9V02mQ_"
      },
      "execution_count": null,
      "outputs": []
    },
    {
      "cell_type": "code",
      "source": [
        "import matplotlib.pyplot as plt\n",
        "import seaborn as sns\n",
        "import pandas as pd\n",
        "import re"
      ],
      "metadata": {
        "id": "kEqrApS22iP2"
      },
      "execution_count": null,
      "outputs": []
    },
    {
      "cell_type": "markdown",
      "metadata": {
        "id": "fDg3Ubwsy5g5"
      },
      "source": [
        "##  **I.Sentiment Analysis Lexicon-based Approaches**"
      ]
    },
    {
      "cell_type": "markdown",
      "metadata": {
        "id": "EIDasTrW5ttP"
      },
      "source": [
        "## 1. Install Dependencies and Download VADER lexicon\n",
        "\n",
        "\n"
      ]
    },
    {
      "cell_type": "code",
      "execution_count": null,
      "metadata": {
        "colab": {
          "base_uri": "https://localhost:8080/"
        },
        "id": "oWqFwQJ2rQUx",
        "outputId": "915b1cd4-e616-4e66-f211-c6217694d074"
      },
      "outputs": [
        {
          "output_type": "stream",
          "name": "stdout",
          "text": [
            "Requirement already satisfied: datasets in /usr/local/lib/python3.10/dist-packages (3.1.0)\n",
            "Requirement already satisfied: transformers in /usr/local/lib/python3.10/dist-packages (4.44.2)\n",
            "Requirement already satisfied: huggingface_hub in /usr/local/lib/python3.10/dist-packages (0.24.7)\n",
            "Requirement already satisfied: torch in /usr/local/lib/python3.10/dist-packages (2.5.0+cu121)\n",
            "Requirement already satisfied: scikit-learn in /usr/local/lib/python3.10/dist-packages (1.5.2)\n",
            "Requirement already satisfied: filelock in /usr/local/lib/python3.10/dist-packages (from datasets) (3.16.1)\n",
            "Requirement already satisfied: numpy>=1.17 in /usr/local/lib/python3.10/dist-packages (from datasets) (1.26.4)\n",
            "Requirement already satisfied: pyarrow>=15.0.0 in /usr/local/lib/python3.10/dist-packages (from datasets) (17.0.0)\n",
            "Requirement already satisfied: dill<0.3.9,>=0.3.0 in /usr/local/lib/python3.10/dist-packages (from datasets) (0.3.8)\n",
            "Requirement already satisfied: pandas in /usr/local/lib/python3.10/dist-packages (from datasets) (2.2.2)\n",
            "Requirement already satisfied: requests>=2.32.2 in /usr/local/lib/python3.10/dist-packages (from datasets) (2.32.3)\n",
            "Requirement already satisfied: tqdm>=4.66.3 in /usr/local/lib/python3.10/dist-packages (from datasets) (4.66.6)\n",
            "Requirement already satisfied: xxhash in /usr/local/lib/python3.10/dist-packages (from datasets) (3.5.0)\n",
            "Requirement already satisfied: multiprocess<0.70.17 in /usr/local/lib/python3.10/dist-packages (from datasets) (0.70.16)\n",
            "Requirement already satisfied: fsspec<=2024.9.0,>=2023.1.0 in /usr/local/lib/python3.10/dist-packages (from fsspec[http]<=2024.9.0,>=2023.1.0->datasets) (2024.9.0)\n",
            "Requirement already satisfied: aiohttp in /usr/local/lib/python3.10/dist-packages (from datasets) (3.10.10)\n",
            "Requirement already satisfied: packaging in /usr/local/lib/python3.10/dist-packages (from datasets) (24.1)\n",
            "Requirement already satisfied: pyyaml>=5.1 in /usr/local/lib/python3.10/dist-packages (from datasets) (6.0.2)\n",
            "Requirement already satisfied: regex!=2019.12.17 in /usr/local/lib/python3.10/dist-packages (from transformers) (2024.9.11)\n",
            "Requirement already satisfied: safetensors>=0.4.1 in /usr/local/lib/python3.10/dist-packages (from transformers) (0.4.5)\n",
            "Requirement already satisfied: tokenizers<0.20,>=0.19 in /usr/local/lib/python3.10/dist-packages (from transformers) (0.19.1)\n",
            "Requirement already satisfied: typing-extensions>=3.7.4.3 in /usr/local/lib/python3.10/dist-packages (from huggingface_hub) (4.12.2)\n",
            "Requirement already satisfied: networkx in /usr/local/lib/python3.10/dist-packages (from torch) (3.4.2)\n",
            "Requirement already satisfied: jinja2 in /usr/local/lib/python3.10/dist-packages (from torch) (3.1.4)\n",
            "Requirement already satisfied: sympy==1.13.1 in /usr/local/lib/python3.10/dist-packages (from torch) (1.13.1)\n",
            "Requirement already satisfied: mpmath<1.4,>=1.1.0 in /usr/local/lib/python3.10/dist-packages (from sympy==1.13.1->torch) (1.3.0)\n",
            "Requirement already satisfied: scipy>=1.6.0 in /usr/local/lib/python3.10/dist-packages (from scikit-learn) (1.13.1)\n",
            "Requirement already satisfied: joblib>=1.2.0 in /usr/local/lib/python3.10/dist-packages (from scikit-learn) (1.4.2)\n",
            "Requirement already satisfied: threadpoolctl>=3.1.0 in /usr/local/lib/python3.10/dist-packages (from scikit-learn) (3.5.0)\n",
            "Requirement already satisfied: aiohappyeyeballs>=2.3.0 in /usr/local/lib/python3.10/dist-packages (from aiohttp->datasets) (2.4.3)\n",
            "Requirement already satisfied: aiosignal>=1.1.2 in /usr/local/lib/python3.10/dist-packages (from aiohttp->datasets) (1.3.1)\n",
            "Requirement already satisfied: attrs>=17.3.0 in /usr/local/lib/python3.10/dist-packages (from aiohttp->datasets) (24.2.0)\n",
            "Requirement already satisfied: frozenlist>=1.1.1 in /usr/local/lib/python3.10/dist-packages (from aiohttp->datasets) (1.5.0)\n",
            "Requirement already satisfied: multidict<7.0,>=4.5 in /usr/local/lib/python3.10/dist-packages (from aiohttp->datasets) (6.1.0)\n",
            "Requirement already satisfied: yarl<2.0,>=1.12.0 in /usr/local/lib/python3.10/dist-packages (from aiohttp->datasets) (1.17.0)\n",
            "Requirement already satisfied: async-timeout<5.0,>=4.0 in /usr/local/lib/python3.10/dist-packages (from aiohttp->datasets) (4.0.3)\n",
            "Requirement already satisfied: charset-normalizer<4,>=2 in /usr/local/lib/python3.10/dist-packages (from requests>=2.32.2->datasets) (3.4.0)\n",
            "Requirement already satisfied: idna<4,>=2.5 in /usr/local/lib/python3.10/dist-packages (from requests>=2.32.2->datasets) (3.10)\n",
            "Requirement already satisfied: urllib3<3,>=1.21.1 in /usr/local/lib/python3.10/dist-packages (from requests>=2.32.2->datasets) (2.2.3)\n",
            "Requirement already satisfied: certifi>=2017.4.17 in /usr/local/lib/python3.10/dist-packages (from requests>=2.32.2->datasets) (2024.8.30)\n",
            "Requirement already satisfied: MarkupSafe>=2.0 in /usr/local/lib/python3.10/dist-packages (from jinja2->torch) (3.0.2)\n",
            "Requirement already satisfied: python-dateutil>=2.8.2 in /usr/local/lib/python3.10/dist-packages (from pandas->datasets) (2.8.2)\n",
            "Requirement already satisfied: pytz>=2020.1 in /usr/local/lib/python3.10/dist-packages (from pandas->datasets) (2024.2)\n",
            "Requirement already satisfied: tzdata>=2022.7 in /usr/local/lib/python3.10/dist-packages (from pandas->datasets) (2024.2)\n",
            "Requirement already satisfied: six>=1.5 in /usr/local/lib/python3.10/dist-packages (from python-dateutil>=2.8.2->pandas->datasets) (1.16.0)\n",
            "Requirement already satisfied: propcache>=0.2.0 in /usr/local/lib/python3.10/dist-packages (from yarl<2.0,>=1.12.0->aiohttp->datasets) (0.2.0)\n",
            "Reading package lists... Done\n",
            "Building dependency tree... Done\n",
            "Reading state information... Done\n",
            "git-lfs is already the newest version (3.0.2-1ubuntu0.2).\n",
            "0 upgraded, 0 newly installed, 0 to remove and 49 not upgraded.\n"
          ]
        }
      ],
      "source": []
    },
    {
      "cell_type": "code",
      "execution_count": null,
      "metadata": {
        "colab": {
          "base_uri": "https://localhost:8080/"
        },
        "id": "LPI0tuy3y6xo",
        "outputId": "480a5cb5-8594-407f-c79a-feebb23239bd"
      },
      "outputs": [
        {
          "output_type": "stream",
          "name": "stderr",
          "text": [
            "[nltk_data] Downloading package vader_lexicon to /root/nltk_data...\n",
            "[nltk_data]   Package vader_lexicon is already up-to-date!\n"
          ]
        },
        {
          "output_type": "execute_result",
          "data": {
            "text/plain": [
              "True"
            ]
          },
          "metadata": {},
          "execution_count": 2
        }
      ],
      "source": [
        "### Install Libraries\n",
        "from nltk.sentiment.vader import SentimentIntensityAnalyzer\n",
        "import nltk\n",
        "\n",
        "### Download VADER lexicon\n",
        "nltk.download('vader_lexicon')"
      ]
    },
    {
      "cell_type": "markdown",
      "metadata": {
        "id": "cKsOX_OR8m2Y"
      },
      "source": [
        "## 2. Explore VADER lexicon"
      ]
    },
    {
      "cell_type": "code",
      "execution_count": null,
      "metadata": {
        "colab": {
          "base_uri": "https://localhost:8080/"
        },
        "id": "a86bUnJu6BhI",
        "outputId": "36449af5-e409-40bc-c8d0-cfb4819ffcbe"
      },
      "outputs": [
        {
          "output_type": "execute_result",
          "data": {
            "text/plain": [
              "[('$:', -1.5),\n",
              " ('%)', -0.4),\n",
              " ('%-)', -1.5),\n",
              " ('&-:', -0.4),\n",
              " ('&:', -0.7),\n",
              " (\"( '}{' )\", 1.6),\n",
              " ('(%', -0.9),\n",
              " (\"('-:\", 2.2),\n",
              " (\"(':\", 2.3),\n",
              " ('((-:', 2.1),\n",
              " ('(*', 1.1),\n",
              " ('(-%', -0.7),\n",
              " ('(-*', 1.3),\n",
              " ('(-:', 1.6),\n",
              " ('(-:0', 2.8),\n",
              " ('(-:<', -0.4),\n",
              " ('(-:o', 1.5),\n",
              " ('(-:O', 1.5),\n",
              " ('(-:{', -0.1),\n",
              " ('(-:|>*', 1.9),\n",
              " ('(-;', 1.3),\n",
              " ('(-;|', 2.1),\n",
              " ('(8', 2.6),\n",
              " ('(:', 2.2),\n",
              " ('(:0', 2.4),\n",
              " ('(:<', -0.2),\n",
              " ('(:o', 2.5),\n",
              " ('(:O', 2.5),\n",
              " ('(;', 1.1),\n",
              " ('(;<', 0.3),\n",
              " ('(=', 2.2),\n",
              " ('(?:', 2.1),\n",
              " ('(^:', 1.5),\n",
              " ('(^;', 1.5),\n",
              " ('(^;0', 2.0),\n",
              " ('(^;o', 1.9),\n",
              " ('(o:', 1.6),\n",
              " (\")':\", -2.0),\n",
              " (\")-':\", -2.1),\n",
              " (')-:', -2.1),\n",
              " (')-:<', -2.2),\n",
              " (')-:{', -2.1),\n",
              " ('):', -1.8),\n",
              " ('):<', -1.9),\n",
              " ('):{', -2.3),\n",
              " (');<', -2.6),\n",
              " ('*)', 0.6),\n",
              " ('*-)', 0.3),\n",
              " ('*-:', 2.1),\n",
              " ('*-;', 2.4),\n",
              " ('*:', 1.9),\n",
              " ('*<|:-)', 1.6),\n",
              " ('*\\\\0/*', 2.3),\n",
              " ('*^:', 1.6),\n",
              " (',-:', 1.2),\n",
              " (\"---'-;-{@\", 2.3),\n",
              " ('--<--<@', 2.2),\n",
              " ('.-:', -1.2),\n",
              " ('..###-:', -1.7),\n",
              " ('..###:', -1.9),\n",
              " ('/-:', -1.3),\n",
              " ('/:', -1.3),\n",
              " ('/:<', -1.4),\n",
              " ('/=', -0.9),\n",
              " ('/^:', -1.0),\n",
              " ('/o:', -1.4),\n",
              " ('0-8', 0.1),\n",
              " ('0-|', -1.2),\n",
              " ('0:)', 1.9),\n",
              " ('0:-)', 1.4),\n",
              " ('0:-3', 1.5),\n",
              " ('0:03', 1.9),\n",
              " ('0;^)', 1.6),\n",
              " ('0_o', -0.3),\n",
              " ('10q', 2.1),\n",
              " ('1337', 2.1),\n",
              " ('143', 3.2),\n",
              " ('1432', 2.6),\n",
              " ('14aa41', 2.4),\n",
              " ('182', -2.9),\n",
              " ('187', -3.1),\n",
              " ('2g2b4g', 2.8),\n",
              " ('2g2bt', -0.1),\n",
              " ('2qt', 2.1),\n",
              " ('3:(', -2.2),\n",
              " ('3:)', 0.5),\n",
              " ('3:-(', -2.3),\n",
              " ('3:-)', -1.4),\n",
              " ('4col', -2.2),\n",
              " ('4q', -3.1),\n",
              " ('5fs', 1.5),\n",
              " ('8)', 1.9),\n",
              " ('8-d', 1.7),\n",
              " ('8-o', -0.3),\n",
              " ('86', -1.6),\n",
              " ('8d', 2.9),\n",
              " (':###..', -2.4),\n",
              " (':$', -0.2),\n",
              " (':&', -0.6),\n",
              " (\":'(\", -2.2),\n",
              " (\":')\", 2.3),\n",
              " (\":'-(\", -2.4),\n",
              " (\":'-)\", 2.7),\n",
              " (':(', -1.9),\n",
              " (':)', 2.0),\n",
              " (':*', 2.5),\n",
              " (':-###..', -2.5),\n",
              " (':-&', -0.5),\n",
              " (':-(', -1.5),\n",
              " (':-)', 1.3),\n",
              " (':-))', 2.8),\n",
              " (':-*', 1.7),\n",
              " (':-,', 1.1),\n",
              " (':-.', -0.9),\n",
              " (':-/', -1.2),\n",
              " (':-<', -1.5),\n",
              " (':-d', 2.3),\n",
              " (':-D', 2.3),\n",
              " (':-o', 0.1),\n",
              " (':-p', 1.5),\n",
              " (':-[', -1.6),\n",
              " (':-\\\\', -0.9),\n",
              " (':-c', -1.3),\n",
              " (':-|', -0.7),\n",
              " (':-||', -2.5),\n",
              " (':-Þ', 0.9),\n",
              " (':/', -1.4),\n",
              " (':3', 2.3),\n",
              " (':<', -2.1),\n",
              " (':>', 2.1),\n",
              " (':?)', 1.3),\n",
              " (':?c', -1.6),\n",
              " (':@', -2.5),\n",
              " (':d', 2.3),\n",
              " (':D', 2.3),\n",
              " (':l', -1.7),\n",
              " (':o', -0.4),\n",
              " (':p', 1.4),\n",
              " (':s', -1.2),\n",
              " (':[', -2.0),\n",
              " (':\\\\', -1.3),\n",
              " (':]', 2.2),\n",
              " (':^)', 2.1),\n",
              " (':^*', 2.6),\n",
              " (':^/', -1.2),\n",
              " (':^\\\\', -1.0),\n",
              " (':^|', -1.0),\n",
              " (':c', -2.1),\n",
              " (':c)', 2.0),\n",
              " (':o)', 2.1),\n",
              " (':o/', -1.4),\n",
              " (':o\\\\', -1.1),\n",
              " (':o|', -0.6),\n",
              " (':{', -1.9),\n",
              " (':|', -0.4),\n",
              " (':}', 2.1),\n",
              " (':Þ', 1.1),\n",
              " (';)', 0.9),\n",
              " (';-)', 1.0),\n",
              " (';-*', 2.2),\n",
              " (';-]', 0.7),\n",
              " (';d', 0.8),\n",
              " (';D', 0.8),\n",
              " (';]', 0.6),\n",
              " (';^)', 1.4),\n",
              " ('</3', -3.0),\n",
              " ('<3', 1.9),\n",
              " ('<:', 2.1),\n",
              " ('<:-|', -1.4),\n",
              " ('=)', 2.2),\n",
              " ('=-3', 2.0),\n",
              " ('=-d', 2.4),\n",
              " ('=-D', 2.4),\n",
              " ('=/', -1.4),\n",
              " ('=3', 2.1),\n",
              " ('=d', 2.3),\n",
              " ('=D', 2.3),\n",
              " ('=l', -1.2),\n",
              " ('=\\\\', -1.2),\n",
              " ('=]', 1.6),\n",
              " ('=p', 1.3),\n",
              " ('=|', -0.8),\n",
              " ('>-:', -2.0),\n",
              " ('>.<', -1.3),\n",
              " ('>:', -2.1),\n",
              " ('>:(', -2.7),\n",
              " ('>:)', 0.4),\n",
              " ('>:-(', -2.7),\n",
              " ('>:-)', -0.4),\n",
              " ('>:/', -1.6),\n",
              " ('>:o', -1.2),\n",
              " ('>:p', 1.0),\n",
              " ('>:[', -2.1),\n",
              " ('>:\\\\', -1.7),\n",
              " ('>;(', -2.9),\n",
              " ('>;)', 0.1),\n",
              " ('>_>^', 2.1),\n",
              " ('@:', -2.1),\n",
              " ('@>-->--', 2.1),\n",
              " (\"@}-;-'---\", 2.2),\n",
              " ('aas', 2.5),\n",
              " ('aayf', 2.7),\n",
              " ('afu', -2.9),\n",
              " ('alol', 2.8),\n",
              " ('ambw', 2.9),\n",
              " ('aml', 3.4),\n",
              " ('atab', -1.9),\n",
              " ('awol', -1.3),\n",
              " ('ayc', 0.2),\n",
              " ('ayor', -1.2),\n",
              " ('aug-00', 0.3),\n",
              " ('bfd', -2.7),\n",
              " ('bfe', -2.6),\n",
              " ('bff', 2.9),\n",
              " ('bffn', 1.0),\n",
              " ('bl', 2.3),\n",
              " ('bsod', -2.2),\n",
              " ('btd', -2.1),\n",
              " ('btdt', -0.1),\n",
              " ('bz', 0.4),\n",
              " ('b^d', 2.6),\n",
              " ('cwot', -2.3),\n",
              " (\"d-':\", -2.5),\n",
              " ('d8', -3.2),\n",
              " ('d:', 1.2),\n",
              " ('d:<', -3.2),\n",
              " ('d;', -2.9),\n",
              " ('d=', 1.5),\n",
              " ('doa', -2.3),\n",
              " ('dx', -3.0),\n",
              " ('ez', 1.5),\n",
              " ('fav', 2.0),\n",
              " ('fcol', -1.8),\n",
              " ('ff', 1.8),\n",
              " ('ffs', -2.8),\n",
              " ('fkm', -2.4),\n",
              " ('foaf', 1.8),\n",
              " ('ftw', 2.0),\n",
              " ('fu', -3.7),\n",
              " ('fubar', -3.0),\n",
              " ('fwb', 2.5),\n",
              " ('fyi', 0.8),\n",
              " ('fysa', 0.4),\n",
              " ('g1', 1.4),\n",
              " ('gg', 1.2),\n",
              " ('gga', 1.7),\n",
              " ('gigo', -0.6),\n",
              " ('gj', 2.0),\n",
              " ('gl', 1.3),\n",
              " ('gla', 2.5),\n",
              " ('gn', 1.2),\n",
              " ('gr8', 2.7),\n",
              " ('grrr', -0.4),\n",
              " ('gt', 1.1),\n",
              " ('h&k', 2.3),\n",
              " ('hagd', 2.2),\n",
              " ('hagn', 2.2),\n",
              " ('hago', 1.2),\n",
              " ('hak', 1.9),\n",
              " ('hand', 2.2),\n",
              " ('hho1/2k', 1.4),\n",
              " ('hhoj', 2.0),\n",
              " ('hhok', 0.9),\n",
              " ('hugz', 2.0),\n",
              " ('hi5', 1.9),\n",
              " ('idk', -0.4),\n",
              " ('ijs', 0.7),\n",
              " ('ilu', 3.4),\n",
              " ('iluaaf', 2.7),\n",
              " ('ily', 3.4),\n",
              " ('ily2', 2.6),\n",
              " ('iou', 0.7),\n",
              " ('iyq', 2.3),\n",
              " ('j/j', 2.0),\n",
              " ('j/k', 1.6),\n",
              " ('j/p', 1.4),\n",
              " ('j/t', -0.2),\n",
              " ('j/w', 1.0),\n",
              " ('j4f', 1.4),\n",
              " ('j4g', 1.7),\n",
              " ('jho', 0.8),\n",
              " ('jhomf', 1.0),\n",
              " ('jj', 1.0),\n",
              " ('jk', 0.9),\n",
              " ('jp', 0.8),\n",
              " ('jt', 0.9),\n",
              " ('jw', 1.6),\n",
              " ('jealz', -1.2),\n",
              " ('k4y', 2.3),\n",
              " ('kfy', 2.3),\n",
              " ('kia', -3.2),\n",
              " ('kk', 1.5),\n",
              " ('kmuf', 2.2),\n",
              " ('l', 2.0),\n",
              " ('l&r', 2.2),\n",
              " ('laoj', 1.3),\n",
              " ('lmao', 2.9),\n",
              " ('lmbao', 1.8),\n",
              " ('lmfao', 2.5),\n",
              " ('lmso', 2.7),\n",
              " ('lol', 1.8),\n",
              " ('lolz', 2.7),\n",
              " ('lts', 1.6),\n",
              " ('ly', 2.6),\n",
              " ('ly4e', 2.7),\n",
              " ('lya', 3.3),\n",
              " ('lyb', 3.0),\n",
              " ('lyl', 3.1),\n",
              " ('lylab', 2.7),\n",
              " ('lylas', 2.6),\n",
              " ('lylb', 1.6),\n",
              " ('m8', 1.4),\n",
              " ('mia', -1.2),\n",
              " ('mml', 2.0),\n",
              " ('mofo', -2.4),\n",
              " ('muah', 2.3),\n",
              " ('mubar', -1.0),\n",
              " ('musm', 0.9),\n",
              " ('mwah', 2.5),\n",
              " ('n1', 1.9),\n",
              " ('nbd', 1.3),\n",
              " ('nbif', -0.5),\n",
              " ('nfc', -2.7),\n",
              " ('nfw', -2.4),\n",
              " ('nh', 2.2),\n",
              " ('nimby', -0.8),\n",
              " ('nimjd', -0.7),\n",
              " ('nimq', -0.2),\n",
              " ('nimy', -1.4),\n",
              " ('nitl', -1.5),\n",
              " ('nme', -2.1),\n",
              " ('noyb', -0.7),\n",
              " ('np', 1.4),\n",
              " ('ntmu', 1.4),\n",
              " ('o-8', -0.5),\n",
              " ('o-:', -0.3),\n",
              " ('o-|', -1.1),\n",
              " ('o.o', -0.8),\n",
              " ('O.o', -0.6),\n",
              " ('o.O', -0.6),\n",
              " ('o:', -0.2),\n",
              " ('o:)', 1.5),\n",
              " ('o:-)', 2.0),\n",
              " ('o:-3', 2.2),\n",
              " ('o:3', 2.3),\n",
              " ('o:<', -0.3),\n",
              " ('o;^)', 1.6),\n",
              " ('ok', 1.2),\n",
              " ('o_o', -0.5),\n",
              " ('O_o', -0.5),\n",
              " ('o_O', -0.5),\n",
              " ('pita', -2.4),\n",
              " ('pls', 0.3),\n",
              " ('plz', 0.3),\n",
              " ('pmbi', 0.8),\n",
              " ('pmfji', 0.3),\n",
              " ('pmji', 0.7),\n",
              " ('po', -2.6),\n",
              " ('ptl', 2.6),\n",
              " ('pu', -1.1),\n",
              " ('qq', -2.2),\n",
              " ('qt', 1.8),\n",
              " ('r&r', 2.4),\n",
              " ('rofl', 2.7),\n",
              " ('roflmao', 2.5),\n",
              " ('rotfl', 2.6),\n",
              " ('rotflmao', 2.8),\n",
              " ('rotflmfao', 2.5),\n",
              " ('rotflol', 3.0),\n",
              " ('rotgl', 2.9),\n",
              " ('rotglmao', 1.8),\n",
              " ('s:', -1.1),\n",
              " ('sapfu', -1.1),\n",
              " ('sete', 2.8),\n",
              " ('sfete', 2.7),\n",
              " ('sgtm', 2.4),\n",
              " ('slap', 0.6),\n",
              " ('slaw', 2.1),\n",
              " ('smh', -1.3),\n",
              " ('snafu', -2.5),\n",
              " ('sob', -1.0),\n",
              " ('swak', 2.3),\n",
              " ('tgif', 2.3),\n",
              " ('thks', 1.4),\n",
              " ('thx', 1.5),\n",
              " ('tia', 2.3),\n",
              " ('tmi', -0.3),\n",
              " ('tnx', 1.1),\n",
              " ('true', 1.8),\n",
              " ('tx', 1.5),\n",
              " ('txs', 1.1),\n",
              " ('ty', 1.6),\n",
              " ('tyvm', 2.5),\n",
              " ('urw', 1.9),\n",
              " ('vbg', 2.1),\n",
              " ('vbs', 3.1),\n",
              " ('vip', 2.3),\n",
              " ('vwd', 2.6),\n",
              " ('vwp', 2.1),\n",
              " ('wag', -0.2),\n",
              " ('wd', 2.7),\n",
              " ('wilco', 0.9),\n",
              " ('wp', 1.0),\n",
              " ('wtf', -2.8),\n",
              " ('wtg', 2.1),\n",
              " ('wth', -2.4),\n",
              " ('x-d', 2.6),\n",
              " ('x-p', 1.7),\n",
              " ('xd', 2.8),\n",
              " ('xlnt', 3.0),\n",
              " ('xoxo', 3.0),\n",
              " ('xoxozzz', 2.3),\n",
              " ('xp', 1.6),\n",
              " ('xqzt', 1.6),\n",
              " ('xtc', 0.8),\n",
              " ('yolo', 1.1),\n",
              " ('yoyo', 0.4),\n",
              " ('yvw', 1.6),\n",
              " ('yw', 1.8),\n",
              " ('ywia', 2.5),\n",
              " ('zzz', -1.2),\n",
              " ('[-;', 0.5),\n",
              " ('[:', 1.3),\n",
              " ('[;', 1.0),\n",
              " ('[=', 1.7),\n",
              " ('\\\\-:', -1.0),\n",
              " ('\\\\:', -1.0),\n",
              " ('\\\\:<', -1.7),\n",
              " ('\\\\=', -1.1),\n",
              " ('\\\\^:', -1.3),\n",
              " ('\\\\o/', 2.2),\n",
              " ('\\\\o:', -1.2),\n",
              " (']-:', -2.1),\n",
              " (']:', -1.6),\n",
              " (']:<', -2.5),\n",
              " ('^<_<', 1.4),\n",
              " ('^urs', -2.8),\n",
              " ('abandon', -1.9),\n",
              " ('abandoned', -2.0),\n",
              " ('abandoner', -1.9),\n",
              " ('abandoners', -1.9),\n",
              " ('abandoning', -1.6),\n",
              " ('abandonment', -2.4),\n",
              " ('abandonments', -1.7),\n",
              " ('abandons', -1.3),\n",
              " ('abducted', -2.3),\n",
              " ('abduction', -2.8),\n",
              " ('abductions', -2.0),\n",
              " ('abhor', -2.0),\n",
              " ('abhorred', -2.4),\n",
              " ('abhorrent', -3.1),\n",
              " ('abhors', -2.9),\n",
              " ('abilities', 1.0),\n",
              " ('ability', 1.3),\n",
              " ('aboard', 0.1),\n",
              " ('absentee', -1.1),\n",
              " ('absentees', -0.8),\n",
              " ('absolve', 1.2),\n",
              " ('absolved', 1.5),\n",
              " ('absolves', 1.3),\n",
              " ('absolving', 1.6),\n",
              " ('abuse', -3.2),\n",
              " ('abused', -2.3),\n",
              " ('abuser', -2.6),\n",
              " ('abusers', -2.6),\n",
              " ('abuses', -2.6),\n",
              " ('abusing', -2.0),\n",
              " ('abusive', -3.2),\n",
              " ('abusively', -2.8),\n",
              " ('abusiveness', -2.5),\n",
              " ('abusivenesses', -3.0),\n",
              " ('accept', 1.6),\n",
              " ('acceptabilities', 1.6),\n",
              " ('acceptability', 1.1),\n",
              " ('acceptable', 1.3),\n",
              " ('acceptableness', 1.3),\n",
              " ('acceptably', 1.5),\n",
              " ('acceptance', 2.0),\n",
              " ('acceptances', 1.7),\n",
              " ('acceptant', 1.6),\n",
              " ('acceptation', 1.3),\n",
              " ('acceptations', 0.9),\n",
              " ('accepted', 1.1),\n",
              " ('accepting', 1.6),\n",
              " ('accepts', 1.3),\n",
              " ('accident', -2.1),\n",
              " ('accidental', -0.3),\n",
              " ('accidentally', -1.4),\n",
              " ('accidents', -1.3),\n",
              " ('accomplish', 1.8),\n",
              " ('accomplished', 1.9),\n",
              " ('accomplishes', 1.7),\n",
              " ('accusation', -1.0),\n",
              " ('accusations', -1.3),\n",
              " ('accuse', -0.8),\n",
              " ('accused', -1.2),\n",
              " ('accuses', -1.4),\n",
              " ('accusing', -0.7),\n",
              " ('ache', -1.6),\n",
              " ('ached', -1.6),\n",
              " ('aches', -1.0),\n",
              " ('achievable', 1.3),\n",
              " ('aching', -2.2),\n",
              " ('acquit', 0.8),\n",
              " ('acquits', 0.1),\n",
              " ('acquitted', 1.0),\n",
              " ('acquitting', 1.3),\n",
              " ('acrimonious', -1.7),\n",
              " ('active', 1.7),\n",
              " ('actively', 1.3),\n",
              " ('activeness', 0.6),\n",
              " ('activenesses', 0.8),\n",
              " ('actives', 1.1),\n",
              " ('adequate', 0.9),\n",
              " ('admirability', 2.4),\n",
              " ('admirable', 2.6),\n",
              " ('admirableness', 2.2),\n",
              " ('admirably', 2.5),\n",
              " ('admiral', 1.3),\n",
              " ('admirals', 1.5),\n",
              " ('admiralties', 1.6),\n",
              " ('admiralty', 1.2),\n",
              " ('admiration', 2.5),\n",
              " ('admirations', 1.6),\n",
              " ('admire', 2.1),\n",
              " ('admired', 2.3),\n",
              " ('admirer', 1.8),\n",
              " ('admirers', 1.7),\n",
              " ('admires', 1.5),\n",
              " ('admiring', 1.6),\n",
              " ('admiringly', 2.3),\n",
              " ('admit', 0.8),\n",
              " ('admits', 1.2),\n",
              " ('admitted', 0.4),\n",
              " ('admonished', -1.9),\n",
              " ('adopt', 0.7),\n",
              " ('adopts', 0.7),\n",
              " ('adorability', 2.2),\n",
              " ('adorable', 2.2),\n",
              " ('adorableness', 2.5),\n",
              " ('adorably', 2.1),\n",
              " ('adoration', 2.9),\n",
              " ('adorations', 2.2),\n",
              " ('adore', 2.6),\n",
              " ('adored', 1.8),\n",
              " ('adorer', 1.7),\n",
              " ('adorers', 2.1),\n",
              " ('adores', 1.6),\n",
              " ('adoring', 2.6),\n",
              " ('adoringly', 2.4),\n",
              " ('adorn', 0.9),\n",
              " ('adorned', 0.8),\n",
              " ('adorner', 1.3),\n",
              " ('adorners', 0.9),\n",
              " ('adorning', 1.0),\n",
              " ('adornment', 1.3),\n",
              " ('adornments', 0.8),\n",
              " ('adorns', 0.5),\n",
              " ('advanced', 1.0),\n",
              " ('advantage', 1.0),\n",
              " ('advantaged', 1.4),\n",
              " ('advantageous', 1.5),\n",
              " ('advantageously', 1.9),\n",
              " ('advantageousness', 1.6),\n",
              " ('advantages', 1.5),\n",
              " ('advantaging', 1.6),\n",
              " ('adventure', 1.3),\n",
              " ('adventured', 1.3),\n",
              " ('adventurer', 1.2),\n",
              " ('adventurers', 0.9),\n",
              " ('adventures', 1.4),\n",
              " ('adventuresome', 1.7),\n",
              " ('adventuresomeness', 1.3),\n",
              " ('adventuress', 0.8),\n",
              " ('adventuresses', 1.4),\n",
              " ('adventuring', 2.3),\n",
              " ('adventurism', 1.5),\n",
              " ('adventurist', 1.4),\n",
              " ('adventuristic', 1.7),\n",
              " ('adventurists', 1.2),\n",
              " ('adventurous', 1.4),\n",
              " ('adventurously', 1.3),\n",
              " ('adventurousness', 1.8),\n",
              " ('adversarial', -1.5),\n",
              " ('adversaries', -1.0),\n",
              " ('adversary', -0.8),\n",
              " ('adversative', -1.2),\n",
              " ('adversatively', -0.1),\n",
              " ('adversatives', -1.0),\n",
              " ('adverse', -1.5),\n",
              " ('adversely', -0.8),\n",
              " ('adverseness', -0.6),\n",
              " ('adversities', -1.5),\n",
              " ('adversity', -1.8),\n",
              " ('affected', -0.6),\n",
              " ('affection', 2.4),\n",
              " ('affectional', 1.9),\n",
              " ('affectionally', 1.5),\n",
              " ('affectionate', 1.9),\n",
              " ('affectionately', 2.2),\n",
              " ('affectioned', 1.8),\n",
              " ('affectionless', -2.0),\n",
              " ('affections', 1.5),\n",
              " ('afflicted', -1.5),\n",
              " ('affronted', 0.2),\n",
              " ('aggravate', -2.5),\n",
              " ('aggravated', -1.9),\n",
              " ('aggravates', -1.9),\n",
              " ('aggravating', -1.2),\n",
              " ('aggress', -1.3),\n",
              " ('aggressed', -1.4),\n",
              " ('aggresses', -0.5),\n",
              " ('aggressing', -0.6),\n",
              " ('aggression', -1.2),\n",
              " ('aggressions', -1.3),\n",
              " ('aggressive', -0.6),\n",
              " ('aggressively', -1.3),\n",
              " ('aggressiveness', -1.8),\n",
              " ('aggressivities', -1.4),\n",
              " ('aggressivity', -0.6),\n",
              " ('aggressor', -0.8),\n",
              " ('aggressors', -0.9),\n",
              " ('aghast', -1.9),\n",
              " ('agitate', -1.7),\n",
              " ('agitated', -2.0),\n",
              " ('agitatedly', -1.6),\n",
              " ('agitates', -1.4),\n",
              " ('agitating', -1.8),\n",
              " ('agitation', -1.0),\n",
              " ('agitational', -1.2),\n",
              " ('agitations', -1.3),\n",
              " ('agitative', -1.3),\n",
              " ('agitato', -0.1),\n",
              " ('agitator', -1.4),\n",
              " ('agitators', -2.1),\n",
              " ('agog', 1.9),\n",
              " ('agonise', -2.1),\n",
              " ('agonised', -2.3),\n",
              " ('agonises', -2.4),\n",
              " ('agonising', -1.5),\n",
              " ('agonize', -2.3),\n",
              " ('agonized', -2.2),\n",
              " ('agonizes', -2.3),\n",
              " ('agonizing', -2.7),\n",
              " ('agonizingly', -2.3),\n",
              " ('agony', -1.8),\n",
              " ('agree', 1.5),\n",
              " ('agreeability', 1.9),\n",
              " ('agreeable', 1.8),\n",
              " ('agreeableness', 1.8),\n",
              " ('agreeablenesses', 1.3),\n",
              " ('agreeably', 1.6),\n",
              " ('agreed', 1.1),\n",
              " ('agreeing', 1.4),\n",
              " ('agreement', 2.2),\n",
              " ('agreements', 1.1),\n",
              " ('agrees', 0.8),\n",
              " ('alarm', -1.4),\n",
              " ('alarmed', -1.4),\n",
              " ('alarming', -0.5),\n",
              " ('alarmingly', -2.6),\n",
              " ('alarmism', -0.3),\n",
              " ('alarmists', -1.1),\n",
              " ('alarms', -1.1),\n",
              " ('alas', -1.1),\n",
              " ('alert', 1.2),\n",
              " ('alienation', -1.1),\n",
              " ('alive', 1.6),\n",
              " ('allergic', -1.2),\n",
              " ('allow', 0.9),\n",
              " ('alone', -1.0),\n",
              " ('alright', 1.0),\n",
              " ('amaze', 2.5),\n",
              " ('amazed', 2.2),\n",
              " ('amazedly', 2.1),\n",
              " ('amazement', 2.5),\n",
              " ('amazements', 2.2),\n",
              " ('amazes', 2.2),\n",
              " ('amazing', 2.8),\n",
              " ('amazon', 0.7),\n",
              " ('amazonite', 0.2),\n",
              " ('amazons', -0.1),\n",
              " ('amazonstone', 1.0),\n",
              " ('amazonstones', 0.2),\n",
              " ('ambitious', 2.1),\n",
              " ('ambivalent', 0.5),\n",
              " ('amor', 3.0),\n",
              " ('amoral', -1.6),\n",
              " ('amoralism', -0.7),\n",
              " ('amoralisms', -0.7),\n",
              " ('amoralities', -1.2),\n",
              " ('amorality', -1.5),\n",
              " ('amorally', -1.0),\n",
              " ('amoretti', 0.2),\n",
              " ('amoretto', 0.6),\n",
              " ('amorettos', 0.3),\n",
              " ('amorino', 1.2),\n",
              " ('amorist', 1.6),\n",
              " ('amoristic', 1.0),\n",
              " ('amorists', 0.1),\n",
              " ('amoroso', 2.3),\n",
              " ('amorous', 1.8),\n",
              " ('amorously', 2.3),\n",
              " ('amorousness', 2.0),\n",
              " ('amorphous', -0.2),\n",
              " ('amorphously', 0.1),\n",
              " ('amorphousness', 0.3),\n",
              " ('amort', -2.1),\n",
              " ('amortise', 0.5),\n",
              " ('amortised', -0.2),\n",
              " ('amortises', 0.1),\n",
              " ('amortizable', 0.5),\n",
              " ('amortization', 0.6),\n",
              " ('amortizations', 0.2),\n",
              " ('amortize', -0.1),\n",
              " ('amortized', 0.8),\n",
              " ('amortizes', 0.6),\n",
              " ('amortizing', 0.8),\n",
              " ('amusable', 0.7),\n",
              " ('amuse', 1.7),\n",
              " ('amused', 1.8),\n",
              " ('amusedly', 2.2),\n",
              " ('amusement', 1.5),\n",
              " ('amusements', 1.5),\n",
              " ('amuser', 1.1),\n",
              " ('amusers', 1.3),\n",
              " ('amuses', 1.7),\n",
              " ('amusia', 0.3),\n",
              " ('amusias', -0.4),\n",
              " ('amusing', 1.6),\n",
              " ('amusingly', 0.8),\n",
              " ('amusingness', 1.8),\n",
              " ('amusive', 1.7),\n",
              " ('anger', -2.7),\n",
              " ('angered', -2.3),\n",
              " ('angering', -2.2),\n",
              " ('angerly', -1.9),\n",
              " ('angers', -2.3),\n",
              " ('angrier', -2.3),\n",
              " ('angriest', -3.1),\n",
              " ('angrily', -1.8),\n",
              " ('angriness', -1.7),\n",
              " ('angry', -2.3),\n",
              " ('anguish', -2.9),\n",
              " ('anguished', -1.8),\n",
              " ('anguishes', -2.1),\n",
              " ('anguishing', -2.7),\n",
              " ('animosity', -1.9),\n",
              " ('annoy', -1.9),\n",
              " ('annoyance', -1.3),\n",
              " ('annoyances', -1.8),\n",
              " ('annoyed', -1.6),\n",
              " ('annoyer', -2.2),\n",
              " ('annoyers', -1.5),\n",
              " ('annoying', -1.7),\n",
              " ('annoys', -1.8),\n",
              " ('antagonism', -1.9),\n",
              " ('antagonisms', -1.2),\n",
              " ('antagonist', -1.9),\n",
              " ('antagonistic', -1.7),\n",
              " ('antagonistically', -2.2),\n",
              " ('antagonists', -1.7),\n",
              " ('antagonize', -2.0),\n",
              " ('antagonized', -1.4),\n",
              " ('antagonizes', -0.5),\n",
              " ('antagonizing', -2.7),\n",
              " ('anti', -1.3),\n",
              " ('anticipation', 0.4),\n",
              " ('anxieties', -0.6),\n",
              " ('anxiety', -0.7),\n",
              " ('anxious', -1.0),\n",
              " ('anxiously', -0.9),\n",
              " ('anxiousness', -1.0),\n",
              " ('aok', 2.0),\n",
              " ('apathetic', -1.2),\n",
              " ('apathetically', -0.4),\n",
              " ('apathies', -0.6),\n",
              " ('apathy', -1.2),\n",
              " ('apeshit', -0.9),\n",
              " ('apocalyptic', -3.4),\n",
              " ('apologise', 1.6),\n",
              " ('apologised', 0.4),\n",
              " ('apologises', 0.8),\n",
              " ('apologising', 0.2),\n",
              " ('apologize', 0.4),\n",
              " ('apologized', 1.3),\n",
              " ('apologizes', 1.5),\n",
              " ('apologizing', -0.3),\n",
              " ('apology', 0.2),\n",
              " ('appall', -2.4),\n",
              " ('appalled', -2.0),\n",
              " ('appalling', -1.5),\n",
              " ('appallingly', -2.0),\n",
              " ('appalls', -1.9),\n",
              " ('appease', 1.1),\n",
              " ('appeased', 0.9),\n",
              " ('appeases', 0.9),\n",
              " ('appeasing', 1.0),\n",
              " ('applaud', 2.0),\n",
              " ('applauded', 1.5),\n",
              " ('applauding', 2.1),\n",
              " ('applauds', 1.4),\n",
              " ('applause', 1.8),\n",
              " ('appreciate', 1.7),\n",
              " ('appreciated', 2.3),\n",
              " ('appreciates', 2.3),\n",
              " ('appreciating', 1.9),\n",
              " ('appreciation', 2.3),\n",
              " ('appreciations', 1.7),\n",
              " ('appreciative', 2.6),\n",
              " ('appreciatively', 1.8),\n",
              " ('appreciativeness', 1.6),\n",
              " ('appreciator', 2.6),\n",
              " ('appreciators', 1.5),\n",
              " ('appreciatory', 1.7),\n",
              " ('apprehensible', 1.1),\n",
              " ('apprehensibly', -0.2),\n",
              " ('apprehension', -2.1),\n",
              " ('apprehensions', -0.9),\n",
              " ('apprehensively', -0.3),\n",
              " ('apprehensiveness', -0.7),\n",
              " ('approval', 2.1),\n",
              " ('approved', 1.8),\n",
              " ('approves', 1.7),\n",
              " ('ardent', 2.1),\n",
              " ('arguable', -1.0),\n",
              " ('arguably', -1.0),\n",
              " ('argue', -1.4),\n",
              " ('argued', -1.5),\n",
              " ('arguer', -1.6),\n",
              " ('arguers', -1.4),\n",
              " ('argues', -1.6),\n",
              " ('arguing', -2.0),\n",
              " ('argument', -1.5),\n",
              " ('argumentative', -1.5),\n",
              " ('argumentatively', -1.8),\n",
              " ('argumentive', -1.5),\n",
              " ('arguments', -1.7),\n",
              " ('arrest', -1.4),\n",
              " ('arrested', -2.1),\n",
              " ('arrests', -1.9),\n",
              " ('arrogance', -2.4),\n",
              " ('arrogances', -1.9),\n",
              " ('arrogant', -2.2),\n",
              " ('arrogantly', -1.8),\n",
              " ('ashamed', -2.1),\n",
              " ('ashamedly', -1.7),\n",
              " ('ass', -2.5),\n",
              " ('assassination', -2.9),\n",
              " ('assassinations', -2.7),\n",
              " ('assault', -2.8),\n",
              " ('assaulted', -2.4),\n",
              " ('assaulting', -2.3),\n",
              " ('assaultive', -2.8),\n",
              " ('assaults', -2.5),\n",
              " ('asset', 1.5),\n",
              " ('assets', 0.7),\n",
              " ('assfucking', -2.5),\n",
              " ('assholes', -2.8),\n",
              " ('assurance', 1.4),\n",
              " ('assurances', 1.4),\n",
              " ('assure', 1.4),\n",
              " ('assured', 1.5),\n",
              " ('assuredly', 1.6),\n",
              " ('assuredness', 1.4),\n",
              " ('assurer', 0.9),\n",
              " ('assurers', 1.1),\n",
              " ('assures', 1.3),\n",
              " ('assurgent', 1.3),\n",
              " ('assuring', 1.6),\n",
              " ('assuror', 0.5),\n",
              " ('assurors', 0.7),\n",
              " ('astonished', 1.6),\n",
              " ('astound', 1.7),\n",
              " ('astounded', 1.8),\n",
              " ('astounding', 1.8),\n",
              " ('astoundingly', 2.1),\n",
              " ('astounds', 2.1),\n",
              " ('attachment', 1.2),\n",
              " ('attachments', 1.1),\n",
              " ('attack', -2.1),\n",
              " ('attacked', -2.0),\n",
              " ('attacker', -2.7),\n",
              " ('attackers', -2.7),\n",
              " ('attacking', -2.0),\n",
              " ('attacks', -1.9),\n",
              " ('attract', 1.5),\n",
              " ('attractancy', 0.9),\n",
              " ('attractant', 1.3),\n",
              " ('attractants', 1.4),\n",
              " ('attracted', 1.8),\n",
              " ('attracting', 2.1),\n",
              " ('attraction', 2.0),\n",
              " ('attractions', 1.8),\n",
              " ('attractive', 1.9),\n",
              " ('attractively', 2.2),\n",
              " ('attractiveness', 1.8),\n",
              " ('attractivenesses', 2.1),\n",
              " ('attractor', 1.2),\n",
              " ('attractors', 1.2),\n",
              " ('attracts', 1.7),\n",
              " ('audacious', 0.9),\n",
              " ('authority', 0.3),\n",
              " ('aversion', -1.9),\n",
              " ('aversions', -1.1),\n",
              " ('aversive', -1.6),\n",
              " ('aversively', -0.8),\n",
              " ('avert', -0.7),\n",
              " ('averted', -0.3),\n",
              " ('averts', -0.4),\n",
              " ('avid', 1.2),\n",
              " ('avoid', -1.2),\n",
              " ('avoidance', -1.7),\n",
              " ('avoidances', -1.1),\n",
              " ('avoided', -1.4),\n",
              " ('avoider', -1.8),\n",
              " ('avoiders', -1.4),\n",
              " ('avoiding', -1.4),\n",
              " ('avoids', -0.7),\n",
              " ('await', 0.4),\n",
              " ('awaited', -0.1),\n",
              " ('awaits', 0.3),\n",
              " ('award', 2.5),\n",
              " ('awardable', 2.4),\n",
              " ('awarded', 1.7),\n",
              " ('awardee', 1.8),\n",
              " ('awardees', 1.2),\n",
              " ('awarder', 0.9),\n",
              " ('awarders', 1.3),\n",
              " ('awarding', 1.9),\n",
              " ('awards', 2.0),\n",
              " ('awesome', 3.1),\n",
              " ('awful', -2.0),\n",
              " ('awkward', -0.6),\n",
              " ('awkwardly', -1.3),\n",
              " ('awkwardness', -0.7),\n",
              " ('axe', -0.4),\n",
              " ('axed', -1.3),\n",
              " ('backed', 0.1),\n",
              " ('backing', 0.1),\n",
              " ('backs', -0.2),\n",
              " ('bad', -2.5),\n",
              " ('badass', -0.6),\n",
              " ('badly', -2.1),\n",
              " ('bailout', -0.4),\n",
              " ('bamboozle', -1.5),\n",
              " ('bamboozled', -1.5),\n",
              " ('bamboozles', -1.5),\n",
              " ('ban', -2.6),\n",
              " ('banish', -1.9),\n",
              " ('bankrupt', -2.6),\n",
              " ('bankster', -2.1),\n",
              " ('banned', -2.0),\n",
              " ('bargain', 0.8),\n",
              " ('barrier', -0.5),\n",
              " ('bashful', -0.1),\n",
              " ('bashfully', 0.2),\n",
              " ('bashfulness', -0.8),\n",
              " ('bastard', -2.5),\n",
              " ('bastardies', -1.8),\n",
              " ('bastardise', -2.1),\n",
              " ('bastardised', -2.3),\n",
              " ('bastardises', -2.3),\n",
              " ('bastardising', -2.6),\n",
              " ('bastardization', -2.4),\n",
              " ('bastardizations', -2.1),\n",
              " ('bastardize', -2.4),\n",
              " ('bastardized', -2.0),\n",
              " ('bastardizes', -1.8),\n",
              " ('bastardizing', -2.3),\n",
              " ('bastardly', -2.7),\n",
              " ('bastards', -3.0),\n",
              " ('bastardy', -2.7),\n",
              " ('battle', -1.6),\n",
              " ('battled', -1.2),\n",
              " ('battlefield', -1.6),\n",
              " ('battlefields', -0.9),\n",
              " ('battlefront', -1.2),\n",
              " ('battlefronts', -0.8),\n",
              " ('battleground', -1.7),\n",
              " ('battlegrounds', -0.6),\n",
              " ('battlement', -0.4),\n",
              " ('battlements', -0.4),\n",
              " ('battler', -0.8),\n",
              " ('battlers', -0.2),\n",
              " ('battles', -1.6),\n",
              " ('battleship', -0.1),\n",
              " ('battleships', -0.5),\n",
              " ('battlewagon', -0.3),\n",
              " ('battlewagons', -0.5),\n",
              " ('battling', -1.1),\n",
              " ('beaten', -1.8),\n",
              " ('beatific', 1.8),\n",
              " ('beating', -2.0),\n",
              " ('beaut', 1.6),\n",
              " ('beauteous', 2.5),\n",
              " ('beauteously', 2.6),\n",
              " ('beauteousness', 2.7),\n",
              " ('beautician', 1.2),\n",
              " ('beauticians', 0.4),\n",
              " ...]"
            ]
          },
          "metadata": {},
          "execution_count": 3
        }
      ],
      "source": [
        "### initialize VADER Sentiment Analyzer\n",
        "sid = SentimentIntensityAnalyzer()\n",
        "\n",
        "### access lexicon dictionary\n",
        "vader_lexicon = sid.lexicon\n",
        "\n",
        "### print a sample of the lexicon\n",
        "list(vader_lexicon.items())[:10000]"
      ]
    },
    {
      "cell_type": "code",
      "execution_count": null,
      "metadata": {
        "colab": {
          "base_uri": "https://localhost:8080/"
        },
        "id": "GsneWA827wop",
        "outputId": "5a9d102a-6246-4d4e-881a-588a2bf39210"
      },
      "outputs": [
        {
          "output_type": "stream",
          "name": "stdout",
          "text": [
            "Sentiment score for 'sad': -2.1\n"
          ]
        }
      ],
      "source": [
        "### get sentiment score for specific word\n",
        "word = \"sad\"\n",
        "score = vader_lexicon.get(word)\n",
        "print(f\"Sentiment score for '{word}': {score}\")"
      ]
    },
    {
      "cell_type": "markdown",
      "metadata": {
        "id": "6FpyY2DT9rsz"
      },
      "source": [
        "## 3. Conduct Sentiment Analysis with VADER sentiment analyzer\n",
        "\n"
      ]
    },
    {
      "cell_type": "code",
      "execution_count": null,
      "metadata": {
        "colab": {
          "base_uri": "https://localhost:8080/"
        },
        "id": "BpPb1dgH5kjY",
        "outputId": "c0d6ffec-70c5-49e6-b6d0-be364e9ec342"
      },
      "outputs": [
        {
          "output_type": "stream",
          "name": "stdout",
          "text": [
            "Sentence: I absolutely love this product! It works perfectly.\n",
            "Sentiment Scores: {'neg': 0.0, 'neu': 0.358, 'pos': 0.642, 'compound': 0.8746}\n",
            "\n",
            "Sentence: This was a terrible experience, I would not recommend it to anyone.\n",
            "Sentiment Scores: {'neg': 0.394, 'neu': 0.606, 'pos': 0.0, 'compound': -0.6381}\n",
            "\n",
            "Sentence: The service was okay, not great but not bad either.\n",
            "Sentiment Scores: {'neg': 0.149, 'neu': 0.487, 'pos': 0.364, 'compound': 0.4728}\n",
            "\n",
            "Sentence: Wow, what an amazing day!\n",
            "Sentiment Scores: {'neg': 0.0, 'neu': 0.275, 'pos': 0.725, 'compound': 0.8356}\n",
            "\n",
            "Sentence: I don't think I will buy this again.\n",
            "Sentiment Scores: {'neg': 0.0, 'neu': 1.0, 'pos': 0.0, 'compound': 0.0}\n",
            "\n"
          ]
        }
      ],
      "source": [
        "### initialize VADER sentiment analyzer\n",
        "sia = SentimentIntensityAnalyzer()\n",
        "\n",
        "### example sentences\n",
        "sentences = [\n",
        "    \"I absolutely love this product! It works perfectly.\",\n",
        "    \"This was a terrible experience, I would not recommend it to anyone.\",\n",
        "    \"The service was okay, not great but not bad either.\",\n",
        "    \"Wow, what an amazing day!\",\n",
        "    \"I don't think I will buy this again.\"\n",
        "]\n",
        "\n",
        "\n",
        "### analyze each sentence\n",
        "for sentence in sentences:\n",
        "    sentiment_scores = sia.polarity_scores(sentence)\n",
        "    print(f\"Sentence: {sentence}\")\n",
        "    print(f\"Sentiment Scores: {sentiment_scores}\\n\")\n",
        "\n",
        "### compound: normalized score rangin from -1 to +1"
      ]
    },
    {
      "cell_type": "markdown",
      "metadata": {
        "id": "VM2d47YNCeML"
      },
      "source": [
        "## 4. Explore Sentiment Distribution and Aspect Analysis"
      ]
    },
    {
      "cell_type": "code",
      "execution_count": null,
      "metadata": {
        "colab": {
          "base_uri": "https://localhost:8080/",
          "height": 206
        },
        "id": "Jk1lbOuO2LNF",
        "outputId": "52b1b9b1-b71e-4af3-bd9d-946cb48ae2aa"
      },
      "outputs": [
        {
          "output_type": "execute_result",
          "data": {
            "text/plain": [
              "                                            Sentence  \\\n",
              "0  I absolutely love this product! It works perfe...   \n",
              "1  This was a terrible experience, I would not re...   \n",
              "2  The service was okay, not great but not bad ei...   \n",
              "3                          Wow, what an amazing day!   \n",
              "4               I don't think I will buy this again.   \n",
              "\n",
              "                                  Processed Sentence  Compound Score  \\\n",
              "0  I absolutely love this product! It works perfe...          0.8746   \n",
              "1  This was a terrible experience, I would not re...         -0.6381   \n",
              "2  The service was okay, not great but not bad ei...          0.4728   \n",
              "3                          Wow, what an amazing day!          0.8356   \n",
              "4                 I not think I will buy this again.          0.0000   \n",
              "\n",
              "  Sentiment        Aspect Sentiments  \n",
              "0  Positive      {'product': 0.8746}  \n",
              "1  Negative  {'experience': -0.6381}  \n",
              "2  Positive      {'service': 0.4728}  \n",
              "3  Positive                       {}  \n",
              "4   Neutral                       {}  "
            ],
            "text/html": [
              "\n",
              "  <div id=\"df-d9998a86-e4e1-404b-81a9-739ecf1fdaf0\" class=\"colab-df-container\">\n",
              "    <div>\n",
              "<style scoped>\n",
              "    .dataframe tbody tr th:only-of-type {\n",
              "        vertical-align: middle;\n",
              "    }\n",
              "\n",
              "    .dataframe tbody tr th {\n",
              "        vertical-align: top;\n",
              "    }\n",
              "\n",
              "    .dataframe thead th {\n",
              "        text-align: right;\n",
              "    }\n",
              "</style>\n",
              "<table border=\"1\" class=\"dataframe\">\n",
              "  <thead>\n",
              "    <tr style=\"text-align: right;\">\n",
              "      <th></th>\n",
              "      <th>Sentence</th>\n",
              "      <th>Processed Sentence</th>\n",
              "      <th>Compound Score</th>\n",
              "      <th>Sentiment</th>\n",
              "      <th>Aspect Sentiments</th>\n",
              "    </tr>\n",
              "  </thead>\n",
              "  <tbody>\n",
              "    <tr>\n",
              "      <th>0</th>\n",
              "      <td>I absolutely love this product! It works perfe...</td>\n",
              "      <td>I absolutely love this product! It works perfe...</td>\n",
              "      <td>0.8746</td>\n",
              "      <td>Positive</td>\n",
              "      <td>{'product': 0.8746}</td>\n",
              "    </tr>\n",
              "    <tr>\n",
              "      <th>1</th>\n",
              "      <td>This was a terrible experience, I would not re...</td>\n",
              "      <td>This was a terrible experience, I would not re...</td>\n",
              "      <td>-0.6381</td>\n",
              "      <td>Negative</td>\n",
              "      <td>{'experience': -0.6381}</td>\n",
              "    </tr>\n",
              "    <tr>\n",
              "      <th>2</th>\n",
              "      <td>The service was okay, not great but not bad ei...</td>\n",
              "      <td>The service was okay, not great but not bad ei...</td>\n",
              "      <td>0.4728</td>\n",
              "      <td>Positive</td>\n",
              "      <td>{'service': 0.4728}</td>\n",
              "    </tr>\n",
              "    <tr>\n",
              "      <th>3</th>\n",
              "      <td>Wow, what an amazing day!</td>\n",
              "      <td>Wow, what an amazing day!</td>\n",
              "      <td>0.8356</td>\n",
              "      <td>Positive</td>\n",
              "      <td>{}</td>\n",
              "    </tr>\n",
              "    <tr>\n",
              "      <th>4</th>\n",
              "      <td>I don't think I will buy this again.</td>\n",
              "      <td>I not think I will buy this again.</td>\n",
              "      <td>0.0000</td>\n",
              "      <td>Neutral</td>\n",
              "      <td>{}</td>\n",
              "    </tr>\n",
              "  </tbody>\n",
              "</table>\n",
              "</div>\n",
              "    <div class=\"colab-df-buttons\">\n",
              "\n",
              "  <div class=\"colab-df-container\">\n",
              "    <button class=\"colab-df-convert\" onclick=\"convertToInteractive('df-d9998a86-e4e1-404b-81a9-739ecf1fdaf0')\"\n",
              "            title=\"Convert this dataframe to an interactive table.\"\n",
              "            style=\"display:none;\">\n",
              "\n",
              "  <svg xmlns=\"http://www.w3.org/2000/svg\" height=\"24px\" viewBox=\"0 -960 960 960\">\n",
              "    <path d=\"M120-120v-720h720v720H120Zm60-500h600v-160H180v160Zm220 220h160v-160H400v160Zm0 220h160v-160H400v160ZM180-400h160v-160H180v160Zm440 0h160v-160H620v160ZM180-180h160v-160H180v160Zm440 0h160v-160H620v160Z\"/>\n",
              "  </svg>\n",
              "    </button>\n",
              "\n",
              "  <style>\n",
              "    .colab-df-container {\n",
              "      display:flex;\n",
              "      gap: 12px;\n",
              "    }\n",
              "\n",
              "    .colab-df-convert {\n",
              "      background-color: #E8F0FE;\n",
              "      border: none;\n",
              "      border-radius: 50%;\n",
              "      cursor: pointer;\n",
              "      display: none;\n",
              "      fill: #1967D2;\n",
              "      height: 32px;\n",
              "      padding: 0 0 0 0;\n",
              "      width: 32px;\n",
              "    }\n",
              "\n",
              "    .colab-df-convert:hover {\n",
              "      background-color: #E2EBFA;\n",
              "      box-shadow: 0px 1px 2px rgba(60, 64, 67, 0.3), 0px 1px 3px 1px rgba(60, 64, 67, 0.15);\n",
              "      fill: #174EA6;\n",
              "    }\n",
              "\n",
              "    .colab-df-buttons div {\n",
              "      margin-bottom: 4px;\n",
              "    }\n",
              "\n",
              "    [theme=dark] .colab-df-convert {\n",
              "      background-color: #3B4455;\n",
              "      fill: #D2E3FC;\n",
              "    }\n",
              "\n",
              "    [theme=dark] .colab-df-convert:hover {\n",
              "      background-color: #434B5C;\n",
              "      box-shadow: 0px 1px 3px 1px rgba(0, 0, 0, 0.15);\n",
              "      filter: drop-shadow(0px 1px 2px rgba(0, 0, 0, 0.3));\n",
              "      fill: #FFFFFF;\n",
              "    }\n",
              "  </style>\n",
              "\n",
              "    <script>\n",
              "      const buttonEl =\n",
              "        document.querySelector('#df-d9998a86-e4e1-404b-81a9-739ecf1fdaf0 button.colab-df-convert');\n",
              "      buttonEl.style.display =\n",
              "        google.colab.kernel.accessAllowed ? 'block' : 'none';\n",
              "\n",
              "      async function convertToInteractive(key) {\n",
              "        const element = document.querySelector('#df-d9998a86-e4e1-404b-81a9-739ecf1fdaf0');\n",
              "        const dataTable =\n",
              "          await google.colab.kernel.invokeFunction('convertToInteractive',\n",
              "                                                    [key], {});\n",
              "        if (!dataTable) return;\n",
              "\n",
              "        const docLinkHtml = 'Like what you see? Visit the ' +\n",
              "          '<a target=\"_blank\" href=https://colab.research.google.com/notebooks/data_table.ipynb>data table notebook</a>'\n",
              "          + ' to learn more about interactive tables.';\n",
              "        element.innerHTML = '';\n",
              "        dataTable['output_type'] = 'display_data';\n",
              "        await google.colab.output.renderOutput(dataTable, element);\n",
              "        const docLink = document.createElement('div');\n",
              "        docLink.innerHTML = docLinkHtml;\n",
              "        element.appendChild(docLink);\n",
              "      }\n",
              "    </script>\n",
              "  </div>\n",
              "\n",
              "\n",
              "<div id=\"df-78b925de-56ba-4772-8f00-9ee31d712ce8\">\n",
              "  <button class=\"colab-df-quickchart\" onclick=\"quickchart('df-78b925de-56ba-4772-8f00-9ee31d712ce8')\"\n",
              "            title=\"Suggest charts\"\n",
              "            style=\"display:none;\">\n",
              "\n",
              "<svg xmlns=\"http://www.w3.org/2000/svg\" height=\"24px\"viewBox=\"0 0 24 24\"\n",
              "     width=\"24px\">\n",
              "    <g>\n",
              "        <path d=\"M19 3H5c-1.1 0-2 .9-2 2v14c0 1.1.9 2 2 2h14c1.1 0 2-.9 2-2V5c0-1.1-.9-2-2-2zM9 17H7v-7h2v7zm4 0h-2V7h2v10zm4 0h-2v-4h2v4z\"/>\n",
              "    </g>\n",
              "</svg>\n",
              "  </button>\n",
              "\n",
              "<style>\n",
              "  .colab-df-quickchart {\n",
              "      --bg-color: #E8F0FE;\n",
              "      --fill-color: #1967D2;\n",
              "      --hover-bg-color: #E2EBFA;\n",
              "      --hover-fill-color: #174EA6;\n",
              "      --disabled-fill-color: #AAA;\n",
              "      --disabled-bg-color: #DDD;\n",
              "  }\n",
              "\n",
              "  [theme=dark] .colab-df-quickchart {\n",
              "      --bg-color: #3B4455;\n",
              "      --fill-color: #D2E3FC;\n",
              "      --hover-bg-color: #434B5C;\n",
              "      --hover-fill-color: #FFFFFF;\n",
              "      --disabled-bg-color: #3B4455;\n",
              "      --disabled-fill-color: #666;\n",
              "  }\n",
              "\n",
              "  .colab-df-quickchart {\n",
              "    background-color: var(--bg-color);\n",
              "    border: none;\n",
              "    border-radius: 50%;\n",
              "    cursor: pointer;\n",
              "    display: none;\n",
              "    fill: var(--fill-color);\n",
              "    height: 32px;\n",
              "    padding: 0;\n",
              "    width: 32px;\n",
              "  }\n",
              "\n",
              "  .colab-df-quickchart:hover {\n",
              "    background-color: var(--hover-bg-color);\n",
              "    box-shadow: 0 1px 2px rgba(60, 64, 67, 0.3), 0 1px 3px 1px rgba(60, 64, 67, 0.15);\n",
              "    fill: var(--button-hover-fill-color);\n",
              "  }\n",
              "\n",
              "  .colab-df-quickchart-complete:disabled,\n",
              "  .colab-df-quickchart-complete:disabled:hover {\n",
              "    background-color: var(--disabled-bg-color);\n",
              "    fill: var(--disabled-fill-color);\n",
              "    box-shadow: none;\n",
              "  }\n",
              "\n",
              "  .colab-df-spinner {\n",
              "    border: 2px solid var(--fill-color);\n",
              "    border-color: transparent;\n",
              "    border-bottom-color: var(--fill-color);\n",
              "    animation:\n",
              "      spin 1s steps(1) infinite;\n",
              "  }\n",
              "\n",
              "  @keyframes spin {\n",
              "    0% {\n",
              "      border-color: transparent;\n",
              "      border-bottom-color: var(--fill-color);\n",
              "      border-left-color: var(--fill-color);\n",
              "    }\n",
              "    20% {\n",
              "      border-color: transparent;\n",
              "      border-left-color: var(--fill-color);\n",
              "      border-top-color: var(--fill-color);\n",
              "    }\n",
              "    30% {\n",
              "      border-color: transparent;\n",
              "      border-left-color: var(--fill-color);\n",
              "      border-top-color: var(--fill-color);\n",
              "      border-right-color: var(--fill-color);\n",
              "    }\n",
              "    40% {\n",
              "      border-color: transparent;\n",
              "      border-right-color: var(--fill-color);\n",
              "      border-top-color: var(--fill-color);\n",
              "    }\n",
              "    60% {\n",
              "      border-color: transparent;\n",
              "      border-right-color: var(--fill-color);\n",
              "    }\n",
              "    80% {\n",
              "      border-color: transparent;\n",
              "      border-right-color: var(--fill-color);\n",
              "      border-bottom-color: var(--fill-color);\n",
              "    }\n",
              "    90% {\n",
              "      border-color: transparent;\n",
              "      border-bottom-color: var(--fill-color);\n",
              "    }\n",
              "  }\n",
              "</style>\n",
              "\n",
              "  <script>\n",
              "    async function quickchart(key) {\n",
              "      const quickchartButtonEl =\n",
              "        document.querySelector('#' + key + ' button');\n",
              "      quickchartButtonEl.disabled = true;  // To prevent multiple clicks.\n",
              "      quickchartButtonEl.classList.add('colab-df-spinner');\n",
              "      try {\n",
              "        const charts = await google.colab.kernel.invokeFunction(\n",
              "            'suggestCharts', [key], {});\n",
              "      } catch (error) {\n",
              "        console.error('Error during call to suggestCharts:', error);\n",
              "      }\n",
              "      quickchartButtonEl.classList.remove('colab-df-spinner');\n",
              "      quickchartButtonEl.classList.add('colab-df-quickchart-complete');\n",
              "    }\n",
              "    (() => {\n",
              "      let quickchartButtonEl =\n",
              "        document.querySelector('#df-78b925de-56ba-4772-8f00-9ee31d712ce8 button');\n",
              "      quickchartButtonEl.style.display =\n",
              "        google.colab.kernel.accessAllowed ? 'block' : 'none';\n",
              "    })();\n",
              "  </script>\n",
              "</div>\n",
              "\n",
              "  <div id=\"id_dffdf9fa-e0bf-417d-bbb8-637f7b0316a3\">\n",
              "    <style>\n",
              "      .colab-df-generate {\n",
              "        background-color: #E8F0FE;\n",
              "        border: none;\n",
              "        border-radius: 50%;\n",
              "        cursor: pointer;\n",
              "        display: none;\n",
              "        fill: #1967D2;\n",
              "        height: 32px;\n",
              "        padding: 0 0 0 0;\n",
              "        width: 32px;\n",
              "      }\n",
              "\n",
              "      .colab-df-generate:hover {\n",
              "        background-color: #E2EBFA;\n",
              "        box-shadow: 0px 1px 2px rgba(60, 64, 67, 0.3), 0px 1px 3px 1px rgba(60, 64, 67, 0.15);\n",
              "        fill: #174EA6;\n",
              "      }\n",
              "\n",
              "      [theme=dark] .colab-df-generate {\n",
              "        background-color: #3B4455;\n",
              "        fill: #D2E3FC;\n",
              "      }\n",
              "\n",
              "      [theme=dark] .colab-df-generate:hover {\n",
              "        background-color: #434B5C;\n",
              "        box-shadow: 0px 1px 3px 1px rgba(0, 0, 0, 0.15);\n",
              "        filter: drop-shadow(0px 1px 2px rgba(0, 0, 0, 0.3));\n",
              "        fill: #FFFFFF;\n",
              "      }\n",
              "    </style>\n",
              "    <button class=\"colab-df-generate\" onclick=\"generateWithVariable('df_results')\"\n",
              "            title=\"Generate code using this dataframe.\"\n",
              "            style=\"display:none;\">\n",
              "\n",
              "  <svg xmlns=\"http://www.w3.org/2000/svg\" height=\"24px\"viewBox=\"0 0 24 24\"\n",
              "       width=\"24px\">\n",
              "    <path d=\"M7,19H8.4L18.45,9,17,7.55,7,17.6ZM5,21V16.75L18.45,3.32a2,2,0,0,1,2.83,0l1.4,1.43a1.91,1.91,0,0,1,.58,1.4,1.91,1.91,0,0,1-.58,1.4L9.25,21ZM18.45,9,17,7.55Zm-12,3A5.31,5.31,0,0,0,4.9,8.1,5.31,5.31,0,0,0,1,6.5,5.31,5.31,0,0,0,4.9,4.9,5.31,5.31,0,0,0,6.5,1,5.31,5.31,0,0,0,8.1,4.9,5.31,5.31,0,0,0,12,6.5,5.46,5.46,0,0,0,6.5,12Z\"/>\n",
              "  </svg>\n",
              "    </button>\n",
              "    <script>\n",
              "      (() => {\n",
              "      const buttonEl =\n",
              "        document.querySelector('#id_dffdf9fa-e0bf-417d-bbb8-637f7b0316a3 button.colab-df-generate');\n",
              "      buttonEl.style.display =\n",
              "        google.colab.kernel.accessAllowed ? 'block' : 'none';\n",
              "\n",
              "      buttonEl.onclick = () => {\n",
              "        google.colab.notebook.generateWithVariable('df_results');\n",
              "      }\n",
              "      })();\n",
              "    </script>\n",
              "  </div>\n",
              "\n",
              "    </div>\n",
              "  </div>\n"
            ],
            "application/vnd.google.colaboratory.intrinsic+json": {
              "type": "dataframe",
              "variable_name": "df_results",
              "summary": "{\n  \"name\": \"df_results\",\n  \"rows\": 5,\n  \"fields\": [\n    {\n      \"column\": \"Sentence\",\n      \"properties\": {\n        \"dtype\": \"string\",\n        \"num_unique_values\": 5,\n        \"samples\": [\n          \"This was a terrible experience, I would not recommend it to anyone.\",\n          \"I don't think I will buy this again.\",\n          \"The service was okay, not great but not bad either.\"\n        ],\n        \"semantic_type\": \"\",\n        \"description\": \"\"\n      }\n    },\n    {\n      \"column\": \"Processed Sentence\",\n      \"properties\": {\n        \"dtype\": \"string\",\n        \"num_unique_values\": 5,\n        \"samples\": [\n          \"This was a terrible experience, I would not recommend it to anyone.\",\n          \"I not think I will buy this again.\",\n          \"The service was okay, not great but not bad either.\"\n        ],\n        \"semantic_type\": \"\",\n        \"description\": \"\"\n      }\n    },\n    {\n      \"column\": \"Compound Score\",\n      \"properties\": {\n        \"dtype\": \"number\",\n        \"std\": 0.6357123500452072,\n        \"min\": -0.6381,\n        \"max\": 0.8746,\n        \"num_unique_values\": 5,\n        \"samples\": [\n          -0.6381,\n          0.0,\n          0.4728\n        ],\n        \"semantic_type\": \"\",\n        \"description\": \"\"\n      }\n    },\n    {\n      \"column\": \"Sentiment\",\n      \"properties\": {\n        \"dtype\": \"string\",\n        \"num_unique_values\": 3,\n        \"samples\": [\n          \"Positive\",\n          \"Negative\",\n          \"Neutral\"\n        ],\n        \"semantic_type\": \"\",\n        \"description\": \"\"\n      }\n    },\n    {\n      \"column\": \"Aspect Sentiments\",\n      \"properties\": {\n        \"dtype\": \"object\",\n        \"semantic_type\": \"\",\n        \"description\": \"\"\n      }\n    }\n  ]\n}"
            }
          },
          "metadata": {},
          "execution_count": 6
        }
      ],
      "source": [
        "### Function to preprocess sentences\n",
        "def preprocess_text(text):\n",
        "    text = re.sub(r\"\\b(can't|cannot|don't|didn't|won't|shouldn't|isn't)\\b\", \"not\", text)\n",
        "    return text\n",
        "\n",
        "### Function to classify sentiment based on compound score\n",
        "def classify_sentiment(score):\n",
        "    if score >= 0.05:\n",
        "        return 'Positive'\n",
        "    elif score <= -0.05:\n",
        "        return 'Negative'\n",
        "    else:\n",
        "        return 'Neutral'\n",
        "\n",
        "### Define list of aspects to check in sentences\n",
        "aspects = ['product', 'experience', 'service', 'camera', 'battery', 'support', 'shipping']\n",
        "\n",
        "### Initialize a list to store results\n",
        "results = []\n",
        "\n",
        "### analyze each sentence\n",
        "for sentence in sentences:\n",
        "    processed_sentence = preprocess_text(sentence)\n",
        "    sentiment_scores = sia.polarity_scores(processed_sentence)\n",
        "    sentiment = classify_sentiment(sentiment_scores['compound'])\n",
        "\n",
        "    ### identify aspects mentioned in the sentence\n",
        "    aspect_sentiments = {}\n",
        "    for aspect in aspects:\n",
        "        if aspect in processed_sentence.lower():\n",
        "            ### extract sentiment score specific to aspect\n",
        "            aspect_sentiments[aspect] = sentiment_scores['compound']\n",
        "\n",
        "    ### add results to list\n",
        "    results.append({\n",
        "        'Sentence': sentence,\n",
        "        'Processed Sentence': processed_sentence,\n",
        "        'Compound Score': sentiment_scores['compound'],\n",
        "        'Sentiment': sentiment,\n",
        "        'Aspect Sentiments': aspect_sentiments\n",
        "    })\n",
        "\n",
        "### convert results to a DataFrame for easier analysis\n",
        "df_results = pd.DataFrame(results)\n",
        "df_results"
      ]
    },
    {
      "cell_type": "code",
      "execution_count": null,
      "metadata": {
        "colab": {
          "base_uri": "https://localhost:8080/",
          "height": 651
        },
        "id": "w2aVlw3QBs_t",
        "outputId": "e66e9e2e-32a6-46c8-9d07-e375f8937c89"
      },
      "outputs": [
        {
          "output_type": "stream",
          "name": "stderr",
          "text": [
            "<ipython-input-7-39142b5822a1>:3: FutureWarning: \n",
            "\n",
            "Passing `palette` without assigning `hue` is deprecated and will be removed in v0.14.0. Assign the `x` variable to `hue` and set `legend=False` for the same effect.\n",
            "\n",
            "  sns.countplot(data=df_results, x='Sentiment', palette='viridis')\n"
          ]
        },
        {
          "output_type": "display_data",
          "data": {
            "text/plain": [
              "<Figure size 800x600 with 1 Axes>"
            ],
            "image/png": "[encoded data removed]"
          },
          "metadata": {}
        }
      ],
      "source": [
        "### Sentiment Distribution\n",
        "plt.figure(figsize=(8, 6))\n",
        "sns.countplot(data=df_results, x='Sentiment', palette='viridis')\n",
        "plt.title(\"Sentiment Distribution\")\n",
        "plt.xlabel(\"Sentiment\")\n",
        "plt.ylabel(\"Count\")\n",
        "plt.show()"
      ]
    },
    {
      "cell_type": "markdown",
      "metadata": {
        "id": "Ky0m2X0TB1tD"
      },
      "source": [
        "### Aspect Sentiment Heatmap"
      ]
    },
    {
      "cell_type": "code",
      "execution_count": null,
      "metadata": {
        "colab": {
          "base_uri": "https://localhost:8080/",
          "height": 564
        },
        "id": "kiIcrnopBw3e",
        "outputId": "fa7f635f-4c87-46e2-ac88-40b47e0341e8"
      },
      "outputs": [
        {
          "output_type": "display_data",
          "data": {
            "text/plain": [
              "<Figure size 1000x600 with 2 Axes>"
            ],
            "image/png": "[encoded data removed]"
          },
          "metadata": {}
        }
      ],
      "source": [
        "### Prepare data for heatmap by converting aspect sentiments to DataFrame\n",
        "aspect_data = pd.DataFrame(df_results['Aspect Sentiments'].tolist()).fillna(0)\n",
        "plt.figure(figsize=(10, 6))\n",
        "sns.heatmap(aspect_data, annot=True, cmap='coolwarm', center=0)\n",
        "plt.title(\"Aspect-Based Sentiment Scores Heatmap\")\n",
        "plt.xlabel(\"Aspect\")\n",
        "plt.ylabel(\"Sentence Index\")\n",
        "plt.show()"
      ]
    },
    {
      "cell_type": "markdown",
      "metadata": {
        "id": "GVLS_C9Vhh3u"
      },
      "source": [
        "# **III. Sentiment Analysis with Machine Learning**"
      ]
    },
    {
      "cell_type": "markdown",
      "metadata": {
        "id": "EIMn_mOIDx2T"
      },
      "source": [
        "### 1. Load Data"
      ]
    },
    {
      "cell_type": "code",
      "execution_count": null,
      "metadata": {
        "colab": {
          "base_uri": "https://localhost:8080/"
        },
        "id": "EXtqfv2pzTCo",
        "outputId": "57f4a84f-4c71-4e6c-9ab0-f62878b927d6"
      },
      "outputs": [
        {
          "output_type": "stream",
          "name": "stderr",
          "text": [
            "/usr/local/lib/python3.10/dist-packages/huggingface_hub/utils/_token.py:89: UserWarning: \n",
            "The secret `HF_TOKEN` does not exist in your Colab secrets.\n",
            "To authenticate with the Hugging Face Hub, create a token in your settings tab (https://huggingface.co/settings/tokens), set it as secret in your Google Colab and restart your session.\n",
            "You will be able to reuse this secret in all of your notebooks.\n",
            "Please note that authentication is recommended but still optional to access public models or datasets.\n",
            "  warnings.warn(\n"
          ]
        },
        {
          "output_type": "execute_result",
          "data": {
            "text/plain": [
              "DatasetDict({\n",
              "    train: Dataset({\n",
              "        features: ['label', 'title', 'content'],\n",
              "        num_rows: 3600000\n",
              "    })\n",
              "    test: Dataset({\n",
              "        features: ['label', 'title', 'content'],\n",
              "        num_rows: 400000\n",
              "    })\n",
              "})"
            ]
          },
          "metadata": {},
          "execution_count": 9
        }
      ],
      "source": [
        "from datasets import load_dataset\n",
        "\n",
        "### Load Amazon Polarity dataset\n",
        "dataset = load_dataset(\"amazon_polarity\")\n",
        "dataset"
      ]
    },
    {
      "cell_type": "markdown",
      "metadata": {
        "id": "CU34n-JHEJbY"
      },
      "source": [
        "## 2. Explore Dataset"
      ]
    },
    {
      "cell_type": "code",
      "execution_count": null,
      "metadata": {
        "colab": {
          "base_uri": "https://localhost:8080/"
        },
        "id": "Ae_YP7pJDwc_",
        "outputId": "5d063482-bf48-4bfc-8f3e-fc84b284db03"
      },
      "outputs": [
        {
          "output_type": "stream",
          "name": "stdout",
          "text": [
            "Training Text Sample: [\"All the pretty people in this film. Even the Rudy character played by Michael Madsen. This is adapted from a Jim Thompson novel for cryin' out loud! These are supposed to be marginal characters, not fashion models. Though McQueen and McGraw were attractive (but check out McQueen's crummy prison haircut) they were believable in the role. Baldwin and Bassinger seem like movie stars trying to act like hard cases. Action wise, the robbery scene in the Pekinpah version was about 100 times more exciting and suspenseful than anything in this re-make.\"]\n",
            "Training Label Sample: [0]\n",
            "Test Text Sample: ['The product works fine. I ordered the more exprensive one after I read reviews from others on Amazon. My husband likes the presser. It does a good job pressing his pants. However, it was damaged in the box when we received it. We decided it was too much trouble to send it back. The box was torn and the presser had a chuck knocked out of it.']\n",
            "Test Label Sample: [1]\n"
          ]
        }
      ],
      "source": [
        "### extract train data\n",
        "train_texts = dataset[\"train\"].shuffle(seed=42).select(range(10000))[\"content\"]\n",
        "train_labels = dataset[\"train\"].shuffle(seed=42).select(range(10000))[\"label\"]\n",
        "\n",
        "### extract train data\n",
        "test_texts = dataset[\"test\"].shuffle(seed=42).select(range(1000))[\"content\"]\n",
        "test_labels = dataset[\"test\"].shuffle(seed=42).select(range(1000))[\"label\"]\n",
        "\n",
        "### display sample of subset\n",
        "print(\"Training Text Sample:\", train_texts[:1])\n",
        "print(\"Training Label Sample:\", train_labels[:1])\n",
        "print(\"Test Text Sample:\", test_texts[:1])\n",
        "print(\"Test Label Sample:\", test_labels[:1])\n"
      ]
    },
    {
      "cell_type": "markdown",
      "metadata": {
        "id": "eOnqvEsaMjxm"
      },
      "source": [
        "## 3. Preprocessing Text Data"
      ]
    },
    {
      "cell_type": "code",
      "execution_count": null,
      "metadata": {
        "colab": {
          "base_uri": "https://localhost:8080/"
        },
        "id": "ZmN8bnQbzXtH",
        "outputId": "e1c678a4-d257-4302-a98c-bf169d5ce537"
      },
      "outputs": [
        {
          "output_type": "stream",
          "name": "stderr",
          "text": [
            "/usr/local/lib/python3.10/dist-packages/sklearn/feature_extraction/text.py:521: UserWarning: The parameter 'token_pattern' will not be used since 'tokenizer' is not None'\n",
            "  warnings.warn(\n"
          ]
        }
      ],
      "source": [
        "import re\n",
        "from sklearn.feature_extraction.text import TfidfVectorizer\n",
        "\n",
        "### define custom tokenizer for full preprocessing\n",
        "def custom_tokenizer(text):\n",
        "    text = text.lower()\n",
        "    text = re.sub(r'\\b\\w*\\d\\w*\\b', '', text)\n",
        "    text = re.sub(r'[^\\w\\s]', '', text)\n",
        "    text = re.sub(r'\\s+', ' ', text).strip()\n",
        "    return text.split()\n",
        "\n",
        "### initialize TF-IDF vectorizer\n",
        "vectorizer = TfidfVectorizer(max_features=5000, stop_words=\"english\", tokenizer=custom_tokenizer, lowercase=False)\n",
        "\n",
        "### fit and transform training data, and transform test data\n",
        "X_train = vectorizer.fit_transform(train_texts)\n",
        "X_test = vectorizer.transform(test_texts)"
      ]
    },
    {
      "cell_type": "code",
      "execution_count": null,
      "metadata": {
        "colab": {
          "base_uri": "https://localhost:8080/",
          "height": 423
        },
        "id": "YawjOCFwMb0j",
        "outputId": "0ed2967a-d6d7-43a5-cc1f-2317d301ca67"
      },
      "outputs": [
        {
          "output_type": "execute_result",
          "data": {
            "text/plain": [
              "       aa  abc  abilities  ability      able  absent  absolute  absolutely  \\\n",
              "0     0.0  0.0        0.0      0.0  0.000000     0.0       0.0         0.0   \n",
              "1     0.0  0.0        0.0      0.0  0.000000     0.0       0.0         0.0   \n",
              "2     0.0  0.0        0.0      0.0  0.000000     0.0       0.0         0.0   \n",
              "3     0.0  0.0        0.0      0.0  0.000000     0.0       0.0         0.0   \n",
              "4     0.0  0.0        0.0      0.0  0.000000     0.0       0.0         0.0   \n",
              "...   ...  ...        ...      ...       ...     ...       ...         ...   \n",
              "9995  0.0  0.0        0.0      0.0  0.000000     0.0       0.0         0.0   \n",
              "9996  0.0  0.0        0.0      0.0  0.147806     0.0       0.0         0.0   \n",
              "9997  0.0  0.0        0.0      0.0  0.000000     0.0       0.0         0.0   \n",
              "9998  0.0  0.0        0.0      0.0  0.000000     0.0       0.0         0.0   \n",
              "9999  0.0  0.0        0.0      0.0  0.000000     0.0       0.0         0.0   \n",
              "\n",
              "      absorb  abstract  ...  youve   yr  yrs  zen  zero  zipper  zombie  \\\n",
              "0        0.0       0.0  ...    0.0  0.0  0.0  0.0   0.0     0.0     0.0   \n",
              "1        0.0       0.0  ...    0.0  0.0  0.0  0.0   0.0     0.0     0.0   \n",
              "2        0.0       0.0  ...    0.0  0.0  0.0  0.0   0.0     0.0     0.0   \n",
              "3        0.0       0.0  ...    0.0  0.0  0.0  0.0   0.0     0.0     0.0   \n",
              "4        0.0       0.0  ...    0.0  0.0  0.0  0.0   0.0     0.0     0.0   \n",
              "...      ...       ...  ...    ...  ...  ...  ...   ...     ...     ...   \n",
              "9995     0.0       0.0  ...    0.0  0.0  0.0  0.0   0.0     0.0     0.0   \n",
              "9996     0.0       0.0  ...    0.0  0.0  0.0  0.0   0.0     0.0     0.0   \n",
              "9997     0.0       0.0  ...    0.0  0.0  0.0  0.0   0.0     0.0     0.0   \n",
              "9998     0.0       0.0  ...    0.0  0.0  0.0  0.0   0.0     0.0     0.0   \n",
              "9999     0.0       0.0  ...    0.0  0.0  0.0  0.0   0.0     0.0     0.0   \n",
              "\n",
              "      zombies  zone  zoom  \n",
              "0         0.0   0.0   0.0  \n",
              "1         0.0   0.0   0.0  \n",
              "2         0.0   0.0   0.0  \n",
              "3         0.0   0.0   0.0  \n",
              "4         0.0   0.0   0.0  \n",
              "...       ...   ...   ...  \n",
              "9995      0.0   0.0   0.0  \n",
              "9996      0.0   0.0   0.0  \n",
              "9997      0.0   0.0   0.0  \n",
              "9998      0.0   0.0   0.0  \n",
              "9999      0.0   0.0   0.0  \n",
              "\n",
              "[10000 rows x 5000 columns]"
            ],
            "text/html": [
              "\n",
              "  <div id=\"df-4e95eba7-7b5e-4b3d-bf54-b3e2e98231d1\" class=\"colab-df-container\">\n",
              "    <div>\n",
              "<style scoped>\n",
              "    .dataframe tbody tr th:only-of-type {\n",
              "        vertical-align: middle;\n",
              "    }\n",
              "\n",
              "    .dataframe tbody tr th {\n",
              "        vertical-align: top;\n",
              "    }\n",
              "\n",
              "    .dataframe thead th {\n",
              "        text-align: right;\n",
              "    }\n",
              "</style>\n",
              "<table border=\"1\" class=\"dataframe\">\n",
              "  <thead>\n",
              "    <tr style=\"text-align: right;\">\n",
              "      <th></th>\n",
              "      <th>aa</th>\n",
              "      <th>abc</th>\n",
              "      <th>abilities</th>\n",
              "      <th>ability</th>\n",
              "      <th>able</th>\n",
              "      <th>absent</th>\n",
              "      <th>absolute</th>\n",
              "      <th>absolutely</th>\n",
              "      <th>absorb</th>\n",
              "      <th>abstract</th>\n",
              "      <th>...</th>\n",
              "      <th>youve</th>\n",
              "      <th>yr</th>\n",
              "      <th>yrs</th>\n",
              "      <th>zen</th>\n",
              "      <th>zero</th>\n",
              "      <th>zipper</th>\n",
              "      <th>zombie</th>\n",
              "      <th>zombies</th>\n",
              "      <th>zone</th>\n",
              "      <th>zoom</th>\n",
              "    </tr>\n",
              "  </thead>\n",
              "  <tbody>\n",
              "    <tr>\n",
              "      <th>0</th>\n",
              "      <td>0.0</td>\n",
              "      <td>0.0</td>\n",
              "      <td>0.0</td>\n",
              "      <td>0.0</td>\n",
              "      <td>0.000000</td>\n",
              "      <td>0.0</td>\n",
              "      <td>0.0</td>\n",
              "      <td>0.0</td>\n",
              "      <td>0.0</td>\n",
              "      <td>0.0</td>\n",
              "      <td>...</td>\n",
              "      <td>0.0</td>\n",
              "      <td>0.0</td>\n",
              "      <td>0.0</td>\n",
              "      <td>0.0</td>\n",
              "      <td>0.0</td>\n",
              "      <td>0.0</td>\n",
              "      <td>0.0</td>\n",
              "      <td>0.0</td>\n",
              "      <td>0.0</td>\n",
              "      <td>0.0</td>\n",
              "    </tr>\n",
              "    <tr>\n",
              "      <th>1</th>\n",
              "      <td>0.0</td>\n",
              "      <td>0.0</td>\n",
              "      <td>0.0</td>\n",
              "      <td>0.0</td>\n",
              "      <td>0.000000</td>\n",
              "      <td>0.0</td>\n",
              "      <td>0.0</td>\n",
              "      <td>0.0</td>\n",
              "      <td>0.0</td>\n",
              "      <td>0.0</td>\n",
              "      <td>...</td>\n",
              "      <td>0.0</td>\n",
              "      <td>0.0</td>\n",
              "      <td>0.0</td>\n",
              "      <td>0.0</td>\n",
              "      <td>0.0</td>\n",
              "      <td>0.0</td>\n",
              "      <td>0.0</td>\n",
              "      <td>0.0</td>\n",
              "      <td>0.0</td>\n",
              "      <td>0.0</td>\n",
              "    </tr>\n",
              "    <tr>\n",
              "      <th>2</th>\n",
              "      <td>0.0</td>\n",
              "      <td>0.0</td>\n",
              "      <td>0.0</td>\n",
              "      <td>0.0</td>\n",
              "      <td>0.000000</td>\n",
              "      <td>0.0</td>\n",
              "      <td>0.0</td>\n",
              "      <td>0.0</td>\n",
              "      <td>0.0</td>\n",
              "      <td>0.0</td>\n",
              "      <td>...</td>\n",
              "      <td>0.0</td>\n",
              "      <td>0.0</td>\n",
              "      <td>0.0</td>\n",
              "      <td>0.0</td>\n",
              "      <td>0.0</td>\n",
              "      <td>0.0</td>\n",
              "      <td>0.0</td>\n",
              "      <td>0.0</td>\n",
              "      <td>0.0</td>\n",
              "      <td>0.0</td>\n",
              "    </tr>\n",
              "    <tr>\n",
              "      <th>3</th>\n",
              "      <td>0.0</td>\n",
              "      <td>0.0</td>\n",
              "      <td>0.0</td>\n",
              "      <td>0.0</td>\n",
              "      <td>0.000000</td>\n",
              "      <td>0.0</td>\n",
              "      <td>0.0</td>\n",
              "      <td>0.0</td>\n",
              "      <td>0.0</td>\n",
              "      <td>0.0</td>\n",
              "      <td>...</td>\n",
              "      <td>0.0</td>\n",
              "      <td>0.0</td>\n",
              "      <td>0.0</td>\n",
              "      <td>0.0</td>\n",
              "      <td>0.0</td>\n",
              "      <td>0.0</td>\n",
              "      <td>0.0</td>\n",
              "      <td>0.0</td>\n",
              "      <td>0.0</td>\n",
              "      <td>0.0</td>\n",
              "    </tr>\n",
              "    <tr>\n",
              "      <th>4</th>\n",
              "      <td>0.0</td>\n",
              "      <td>0.0</td>\n",
              "      <td>0.0</td>\n",
              "      <td>0.0</td>\n",
              "      <td>0.000000</td>\n",
              "      <td>0.0</td>\n",
              "      <td>0.0</td>\n",
              "      <td>0.0</td>\n",
              "      <td>0.0</td>\n",
              "      <td>0.0</td>\n",
              "      <td>...</td>\n",
              "      <td>0.0</td>\n",
              "      <td>0.0</td>\n",
              "      <td>0.0</td>\n",
              "      <td>0.0</td>\n",
              "      <td>0.0</td>\n",
              "      <td>0.0</td>\n",
              "      <td>0.0</td>\n",
              "      <td>0.0</td>\n",
              "      <td>0.0</td>\n",
              "      <td>0.0</td>\n",
              "    </tr>\n",
              "    <tr>\n",
              "      <th>...</th>\n",
              "      <td>...</td>\n",
              "      <td>...</td>\n",
              "      <td>...</td>\n",
              "      <td>...</td>\n",
              "      <td>...</td>\n",
              "      <td>...</td>\n",
              "      <td>...</td>\n",
              "      <td>...</td>\n",
              "      <td>...</td>\n",
              "      <td>...</td>\n",
              "      <td>...</td>\n",
              "      <td>...</td>\n",
              "      <td>...</td>\n",
              "      <td>...</td>\n",
              "      <td>...</td>\n",
              "      <td>...</td>\n",
              "      <td>...</td>\n",
              "      <td>...</td>\n",
              "      <td>...</td>\n",
              "      <td>...</td>\n",
              "      <td>...</td>\n",
              "    </tr>\n",
              "    <tr>\n",
              "      <th>9995</th>\n",
              "      <td>0.0</td>\n",
              "      <td>0.0</td>\n",
              "      <td>0.0</td>\n",
              "      <td>0.0</td>\n",
              "      <td>0.000000</td>\n",
              "      <td>0.0</td>\n",
              "      <td>0.0</td>\n",
              "      <td>0.0</td>\n",
              "      <td>0.0</td>\n",
              "      <td>0.0</td>\n",
              "      <td>...</td>\n",
              "      <td>0.0</td>\n",
              "      <td>0.0</td>\n",
              "      <td>0.0</td>\n",
              "      <td>0.0</td>\n",
              "      <td>0.0</td>\n",
              "      <td>0.0</td>\n",
              "      <td>0.0</td>\n",
              "      <td>0.0</td>\n",
              "      <td>0.0</td>\n",
              "      <td>0.0</td>\n",
              "    </tr>\n",
              "    <tr>\n",
              "      <th>9996</th>\n",
              "      <td>0.0</td>\n",
              "      <td>0.0</td>\n",
              "      <td>0.0</td>\n",
              "      <td>0.0</td>\n",
              "      <td>0.147806</td>\n",
              "      <td>0.0</td>\n",
              "      <td>0.0</td>\n",
              "      <td>0.0</td>\n",
              "      <td>0.0</td>\n",
              "      <td>0.0</td>\n",
              "      <td>...</td>\n",
              "      <td>0.0</td>\n",
              "      <td>0.0</td>\n",
              "      <td>0.0</td>\n",
              "      <td>0.0</td>\n",
              "      <td>0.0</td>\n",
              "      <td>0.0</td>\n",
              "      <td>0.0</td>\n",
              "      <td>0.0</td>\n",
              "      <td>0.0</td>\n",
              "      <td>0.0</td>\n",
              "    </tr>\n",
              "    <tr>\n",
              "      <th>9997</th>\n",
              "      <td>0.0</td>\n",
              "      <td>0.0</td>\n",
              "      <td>0.0</td>\n",
              "      <td>0.0</td>\n",
              "      <td>0.000000</td>\n",
              "      <td>0.0</td>\n",
              "      <td>0.0</td>\n",
              "      <td>0.0</td>\n",
              "      <td>0.0</td>\n",
              "      <td>0.0</td>\n",
              "      <td>...</td>\n",
              "      <td>0.0</td>\n",
              "      <td>0.0</td>\n",
              "      <td>0.0</td>\n",
              "      <td>0.0</td>\n",
              "      <td>0.0</td>\n",
              "      <td>0.0</td>\n",
              "      <td>0.0</td>\n",
              "      <td>0.0</td>\n",
              "      <td>0.0</td>\n",
              "      <td>0.0</td>\n",
              "    </tr>\n",
              "    <tr>\n",
              "      <th>9998</th>\n",
              "      <td>0.0</td>\n",
              "      <td>0.0</td>\n",
              "      <td>0.0</td>\n",
              "      <td>0.0</td>\n",
              "      <td>0.000000</td>\n",
              "      <td>0.0</td>\n",
              "      <td>0.0</td>\n",
              "      <td>0.0</td>\n",
              "      <td>0.0</td>\n",
              "      <td>0.0</td>\n",
              "      <td>...</td>\n",
              "      <td>0.0</td>\n",
              "      <td>0.0</td>\n",
              "      <td>0.0</td>\n",
              "      <td>0.0</td>\n",
              "      <td>0.0</td>\n",
              "      <td>0.0</td>\n",
              "      <td>0.0</td>\n",
              "      <td>0.0</td>\n",
              "      <td>0.0</td>\n",
              "      <td>0.0</td>\n",
              "    </tr>\n",
              "    <tr>\n",
              "      <th>9999</th>\n",
              "      <td>0.0</td>\n",
              "      <td>0.0</td>\n",
              "      <td>0.0</td>\n",
              "      <td>0.0</td>\n",
              "      <td>0.000000</td>\n",
              "      <td>0.0</td>\n",
              "      <td>0.0</td>\n",
              "      <td>0.0</td>\n",
              "      <td>0.0</td>\n",
              "      <td>0.0</td>\n",
              "      <td>...</td>\n",
              "      <td>0.0</td>\n",
              "      <td>0.0</td>\n",
              "      <td>0.0</td>\n",
              "      <td>0.0</td>\n",
              "      <td>0.0</td>\n",
              "      <td>0.0</td>\n",
              "      <td>0.0</td>\n",
              "      <td>0.0</td>\n",
              "      <td>0.0</td>\n",
              "      <td>0.0</td>\n",
              "    </tr>\n",
              "  </tbody>\n",
              "</table>\n",
              "<p>10000 rows × 5000 columns</p>\n",
              "</div>\n",
              "    <div class=\"colab-df-buttons\">\n",
              "\n",
              "  <div class=\"colab-df-container\">\n",
              "    <button class=\"colab-df-convert\" onclick=\"convertToInteractive('df-4e95eba7-7b5e-4b3d-bf54-b3e2e98231d1')\"\n",
              "            title=\"Convert this dataframe to an interactive table.\"\n",
              "            style=\"display:none;\">\n",
              "\n",
              "  <svg xmlns=\"http://www.w3.org/2000/svg\" height=\"24px\" viewBox=\"0 -960 960 960\">\n",
              "    <path d=\"M120-120v-720h720v720H120Zm60-500h600v-160H180v160Zm220 220h160v-160H400v160Zm0 220h160v-160H400v160ZM180-400h160v-160H180v160Zm440 0h160v-160H620v160ZM180-180h160v-160H180v160Zm440 0h160v-160H620v160Z\"/>\n",
              "  </svg>\n",
              "    </button>\n",
              "\n",
              "  <style>\n",
              "    .colab-df-container {\n",
              "      display:flex;\n",
              "      gap: 12px;\n",
              "    }\n",
              "\n",
              "    .colab-df-convert {\n",
              "      background-color: #E8F0FE;\n",
              "      border: none;\n",
              "      border-radius: 50%;\n",
              "      cursor: pointer;\n",
              "      display: none;\n",
              "      fill: #1967D2;\n",
              "      height: 32px;\n",
              "      padding: 0 0 0 0;\n",
              "      width: 32px;\n",
              "    }\n",
              "\n",
              "    .colab-df-convert:hover {\n",
              "      background-color: #E2EBFA;\n",
              "      box-shadow: 0px 1px 2px rgba(60, 64, 67, 0.3), 0px 1px 3px 1px rgba(60, 64, 67, 0.15);\n",
              "      fill: #174EA6;\n",
              "    }\n",
              "\n",
              "    .colab-df-buttons div {\n",
              "      margin-bottom: 4px;\n",
              "    }\n",
              "\n",
              "    [theme=dark] .colab-df-convert {\n",
              "      background-color: #3B4455;\n",
              "      fill: #D2E3FC;\n",
              "    }\n",
              "\n",
              "    [theme=dark] .colab-df-convert:hover {\n",
              "      background-color: #434B5C;\n",
              "      box-shadow: 0px 1px 3px 1px rgba(0, 0, 0, 0.15);\n",
              "      filter: drop-shadow(0px 1px 2px rgba(0, 0, 0, 0.3));\n",
              "      fill: #FFFFFF;\n",
              "    }\n",
              "  </style>\n",
              "\n",
              "    <script>\n",
              "      const buttonEl =\n",
              "        document.querySelector('#df-4e95eba7-7b5e-4b3d-bf54-b3e2e98231d1 button.colab-df-convert');\n",
              "      buttonEl.style.display =\n",
              "        google.colab.kernel.accessAllowed ? 'block' : 'none';\n",
              "\n",
              "      async function convertToInteractive(key) {\n",
              "        const element = document.querySelector('#df-4e95eba7-7b5e-4b3d-bf54-b3e2e98231d1');\n",
              "        const dataTable =\n",
              "          await google.colab.kernel.invokeFunction('convertToInteractive',\n",
              "                                                    [key], {});\n",
              "        if (!dataTable) return;\n",
              "\n",
              "        const docLinkHtml = 'Like what you see? Visit the ' +\n",
              "          '<a target=\"_blank\" href=https://colab.research.google.com/notebooks/data_table.ipynb>data table notebook</a>'\n",
              "          + ' to learn more about interactive tables.';\n",
              "        element.innerHTML = '';\n",
              "        dataTable['output_type'] = 'display_data';\n",
              "        await google.colab.output.renderOutput(dataTable, element);\n",
              "        const docLink = document.createElement('div');\n",
              "        docLink.innerHTML = docLinkHtml;\n",
              "        element.appendChild(docLink);\n",
              "      }\n",
              "    </script>\n",
              "  </div>\n",
              "\n",
              "\n",
              "<div id=\"df-002265eb-3845-4fab-9fb7-8dd20005cbe3\">\n",
              "  <button class=\"colab-df-quickchart\" onclick=\"quickchart('df-002265eb-3845-4fab-9fb7-8dd20005cbe3')\"\n",
              "            title=\"Suggest charts\"\n",
              "            style=\"display:none;\">\n",
              "\n",
              "<svg xmlns=\"http://www.w3.org/2000/svg\" height=\"24px\"viewBox=\"0 0 24 24\"\n",
              "     width=\"24px\">\n",
              "    <g>\n",
              "        <path d=\"M19 3H5c-1.1 0-2 .9-2 2v14c0 1.1.9 2 2 2h14c1.1 0 2-.9 2-2V5c0-1.1-.9-2-2-2zM9 17H7v-7h2v7zm4 0h-2V7h2v10zm4 0h-2v-4h2v4z\"/>\n",
              "    </g>\n",
              "</svg>\n",
              "  </button>\n",
              "\n",
              "<style>\n",
              "  .colab-df-quickchart {\n",
              "      --bg-color: #E8F0FE;\n",
              "      --fill-color: #1967D2;\n",
              "      --hover-bg-color: #E2EBFA;\n",
              "      --hover-fill-color: #174EA6;\n",
              "      --disabled-fill-color: #AAA;\n",
              "      --disabled-bg-color: #DDD;\n",
              "  }\n",
              "\n",
              "  [theme=dark] .colab-df-quickchart {\n",
              "      --bg-color: #3B4455;\n",
              "      --fill-color: #D2E3FC;\n",
              "      --hover-bg-color: #434B5C;\n",
              "      --hover-fill-color: #FFFFFF;\n",
              "      --disabled-bg-color: #3B4455;\n",
              "      --disabled-fill-color: #666;\n",
              "  }\n",
              "\n",
              "  .colab-df-quickchart {\n",
              "    background-color: var(--bg-color);\n",
              "    border: none;\n",
              "    border-radius: 50%;\n",
              "    cursor: pointer;\n",
              "    display: none;\n",
              "    fill: var(--fill-color);\n",
              "    height: 32px;\n",
              "    padding: 0;\n",
              "    width: 32px;\n",
              "  }\n",
              "\n",
              "  .colab-df-quickchart:hover {\n",
              "    background-color: var(--hover-bg-color);\n",
              "    box-shadow: 0 1px 2px rgba(60, 64, 67, 0.3), 0 1px 3px 1px rgba(60, 64, 67, 0.15);\n",
              "    fill: var(--button-hover-fill-color);\n",
              "  }\n",
              "\n",
              "  .colab-df-quickchart-complete:disabled,\n",
              "  .colab-df-quickchart-complete:disabled:hover {\n",
              "    background-color: var(--disabled-bg-color);\n",
              "    fill: var(--disabled-fill-color);\n",
              "    box-shadow: none;\n",
              "  }\n",
              "\n",
              "  .colab-df-spinner {\n",
              "    border: 2px solid var(--fill-color);\n",
              "    border-color: transparent;\n",
              "    border-bottom-color: var(--fill-color);\n",
              "    animation:\n",
              "      spin 1s steps(1) infinite;\n",
              "  }\n",
              "\n",
              "  @keyframes spin {\n",
              "    0% {\n",
              "      border-color: transparent;\n",
              "      border-bottom-color: var(--fill-color);\n",
              "      border-left-color: var(--fill-color);\n",
              "    }\n",
              "    20% {\n",
              "      border-color: transparent;\n",
              "      border-left-color: var(--fill-color);\n",
              "      border-top-color: var(--fill-color);\n",
              "    }\n",
              "    30% {\n",
              "      border-color: transparent;\n",
              "      border-left-color: var(--fill-color);\n",
              "      border-top-color: var(--fill-color);\n",
              "      border-right-color: var(--fill-color);\n",
              "    }\n",
              "    40% {\n",
              "      border-color: transparent;\n",
              "      border-right-color: var(--fill-color);\n",
              "      border-top-color: var(--fill-color);\n",
              "    }\n",
              "    60% {\n",
              "      border-color: transparent;\n",
              "      border-right-color: var(--fill-color);\n",
              "    }\n",
              "    80% {\n",
              "      border-color: transparent;\n",
              "      border-right-color: var(--fill-color);\n",
              "      border-bottom-color: var(--fill-color);\n",
              "    }\n",
              "    90% {\n",
              "      border-color: transparent;\n",
              "      border-bottom-color: var(--fill-color);\n",
              "    }\n",
              "  }\n",
              "</style>\n",
              "\n",
              "  <script>\n",
              "    async function quickchart(key) {\n",
              "      const quickchartButtonEl =\n",
              "        document.querySelector('#' + key + ' button');\n",
              "      quickchartButtonEl.disabled = true;  // To prevent multiple clicks.\n",
              "      quickchartButtonEl.classList.add('colab-df-spinner');\n",
              "      try {\n",
              "        const charts = await google.colab.kernel.invokeFunction(\n",
              "            'suggestCharts', [key], {});\n",
              "      } catch (error) {\n",
              "        console.error('Error during call to suggestCharts:', error);\n",
              "      }\n",
              "      quickchartButtonEl.classList.remove('colab-df-spinner');\n",
              "      quickchartButtonEl.classList.add('colab-df-quickchart-complete');\n",
              "    }\n",
              "    (() => {\n",
              "      let quickchartButtonEl =\n",
              "        document.querySelector('#df-002265eb-3845-4fab-9fb7-8dd20005cbe3 button');\n",
              "      quickchartButtonEl.style.display =\n",
              "        google.colab.kernel.accessAllowed ? 'block' : 'none';\n",
              "    })();\n",
              "  </script>\n",
              "</div>\n",
              "\n",
              "  <div id=\"id_898558b3-aa88-4eb1-9531-dbbce2d45170\">\n",
              "    <style>\n",
              "      .colab-df-generate {\n",
              "        background-color: #E8F0FE;\n",
              "        border: none;\n",
              "        border-radius: 50%;\n",
              "        cursor: pointer;\n",
              "        display: none;\n",
              "        fill: #1967D2;\n",
              "        height: 32px;\n",
              "        padding: 0 0 0 0;\n",
              "        width: 32px;\n",
              "      }\n",
              "\n",
              "      .colab-df-generate:hover {\n",
              "        background-color: #E2EBFA;\n",
              "        box-shadow: 0px 1px 2px rgba(60, 64, 67, 0.3), 0px 1px 3px 1px rgba(60, 64, 67, 0.15);\n",
              "        fill: #174EA6;\n",
              "      }\n",
              "\n",
              "      [theme=dark] .colab-df-generate {\n",
              "        background-color: #3B4455;\n",
              "        fill: #D2E3FC;\n",
              "      }\n",
              "\n",
              "      [theme=dark] .colab-df-generate:hover {\n",
              "        background-color: #434B5C;\n",
              "        box-shadow: 0px 1px 3px 1px rgba(0, 0, 0, 0.15);\n",
              "        filter: drop-shadow(0px 1px 2px rgba(0, 0, 0, 0.3));\n",
              "        fill: #FFFFFF;\n",
              "      }\n",
              "    </style>\n",
              "    <button class=\"colab-df-generate\" onclick=\"generateWithVariable('df_tfidf')\"\n",
              "            title=\"Generate code using this dataframe.\"\n",
              "            style=\"display:none;\">\n",
              "\n",
              "  <svg xmlns=\"http://www.w3.org/2000/svg\" height=\"24px\"viewBox=\"0 0 24 24\"\n",
              "       width=\"24px\">\n",
              "    <path d=\"M7,19H8.4L18.45,9,17,7.55,7,17.6ZM5,21V16.75L18.45,3.32a2,2,0,0,1,2.83,0l1.4,1.43a1.91,1.91,0,0,1,.58,1.4,1.91,1.91,0,0,1-.58,1.4L9.25,21ZM18.45,9,17,7.55Zm-12,3A5.31,5.31,0,0,0,4.9,8.1,5.31,5.31,0,0,0,1,6.5,5.31,5.31,0,0,0,4.9,4.9,5.31,5.31,0,0,0,6.5,1,5.31,5.31,0,0,0,8.1,4.9,5.31,5.31,0,0,0,12,6.5,5.46,5.46,0,0,0,6.5,12Z\"/>\n",
              "  </svg>\n",
              "    </button>\n",
              "    <script>\n",
              "      (() => {\n",
              "      const buttonEl =\n",
              "        document.querySelector('#id_898558b3-aa88-4eb1-9531-dbbce2d45170 button.colab-df-generate');\n",
              "      buttonEl.style.display =\n",
              "        google.colab.kernel.accessAllowed ? 'block' : 'none';\n",
              "\n",
              "      buttonEl.onclick = () => {\n",
              "        google.colab.notebook.generateWithVariable('df_tfidf');\n",
              "      }\n",
              "      })();\n",
              "    </script>\n",
              "  </div>\n",
              "\n",
              "    </div>\n",
              "  </div>\n"
            ],
            "application/vnd.google.colaboratory.intrinsic+json": {
              "type": "dataframe",
              "variable_name": "df_tfidf"
            }
          },
          "metadata": {},
          "execution_count": 12
        }
      ],
      "source": [
        "import pandas as pd\n",
        "\n",
        "\n",
        "### Convert TF-IDF matrix to dense format and create DataFrame\n",
        "X_train_dense = X_train.toarray()  # Convert sparse matrix to dense array\n",
        "df_tfidf = pd.DataFrame(X_train_dense, columns=vectorizer.get_feature_names_out())\n",
        "\n",
        "### Display the first few rows of the DataFrame\n",
        "df_tfidf"
      ]
    },
    {
      "cell_type": "markdown",
      "metadata": {
        "id": "Mic93q3uPv2p"
      },
      "source": [
        "## 4. Develop Machine Learning Models\n",
        "\n",
        "1. Logistic Regression\n",
        "2. Support Vector Machines\n",
        "3. Naive Bayes model\n",
        "4. Model Optimization"
      ]
    },
    {
      "cell_type": "markdown",
      "metadata": {
        "id": "ulxtZDvnQLug"
      },
      "source": [
        "### 4.1: Logistic Regression"
      ]
    },
    {
      "cell_type": "code",
      "execution_count": null,
      "metadata": {
        "colab": {
          "base_uri": "https://localhost:8080/"
        },
        "id": "ZGPjHNqSzaH1",
        "outputId": "9635233b-f25c-409f-c0bf-01f6cd7807c8"
      },
      "outputs": [
        {
          "output_type": "stream",
          "name": "stdout",
          "text": [
            "Logistic Regression Accuracy: 0.827\n",
            "Logistic Regression Classification Report:\n",
            "               precision    recall  f1-score   support\n",
            "\n",
            "           0       0.83      0.81      0.82       487\n",
            "           1       0.82      0.84      0.83       513\n",
            "\n",
            "    accuracy                           0.83      1000\n",
            "   macro avg       0.83      0.83      0.83      1000\n",
            "weighted avg       0.83      0.83      0.83      1000\n",
            "\n"
          ]
        }
      ],
      "source": [
        "from sklearn.linear_model import LogisticRegression\n",
        "from sklearn.metrics import accuracy_score, classification_report\n",
        "\n",
        "### initialize and train Logistic Regression model\n",
        "lr_model = LogisticRegression(max_iter=1000)\n",
        "lr_model.fit(X_train, train_labels)\n",
        "\n",
        "### predict on test set\n",
        "lr_predictions = lr_model.predict(X_test)\n",
        "\n",
        "### Evaluate Logistic Regression model\n",
        "print(\"Logistic Regression Accuracy:\", accuracy_score(test_labels, lr_predictions))\n",
        "print(\"Logistic Regression Classification Report:\\n\", classification_report(test_labels, lr_predictions))"
      ]
    },
    {
      "cell_type": "markdown",
      "metadata": {
        "id": "4-cZB71aQgQa"
      },
      "source": [
        "### 4.2: Support Vector Machines"
      ]
    },
    {
      "cell_type": "code",
      "execution_count": null,
      "metadata": {
        "colab": {
          "base_uri": "https://localhost:8080/"
        },
        "id": "sP3avKYbzeba",
        "outputId": "4db47a24-87b4-43b4-8f2f-f8f81e6e7da0"
      },
      "outputs": [
        {
          "output_type": "stream",
          "name": "stdout",
          "text": [
            "SVM Accuracy: 0.834\n",
            "SVM Classification Report:\n",
            "               precision    recall  f1-score   support\n",
            "\n",
            "           0       0.84      0.82      0.83       487\n",
            "           1       0.83      0.85      0.84       513\n",
            "\n",
            "    accuracy                           0.83      1000\n",
            "   macro avg       0.83      0.83      0.83      1000\n",
            "weighted avg       0.83      0.83      0.83      1000\n",
            "\n"
          ]
        }
      ],
      "source": [
        "from sklearn.svm import SVC\n",
        "\n",
        "### initialize and train the SVM model\n",
        "svm_model = SVC(kernel='linear')\n",
        "svm_model.fit(X_train, train_labels)\n",
        "\n",
        "### predict on test set\n",
        "svm_predictions = svm_model.predict(X_test)\n",
        "\n",
        "### evaluate SVM model\n",
        "print(\"SVM Accuracy:\", accuracy_score(test_labels, svm_predictions))\n",
        "print(\"SVM Classification Report:\\n\", classification_report(test_labels, svm_predictions))"
      ]
    },
    {
      "cell_type": "markdown",
      "metadata": {
        "id": "ShboMIuXQvqS"
      },
      "source": [
        "### 4.3. Naive Bayes model"
      ]
    },
    {
      "cell_type": "code",
      "execution_count": null,
      "metadata": {
        "colab": {
          "base_uri": "https://localhost:8080/"
        },
        "id": "JpILjYU7zg3w",
        "outputId": "d1d169e8-1211-4181-8ad8-43c523267153"
      },
      "outputs": [
        {
          "output_type": "stream",
          "name": "stdout",
          "text": [
            "Naive Bayes Accuracy: 0.811\n",
            "Naive Bayes Classification Report:\n",
            "               precision    recall  f1-score   support\n",
            "\n",
            "           0       0.81      0.80      0.81       487\n",
            "           1       0.81      0.82      0.82       513\n",
            "\n",
            "    accuracy                           0.81      1000\n",
            "   macro avg       0.81      0.81      0.81      1000\n",
            "weighted avg       0.81      0.81      0.81      1000\n",
            "\n"
          ]
        }
      ],
      "source": [
        "from sklearn.naive_bayes import MultinomialNB\n",
        "\n",
        "### initialize and train Naive Bayes model\n",
        "nb_model = MultinomialNB()\n",
        "nb_model.fit(X_train, train_labels)\n",
        "\n",
        "### predict on test set\n",
        "nb_predictions = nb_model.predict(X_test)\n",
        "\n",
        "### evaluate Naive Bayes model\n",
        "print(\"Naive Bayes Accuracy:\", accuracy_score(test_labels, nb_predictions))\n",
        "print(\"Naive Bayes Classification Report:\\n\", classification_report(test_labels, nb_predictions))"
      ]
    },
    {
      "cell_type": "markdown",
      "metadata": {
        "id": "xQS0KFfiRUdw"
      },
      "source": [
        "### 4.4. Model Optimization"
      ]
    },
    {
      "cell_type": "code",
      "execution_count": null,
      "metadata": {
        "colab": {
          "base_uri": "https://localhost:8080/"
        },
        "id": "T6OQEjIvzjrh",
        "outputId": "b7bcb731-b106-4685-8ea1-ba4f115ba014"
      },
      "outputs": [
        {
          "output_type": "stream",
          "name": "stdout",
          "text": [
            "Best parameters for Logistic Regression: {'C': 1}\n"
          ]
        }
      ],
      "source": [
        "from sklearn.model_selection import GridSearchCV\n",
        "\n",
        "### Define parameter grid\n",
        "param_grid = {'C': [0.01, 0.1, 1, 10, 100]}\n",
        "grid_search = GridSearchCV(LogisticRegression(max_iter=1000), param_grid, cv=3)\n",
        "grid_search.fit(X_train, train_labels)\n",
        "\n",
        "### Display best parameters\n",
        "print(\"Best parameters for Logistic Regression:\", grid_search.best_params_)\n",
        "\n",
        "optimized_lr_model = grid_search.best_estimator_"
      ]
    },
    {
      "cell_type": "code",
      "execution_count": null,
      "metadata": {
        "id": "V0m1D60s0rco"
      },
      "outputs": [],
      "source": [
        "from sklearn.metrics import confusion_matrix, roc_auc_score, roc_curve\n",
        "\n",
        "### Predict on the test set\n",
        "optimized_lr_predictions = optimized_lr_model.predict(X_test)\n",
        "optimized_lr_probabilities = optimized_lr_model.predict_proba(X_test)[:, 1]\n"
      ]
    },
    {
      "cell_type": "code",
      "execution_count": null,
      "metadata": {
        "colab": {
          "base_uri": "https://localhost:8080/",
          "height": 564
        },
        "id": "3ClGO3NU0sSG",
        "outputId": "feaa43f5-c823-4835-d5e8-70ddd14d10d7"
      },
      "outputs": [
        {
          "output_type": "display_data",
          "data": {
            "text/plain": [
              "<Figure size 600x600 with 1 Axes>"
            ],
            "image/png": "[encoded data removed]"
          },
          "metadata": {}
        }
      ],
      "source": [
        "from sklearn.metrics import ConfusionMatrixDisplay\n",
        "\n",
        "### generate confusion matrix\n",
        "cm = confusion_matrix(test_labels, optimized_lr_predictions)\n",
        "\n",
        "### plot confusion matrix\n",
        "plt.figure(figsize=(6, 6))\n",
        "sns.heatmap(cm, annot=True, fmt=\"d\", cmap=\"Blues\", cbar=False, square=True)\n",
        "plt.title(\"Confusion Matrix\")\n",
        "plt.xlabel(\"Predicted Label\")\n",
        "plt.ylabel(\"True Label\")\n",
        "plt.show()"
      ]
    },
    {
      "cell_type": "code",
      "execution_count": null,
      "metadata": {
        "colab": {
          "base_uri": "https://localhost:8080/",
          "height": 564
        },
        "id": "0qjYOzZm0uJn",
        "outputId": "0b431659-f903-4217-f42c-61a9e8d70e0e"
      },
      "outputs": [
        {
          "output_type": "display_data",
          "data": {
            "text/plain": [
              "<Figure size 800x600 with 1 Axes>"
            ],
            "image/png": "[encoded data removed]"
          },
          "metadata": {}
        }
      ],
      "source": [
        "from sklearn.metrics import roc_curve, auc\n",
        "\n",
        "### calculate ROC curve and AUC score\n",
        "fpr, tpr, thresholds = roc_curve(test_labels, optimized_lr_probabilities)\n",
        "roc_auc = auc(fpr, tpr)\n",
        "\n",
        "### plot ROC curve\n",
        "plt.figure(figsize=(8, 6))\n",
        "plt.plot(fpr, tpr, label=f'Logistic Regression (AUC = {roc_auc:.2f})')\n",
        "plt.plot([0, 1], [0, 1], color='grey', linestyle='--')  # Diagonal line for reference\n",
        "plt.xlabel(\"False Positive Rate\")\n",
        "plt.ylabel(\"True Positive Rate\")\n",
        "plt.title(\"ROC Curve\")\n",
        "plt.legend(loc=\"lower right\")\n",
        "plt.show()"
      ]
    },
    {
      "cell_type": "code",
      "execution_count": null,
      "metadata": {
        "colab": {
          "base_uri": "https://localhost:8080/",
          "height": 564
        },
        "id": "yJLBPV480yvu",
        "outputId": "400377f7-3ad9-4406-ffb2-4a29db5e2a75"
      },
      "outputs": [
        {
          "output_type": "display_data",
          "data": {
            "text/plain": [
              "<Figure size 800x600 with 1 Axes>"
            ],
            "image/png": "[encoded data removed]"
          },
          "metadata": {}
        }
      ],
      "source": [
        "from sklearn.metrics import precision_recall_curve\n",
        "\n",
        "### calculate Precision-Recall curve\n",
        "precision, recall, _ = precision_recall_curve(test_labels, optimized_lr_probabilities)\n",
        "\n",
        "### plot Precision-Recall curve\n",
        "plt.figure(figsize=(8, 6))\n",
        "plt.plot(recall, precision, label='Logistic Regression')\n",
        "plt.xlabel(\"Recall\")\n",
        "plt.ylabel(\"Precision\")\n",
        "plt.title(\"Precision-Recall Curve\")\n",
        "plt.legend(loc=\"best\")\n",
        "plt.show()"
      ]
    },
    {
      "cell_type": "markdown",
      "metadata": {
        "id": "AuE47Glfl6jX"
      },
      "source": [
        "# **III. Sentiment Analysis with Deep Learning from Hugging Face Models**"
      ]
    },
    {
      "cell_type": "markdown",
      "metadata": {
        "id": "G8WKOYtB2TL3"
      },
      "source": [
        "## 1. Sentiment Analysis with Pipeline"
      ]
    },
    {
      "cell_type": "code",
      "execution_count": null,
      "metadata": {
        "colab": {
          "base_uri": "https://localhost:8080/"
        },
        "id": "-5Kezmi7lExQ",
        "outputId": "d1febbbe-abee-4562-8d30-27029774be4f"
      },
      "outputs": [
        {
          "output_type": "stream",
          "name": "stdout",
          "text": [
            "Requirement already satisfied: emoji==0.6.0 in /usr/local/lib/python3.10/dist-packages (0.6.0)\n"
          ]
        }
      ],
      "source": [
        "### Install dependencies\n",
        "\n",
        "!pip install -q transformers\n",
        "!pip install emoji==0.6.0"
      ]
    },
    {
      "cell_type": "code",
      "execution_count": null,
      "metadata": {
        "colab": {
          "base_uri": "https://localhost:8080/"
        },
        "id": "xJVNNe6Rjf5K",
        "outputId": "110d673b-37ee-4d9b-8440-e5d368f34d46"
      },
      "outputs": [
        {
          "output_type": "stream",
          "name": "stderr",
          "text": [
            "No model was supplied, defaulted to distilbert/distilbert-base-uncased-finetuned-sst-2-english and revision af0f99b (https://huggingface.co/distilbert/distilbert-base-uncased-finetuned-sst-2-english).\n",
            "Using a pipeline without specifying a model name and revision in production is not recommended.\n",
            "/usr/local/lib/python3.10/dist-packages/transformers/tokenization_utils_base.py:1601: FutureWarning: `clean_up_tokenization_spaces` was not set. It will be set to `True` by default. This behavior will be depracted in transformers v4.45, and will be then set to `False` by default. For more details check this issue: https://github.com/huggingface/transformers/issues/31884\n",
            "  warnings.warn(\n",
            "Hardware accelerator e.g. GPU is available in the environment, but no `device` argument is passed to the `Pipeline` object. Model will be on CPU.\n"
          ]
        },
        {
          "output_type": "execute_result",
          "data": {
            "text/plain": [
              "[{'label': 'POSITIVE', 'score': 0.9998656511306763},\n",
              " {'label': 'NEGATIVE', 'score': 0.9991129040718079}]"
            ]
          },
          "metadata": {},
          "execution_count": 22
        }
      ],
      "source": [
        "### Sentiment Analysis with Pipeline without naming model\n",
        "\n",
        "from transformers import pipeline\n",
        "sentiment_pipeline = pipeline(\"sentiment-analysis\")\n",
        "data = [\"I love you\", \"I hate you\"]\n",
        "sentiment_pipeline(data)"
      ]
    },
    {
      "cell_type": "code",
      "execution_count": null,
      "metadata": {
        "colab": {
          "base_uri": "https://localhost:8080/"
        },
        "id": "AvO6t5tdkhXK",
        "outputId": "cd1d789f-a82e-4d9d-d859-cb5d15a08bd6"
      },
      "outputs": [
        {
          "output_type": "stream",
          "name": "stderr",
          "text": [
            "Hardware accelerator e.g. GPU is available in the environment, but no `device` argument is passed to the `Pipeline` object. Model will be on CPU.\n"
          ]
        },
        {
          "output_type": "execute_result",
          "data": {
            "text/plain": [
              "[{'label': 'POSITIVE', 'score': 0.9998656511306763},\n",
              " {'label': 'NEGATIVE', 'score': 0.9991129040718079}]"
            ]
          },
          "metadata": {},
          "execution_count": 23
        }
      ],
      "source": [
        "### specify model\n",
        "sentiment_pipeline = pipeline(\"sentiment-analysis\", model=\"distilbert-base-uncased-finetuned-sst-2-english\")\n",
        "sentiment_pipeline(data)"
      ]
    },
    {
      "cell_type": "code",
      "execution_count": null,
      "metadata": {
        "colab": {
          "base_uri": "https://localhost:8080/"
        },
        "id": "wHn2BdAb3SiE",
        "outputId": "6700737f-85f2-4eda-bd7b-b66f7b9e7df2"
      },
      "outputs": [
        {
          "output_type": "stream",
          "name": "stderr",
          "text": [
            "Hardware accelerator e.g. GPU is available in the environment, but no `device` argument is passed to the `Pipeline` object. Model will be on CPU.\n"
          ]
        },
        {
          "output_type": "execute_result",
          "data": {
            "text/plain": [
              "[{'label': '5 stars', 'score': 0.6946435570716858},\n",
              " {'label': '4 stars', 'score': 0.42733249068260193},\n",
              " {'label': '1 star', 'score': 0.5042691826820374}]"
            ]
          },
          "metadata": {},
          "execution_count": 24
        }
      ],
      "source": [
        "### Let's Use Multilingual sentiment analysis model\n",
        "sentiment_pipeline = pipeline(\"sentiment-analysis\", model=\"nlptown/bert-base-multilingual-uncased-sentiment\")\n",
        "data = [\"Esto es increíble\",  \"Es un producto aceptable\", \"No me gusta este producto\"]\n",
        "sentiment_pipeline(data)"
      ]
    },
    {
      "cell_type": "code",
      "execution_count": null,
      "metadata": {
        "colab": {
          "base_uri": "https://localhost:8080/"
        },
        "id": "vQmLkvxo_HIS",
        "outputId": "5ef4b3bf-cde2-457e-85c9-71d59883f9ff"
      },
      "outputs": [
        {
          "output_type": "stream",
          "name": "stderr",
          "text": [
            "Hardware accelerator e.g. GPU is available in the environment, but no `device` argument is passed to the `Pipeline` object. Model will be on CPU.\n"
          ]
        },
        {
          "output_type": "execute_result",
          "data": {
            "text/plain": [
              "[{'label': 'NEG', 'score': 0.5145782232284546},\n",
              " {'label': 'NEG', 'score': 0.9302881360054016}]"
            ]
          },
          "metadata": {},
          "execution_count": 25
        }
      ],
      "source": [
        "### Specify Spanish Sentiment Analysis Model\n",
        "sentiment_pipeline = pipeline(\"sentiment-analysis\", model=\"pysentimiento/robertuito-sentiment-analysis\")\n",
        "data = [\"Esto es increíble\", \"No me gusta este producto\"]\n",
        "sentiment_pipeline(data)\n",
        "\n",
        "\n",
        "### https://huggingface.co/pysentimiento/robertuito-sentiment-analysis"
      ]
    },
    {
      "cell_type": "code",
      "execution_count": null,
      "metadata": {
        "colab": {
          "base_uri": "https://localhost:8080/"
        },
        "id": "CQygeF5t_gSy",
        "outputId": "ca8a8b00-8196-4890-fef6-669f65551e4d"
      },
      "outputs": [
        {
          "output_type": "stream",
          "name": "stderr",
          "text": [
            "Hardware accelerator e.g. GPU is available in the environment, but no `device` argument is passed to the `Pipeline` object. Model will be on CPU.\n"
          ]
        },
        {
          "output_type": "execute_result",
          "data": {
            "text/plain": [
              "[{'label': 'POS', 'score': 0.9927613735198975},\n",
              " {'label': 'NEG', 'score': 0.9987087249755859}]"
            ]
          },
          "metadata": {},
          "execution_count": 26
        }
      ],
      "source": [
        "### Let's Use Another Model for Spanish\n",
        "sentiment_pipeline = pipeline(\"sentiment-analysis\", model=\"finiteautomata/beto-sentiment-analysis\")\n",
        "data = [\"Esto es increíble\", \"No me gusta este producto\"]\n",
        "sentiment_pipeline(data)"
      ]
    },
    {
      "cell_type": "code",
      "execution_count": null,
      "metadata": {
        "colab": {
          "base_uri": "https://localhost:8080/"
        },
        "id": "CJCze5O1kJoW",
        "outputId": "ebf9eaf6-f0e3-43d9-958d-4d65fadd2922"
      },
      "outputs": [
        {
          "output_type": "stream",
          "name": "stderr",
          "text": [
            "Hardware accelerator e.g. GPU is available in the environment, but no `device` argument is passed to the `Pipeline` object. Model will be on CPU.\n"
          ]
        },
        {
          "output_type": "execute_result",
          "data": {
            "text/plain": [
              "[{'label': 'POS', 'score': 0.9916695356369019},\n",
              " {'label': 'NEG', 'score': 0.9806600213050842}]"
            ]
          },
          "metadata": {},
          "execution_count": 27
        }
      ],
      "source": [
        "### choose model for tweets\n",
        "specific_model = pipeline(model=\"finiteautomata/bertweet-base-sentiment-analysis\")\n",
        "data = [\"I love you\", \"I hate you\"]\n",
        "specific_model(data)"
      ]
    },
    {
      "cell_type": "code",
      "execution_count": null,
      "metadata": {
        "colab": {
          "base_uri": "https://localhost:8080/"
        },
        "id": "b5sJIs9-lLrL",
        "outputId": "66f6e95d-540d-4614-bb87-7126a5e3620d"
      },
      "outputs": [
        {
          "output_type": "stream",
          "name": "stderr",
          "text": [
            "Hardware accelerator e.g. GPU is available in the environment, but no `device` argument is passed to the `Pipeline` object. Model will be on CPU.\n"
          ]
        },
        {
          "output_type": "execute_result",
          "data": {
            "text/plain": [
              "[{'label': 'POS', 'score': 0.9921872615814209},\n",
              " {'label': 'NEG', 'score': 0.9819661378860474}]"
            ]
          },
          "metadata": {},
          "execution_count": 28
        }
      ],
      "source": [
        "### model with emojis\n",
        "specific_model = pipeline(\"sentiment-analysis\", model=\"finiteautomata/bertweet-base-sentiment-analysis\")\n",
        "data = [\"I love 😊😊😊\", \"I hate you 😠😠😠\"]\n",
        "specific_model(data)"
      ]
    },
    {
      "cell_type": "code",
      "execution_count": null,
      "metadata": {
        "id": "md0strEBgJTh",
        "colab": {
          "base_uri": "https://localhost:8080/"
        },
        "outputId": "472c6527-8ac2-4551-89c1-ccb6ff9528cd"
      },
      "outputs": [
        {
          "output_type": "stream",
          "name": "stderr",
          "text": [
            "Hardware accelerator e.g. GPU is available in the environment, but no `device` argument is passed to the `Pipeline` object. Model will be on CPU.\n"
          ]
        },
        {
          "output_type": "stream",
          "name": "stdout",
          "text": [
            "[{'label': 'Negative', 'score': 0.9966173768043518}, {'label': 'Positive', 'score': 1.0}, {'label': 'Negative', 'score': 0.9999710321426392}, {'label': 'Neutral', 'score': 0.9889442920684814}]\n"
          ]
        }
      ],
      "source": [
        "### For specific Area: Financial Analysis\n",
        "\n",
        "from transformers import BertTokenizer, BertForSequenceClassification\n",
        "finbert = BertForSequenceClassification.from_pretrained('yiyanghkust/finbert-tone',num_labels=3)\n",
        "tokenizer = BertTokenizer.from_pretrained('yiyanghkust/finbert-tone')\n",
        "\n",
        "nlp = pipeline(\"sentiment-analysis\", model=finbert, tokenizer=tokenizer)\n",
        "\n",
        "sentences = [\"there is a shortage of capital, and we need extra financing\",\n",
        "             \"growth is strong and we have plenty of liquidity\",\n",
        "             \"there are doubts about our finances\",\n",
        "             \"profits are flat\"]\n",
        "results = nlp(sentences)\n",
        "print(results)"
      ]
    },
    {
      "cell_type": "markdown",
      "metadata": {
        "id": "Ir1-phuVpkXw"
      },
      "source": [
        "##  2. Building Your Sentiment Analysis Model with Fine-tuning"
      ]
    },
    {
      "cell_type": "markdown",
      "metadata": {
        "id": "SovYCSwaudAu"
      },
      "source": [
        "### 2.1: Install Dependencies"
      ]
    },
    {
      "cell_type": "code",
      "execution_count": null,
      "metadata": {
        "id": "7PwNd60mpkID",
        "colab": {
          "base_uri": "https://localhost:8080/"
        },
        "outputId": "eabe635d-6e82-4660-b84b-f0ade3736dfc"
      },
      "outputs": [
        {
          "output_type": "stream",
          "name": "stdout",
          "text": [
            "Requirement already satisfied: datasets in /usr/local/lib/python3.10/dist-packages (3.1.0)\n",
            "Requirement already satisfied: transformers in /usr/local/lib/python3.10/dist-packages (4.44.2)\n",
            "Requirement already satisfied: huggingface_hub in /usr/local/lib/python3.10/dist-packages (0.24.7)\n",
            "Requirement already satisfied: torch in /usr/local/lib/python3.10/dist-packages (2.5.0+cu121)\n",
            "Requirement already satisfied: scikit-learn in /usr/local/lib/python3.10/dist-packages (1.5.2)\n",
            "Requirement already satisfied: filelock in /usr/local/lib/python3.10/dist-packages (from datasets) (3.16.1)\n",
            "Requirement already satisfied: numpy>=1.17 in /usr/local/lib/python3.10/dist-packages (from datasets) (1.26.4)\n",
            "Requirement already satisfied: pyarrow>=15.0.0 in /usr/local/lib/python3.10/dist-packages (from datasets) (17.0.0)\n",
            "Requirement already satisfied: dill<0.3.9,>=0.3.0 in /usr/local/lib/python3.10/dist-packages (from datasets) (0.3.8)\n",
            "Requirement already satisfied: pandas in /usr/local/lib/python3.10/dist-packages (from datasets) (2.2.2)\n",
            "Requirement already satisfied: requests>=2.32.2 in /usr/local/lib/python3.10/dist-packages (from datasets) (2.32.3)\n",
            "Requirement already satisfied: tqdm>=4.66.3 in /usr/local/lib/python3.10/dist-packages (from datasets) (4.66.6)\n",
            "Requirement already satisfied: xxhash in /usr/local/lib/python3.10/dist-packages (from datasets) (3.5.0)\n",
            "Requirement already satisfied: multiprocess<0.70.17 in /usr/local/lib/python3.10/dist-packages (from datasets) (0.70.16)\n",
            "Requirement already satisfied: fsspec<=2024.9.0,>=2023.1.0 in /usr/local/lib/python3.10/dist-packages (from fsspec[http]<=2024.9.0,>=2023.1.0->datasets) (2024.9.0)\n",
            "Requirement already satisfied: aiohttp in /usr/local/lib/python3.10/dist-packages (from datasets) (3.10.10)\n",
            "Requirement already satisfied: packaging in /usr/local/lib/python3.10/dist-packages (from datasets) (24.1)\n",
            "Requirement already satisfied: pyyaml>=5.1 in /usr/local/lib/python3.10/dist-packages (from datasets) (6.0.2)\n",
            "Requirement already satisfied: regex!=2019.12.17 in /usr/local/lib/python3.10/dist-packages (from transformers) (2024.9.11)\n",
            "Requirement already satisfied: safetensors>=0.4.1 in /usr/local/lib/python3.10/dist-packages (from transformers) (0.4.5)\n",
            "Requirement already satisfied: tokenizers<0.20,>=0.19 in /usr/local/lib/python3.10/dist-packages (from transformers) (0.19.1)\n",
            "Requirement already satisfied: typing-extensions>=3.7.4.3 in /usr/local/lib/python3.10/dist-packages (from huggingface_hub) (4.12.2)\n",
            "Requirement already satisfied: networkx in /usr/local/lib/python3.10/dist-packages (from torch) (3.4.2)\n",
            "Requirement already satisfied: jinja2 in /usr/local/lib/python3.10/dist-packages (from torch) (3.1.4)\n",
            "Requirement already satisfied: sympy==1.13.1 in /usr/local/lib/python3.10/dist-packages (from torch) (1.13.1)\n",
            "Requirement already satisfied: mpmath<1.4,>=1.1.0 in /usr/local/lib/python3.10/dist-packages (from sympy==1.13.1->torch) (1.3.0)\n",
            "Requirement already satisfied: scipy>=1.6.0 in /usr/local/lib/python3.10/dist-packages (from scikit-learn) (1.13.1)\n",
            "Requirement already satisfied: joblib>=1.2.0 in /usr/local/lib/python3.10/dist-packages (from scikit-learn) (1.4.2)\n",
            "Requirement already satisfied: threadpoolctl>=3.1.0 in /usr/local/lib/python3.10/dist-packages (from scikit-learn) (3.5.0)\n",
            "Requirement already satisfied: aiohappyeyeballs>=2.3.0 in /usr/local/lib/python3.10/dist-packages (from aiohttp->datasets) (2.4.3)\n",
            "Requirement already satisfied: aiosignal>=1.1.2 in /usr/local/lib/python3.10/dist-packages (from aiohttp->datasets) (1.3.1)\n",
            "Requirement already satisfied: attrs>=17.3.0 in /usr/local/lib/python3.10/dist-packages (from aiohttp->datasets) (24.2.0)\n",
            "Requirement already satisfied: frozenlist>=1.1.1 in /usr/local/lib/python3.10/dist-packages (from aiohttp->datasets) (1.5.0)\n",
            "Requirement already satisfied: multidict<7.0,>=4.5 in /usr/local/lib/python3.10/dist-packages (from aiohttp->datasets) (6.1.0)\n",
            "Requirement already satisfied: yarl<2.0,>=1.12.0 in /usr/local/lib/python3.10/dist-packages (from aiohttp->datasets) (1.17.0)\n",
            "Requirement already satisfied: async-timeout<5.0,>=4.0 in /usr/local/lib/python3.10/dist-packages (from aiohttp->datasets) (4.0.3)\n",
            "Requirement already satisfied: charset-normalizer<4,>=2 in /usr/local/lib/python3.10/dist-packages (from requests>=2.32.2->datasets) (3.4.0)\n",
            "Requirement already satisfied: idna<4,>=2.5 in /usr/local/lib/python3.10/dist-packages (from requests>=2.32.2->datasets) (3.10)\n",
            "Requirement already satisfied: urllib3<3,>=1.21.1 in /usr/local/lib/python3.10/dist-packages (from requests>=2.32.2->datasets) (2.2.3)\n",
            "Requirement already satisfied: certifi>=2017.4.17 in /usr/local/lib/python3.10/dist-packages (from requests>=2.32.2->datasets) (2024.8.30)\n",
            "Requirement already satisfied: MarkupSafe>=2.0 in /usr/local/lib/python3.10/dist-packages (from jinja2->torch) (3.0.2)\n",
            "Requirement already satisfied: python-dateutil>=2.8.2 in /usr/local/lib/python3.10/dist-packages (from pandas->datasets) (2.8.2)\n",
            "Requirement already satisfied: pytz>=2020.1 in /usr/local/lib/python3.10/dist-packages (from pandas->datasets) (2024.2)\n",
            "Requirement already satisfied: tzdata>=2022.7 in /usr/local/lib/python3.10/dist-packages (from pandas->datasets) (2024.2)\n",
            "Requirement already satisfied: six>=1.5 in /usr/local/lib/python3.10/dist-packages (from python-dateutil>=2.8.2->pandas->datasets) (1.16.0)\n",
            "Requirement already satisfied: propcache>=0.2.0 in /usr/local/lib/python3.10/dist-packages (from yarl<2.0,>=1.12.0->aiohttp->datasets) (0.2.0)\n",
            "Reading package lists... Done\n",
            "Building dependency tree... Done\n",
            "Reading state information... Done\n",
            "git-lfs is already the newest version (3.0.2-1ubuntu0.2).\n",
            "0 upgraded, 0 newly installed, 0 to remove and 49 not upgraded.\n"
          ]
        }
      ],
      "source": [
        "!pip install datasets transformers huggingface_hub torch scikit-learn\n",
        "!apt-get install git-lfs"
      ]
    },
    {
      "cell_type": "markdown",
      "metadata": {
        "id": "npHyeJ5wuYR1"
      },
      "source": [
        "### 2.2: Import and Explore Data"
      ]
    },
    {
      "cell_type": "code",
      "execution_count": null,
      "metadata": {
        "id": "FxxS-UcruWUJ"
      },
      "outputs": [],
      "source": [
        "### load IMDB dataset\n",
        "from datasets import load_dataset\n",
        "\n",
        "dataset = load_dataset(\"imdb\")\n",
        "\n",
        "### subsample training and test sets\n",
        "train_sample = dataset[\"train\"].shuffle(seed=42).select(range(10000))\n",
        "test_sample = dataset[\"test\"].shuffle(seed=42).select(range(1000))"
      ]
    },
    {
      "cell_type": "code",
      "execution_count": null,
      "metadata": {
        "id": "3v6IYqtYujV2",
        "colab": {
          "base_uri": "https://localhost:8080/"
        },
        "outputId": "ef7c0376-17fb-428b-a3a2-58d6d809903e"
      },
      "outputs": [
        {
          "output_type": "execute_result",
          "data": {
            "text/plain": [
              "{'train': (25000, 2), 'test': (25000, 2), 'unsupervised': (50000, 2)}"
            ]
          },
          "metadata": {},
          "execution_count": 32
        }
      ],
      "source": [
        "dataset.shape"
      ]
    },
    {
      "cell_type": "code",
      "execution_count": null,
      "metadata": {
        "id": "sKEhqf8ZqU0o",
        "colab": {
          "base_uri": "https://localhost:8080/",
          "height": 676
        },
        "outputId": "32d226d0-73ec-4dd1-d614-f6af7f5adc3b"
      },
      "outputs": [
        {
          "output_type": "execute_result",
          "data": {
            "text/plain": [
              "                                                 text  label\n",
              "0   I rented I AM CURIOUS-YELLOW from my video sto...      0\n",
              "1   \"I Am Curious: Yellow\" is a risible and preten...      0\n",
              "2   If only to avoid making this type of film in t...      0\n",
              "3   This film was probably inspired by Godard's Ma...      0\n",
              "4   Oh, brother...after hearing about this ridicul...      0\n",
              "5   I would put this at the top of my list of film...      0\n",
              "6   Whoever wrote the screenplay for this movie ob...      0\n",
              "7   When I first saw a glimpse of this movie, I qu...      0\n",
              "8   Who are these \"They\"- the actors? the filmmake...      0\n",
              "9   This is said to be a personal film for Peter B...      0\n",
              "10  It was great to see some of my favorite stars ...      0\n",
              "11  I can't believe that those praising this movie...      0\n",
              "12  Never cast models and Playboy bunnies in your ...      0\n",
              "13  Its not the cast. A finer group of actors, you...      0\n",
              "14  Today I found \"They All Laughed\" on VHS on sal...      0\n",
              "15  This film is just plain horrible. John Ritter ...      0\n",
              "16  My interest in Dorothy Stratten caused me to p...      0\n",
              "17  I have this film out of the library right now ...      0\n",
              "18  I think I will make a movie next weekend. Oh w...      0\n",
              "19  Pros: Nothing<br /><br />Cons: Everything<br /...      0"
            ],
            "text/html": [
              "\n",
              "  <div id=\"df-8d65771e-cd40-4199-a58e-bde0a40d5f38\" class=\"colab-df-container\">\n",
              "    <div>\n",
              "<style scoped>\n",
              "    .dataframe tbody tr th:only-of-type {\n",
              "        vertical-align: middle;\n",
              "    }\n",
              "\n",
              "    .dataframe tbody tr th {\n",
              "        vertical-align: top;\n",
              "    }\n",
              "\n",
              "    .dataframe thead th {\n",
              "        text-align: right;\n",
              "    }\n",
              "</style>\n",
              "<table border=\"1\" class=\"dataframe\">\n",
              "  <thead>\n",
              "    <tr style=\"text-align: right;\">\n",
              "      <th></th>\n",
              "      <th>text</th>\n",
              "      <th>label</th>\n",
              "    </tr>\n",
              "  </thead>\n",
              "  <tbody>\n",
              "    <tr>\n",
              "      <th>0</th>\n",
              "      <td>I rented I AM CURIOUS-YELLOW from my video sto...</td>\n",
              "      <td>0</td>\n",
              "    </tr>\n",
              "    <tr>\n",
              "      <th>1</th>\n",
              "      <td>\"I Am Curious: Yellow\" is a risible and preten...</td>\n",
              "      <td>0</td>\n",
              "    </tr>\n",
              "    <tr>\n",
              "      <th>2</th>\n",
              "      <td>If only to avoid making this type of film in t...</td>\n",
              "      <td>0</td>\n",
              "    </tr>\n",
              "    <tr>\n",
              "      <th>3</th>\n",
              "      <td>This film was probably inspired by Godard's Ma...</td>\n",
              "      <td>0</td>\n",
              "    </tr>\n",
              "    <tr>\n",
              "      <th>4</th>\n",
              "      <td>Oh, brother...after hearing about this ridicul...</td>\n",
              "      <td>0</td>\n",
              "    </tr>\n",
              "    <tr>\n",
              "      <th>5</th>\n",
              "      <td>I would put this at the top of my list of film...</td>\n",
              "      <td>0</td>\n",
              "    </tr>\n",
              "    <tr>\n",
              "      <th>6</th>\n",
              "      <td>Whoever wrote the screenplay for this movie ob...</td>\n",
              "      <td>0</td>\n",
              "    </tr>\n",
              "    <tr>\n",
              "      <th>7</th>\n",
              "      <td>When I first saw a glimpse of this movie, I qu...</td>\n",
              "      <td>0</td>\n",
              "    </tr>\n",
              "    <tr>\n",
              "      <th>8</th>\n",
              "      <td>Who are these \"They\"- the actors? the filmmake...</td>\n",
              "      <td>0</td>\n",
              "    </tr>\n",
              "    <tr>\n",
              "      <th>9</th>\n",
              "      <td>This is said to be a personal film for Peter B...</td>\n",
              "      <td>0</td>\n",
              "    </tr>\n",
              "    <tr>\n",
              "      <th>10</th>\n",
              "      <td>It was great to see some of my favorite stars ...</td>\n",
              "      <td>0</td>\n",
              "    </tr>\n",
              "    <tr>\n",
              "      <th>11</th>\n",
              "      <td>I can't believe that those praising this movie...</td>\n",
              "      <td>0</td>\n",
              "    </tr>\n",
              "    <tr>\n",
              "      <th>12</th>\n",
              "      <td>Never cast models and Playboy bunnies in your ...</td>\n",
              "      <td>0</td>\n",
              "    </tr>\n",
              "    <tr>\n",
              "      <th>13</th>\n",
              "      <td>Its not the cast. A finer group of actors, you...</td>\n",
              "      <td>0</td>\n",
              "    </tr>\n",
              "    <tr>\n",
              "      <th>14</th>\n",
              "      <td>Today I found \"They All Laughed\" on VHS on sal...</td>\n",
              "      <td>0</td>\n",
              "    </tr>\n",
              "    <tr>\n",
              "      <th>15</th>\n",
              "      <td>This film is just plain horrible. John Ritter ...</td>\n",
              "      <td>0</td>\n",
              "    </tr>\n",
              "    <tr>\n",
              "      <th>16</th>\n",
              "      <td>My interest in Dorothy Stratten caused me to p...</td>\n",
              "      <td>0</td>\n",
              "    </tr>\n",
              "    <tr>\n",
              "      <th>17</th>\n",
              "      <td>I have this film out of the library right now ...</td>\n",
              "      <td>0</td>\n",
              "    </tr>\n",
              "    <tr>\n",
              "      <th>18</th>\n",
              "      <td>I think I will make a movie next weekend. Oh w...</td>\n",
              "      <td>0</td>\n",
              "    </tr>\n",
              "    <tr>\n",
              "      <th>19</th>\n",
              "      <td>Pros: Nothing&lt;br /&gt;&lt;br /&gt;Cons: Everything&lt;br /...</td>\n",
              "      <td>0</td>\n",
              "    </tr>\n",
              "  </tbody>\n",
              "</table>\n",
              "</div>\n",
              "    <div class=\"colab-df-buttons\">\n",
              "\n",
              "  <div class=\"colab-df-container\">\n",
              "    <button class=\"colab-df-convert\" onclick=\"convertToInteractive('df-8d65771e-cd40-4199-a58e-bde0a40d5f38')\"\n",
              "            title=\"Convert this dataframe to an interactive table.\"\n",
              "            style=\"display:none;\">\n",
              "\n",
              "  <svg xmlns=\"http://www.w3.org/2000/svg\" height=\"24px\" viewBox=\"0 -960 960 960\">\n",
              "    <path d=\"M120-120v-720h720v720H120Zm60-500h600v-160H180v160Zm220 220h160v-160H400v160Zm0 220h160v-160H400v160ZM180-400h160v-160H180v160Zm440 0h160v-160H620v160ZM180-180h160v-160H180v160Zm440 0h160v-160H620v160Z\"/>\n",
              "  </svg>\n",
              "    </button>\n",
              "\n",
              "  <style>\n",
              "    .colab-df-container {\n",
              "      display:flex;\n",
              "      gap: 12px;\n",
              "    }\n",
              "\n",
              "    .colab-df-convert {\n",
              "      background-color: #E8F0FE;\n",
              "      border: none;\n",
              "      border-radius: 50%;\n",
              "      cursor: pointer;\n",
              "      display: none;\n",
              "      fill: #1967D2;\n",
              "      height: 32px;\n",
              "      padding: 0 0 0 0;\n",
              "      width: 32px;\n",
              "    }\n",
              "\n",
              "    .colab-df-convert:hover {\n",
              "      background-color: #E2EBFA;\n",
              "      box-shadow: 0px 1px 2px rgba(60, 64, 67, 0.3), 0px 1px 3px 1px rgba(60, 64, 67, 0.15);\n",
              "      fill: #174EA6;\n",
              "    }\n",
              "\n",
              "    .colab-df-buttons div {\n",
              "      margin-bottom: 4px;\n",
              "    }\n",
              "\n",
              "    [theme=dark] .colab-df-convert {\n",
              "      background-color: #3B4455;\n",
              "      fill: #D2E3FC;\n",
              "    }\n",
              "\n",
              "    [theme=dark] .colab-df-convert:hover {\n",
              "      background-color: #434B5C;\n",
              "      box-shadow: 0px 1px 3px 1px rgba(0, 0, 0, 0.15);\n",
              "      filter: drop-shadow(0px 1px 2px rgba(0, 0, 0, 0.3));\n",
              "      fill: #FFFFFF;\n",
              "    }\n",
              "  </style>\n",
              "\n",
              "    <script>\n",
              "      const buttonEl =\n",
              "        document.querySelector('#df-8d65771e-cd40-4199-a58e-bde0a40d5f38 button.colab-df-convert');\n",
              "      buttonEl.style.display =\n",
              "        google.colab.kernel.accessAllowed ? 'block' : 'none';\n",
              "\n",
              "      async function convertToInteractive(key) {\n",
              "        const element = document.querySelector('#df-8d65771e-cd40-4199-a58e-bde0a40d5f38');\n",
              "        const dataTable =\n",
              "          await google.colab.kernel.invokeFunction('convertToInteractive',\n",
              "                                                    [key], {});\n",
              "        if (!dataTable) return;\n",
              "\n",
              "        const docLinkHtml = 'Like what you see? Visit the ' +\n",
              "          '<a target=\"_blank\" href=https://colab.research.google.com/notebooks/data_table.ipynb>data table notebook</a>'\n",
              "          + ' to learn more about interactive tables.';\n",
              "        element.innerHTML = '';\n",
              "        dataTable['output_type'] = 'display_data';\n",
              "        await google.colab.output.renderOutput(dataTable, element);\n",
              "        const docLink = document.createElement('div');\n",
              "        docLink.innerHTML = docLinkHtml;\n",
              "        element.appendChild(docLink);\n",
              "      }\n",
              "    </script>\n",
              "  </div>\n",
              "\n",
              "\n",
              "<div id=\"df-1b4bbb32-87c2-4256-81fc-9b70e9d3e089\">\n",
              "  <button class=\"colab-df-quickchart\" onclick=\"quickchart('df-1b4bbb32-87c2-4256-81fc-9b70e9d3e089')\"\n",
              "            title=\"Suggest charts\"\n",
              "            style=\"display:none;\">\n",
              "\n",
              "<svg xmlns=\"http://www.w3.org/2000/svg\" height=\"24px\"viewBox=\"0 0 24 24\"\n",
              "     width=\"24px\">\n",
              "    <g>\n",
              "        <path d=\"M19 3H5c-1.1 0-2 .9-2 2v14c0 1.1.9 2 2 2h14c1.1 0 2-.9 2-2V5c0-1.1-.9-2-2-2zM9 17H7v-7h2v7zm4 0h-2V7h2v10zm4 0h-2v-4h2v4z\"/>\n",
              "    </g>\n",
              "</svg>\n",
              "  </button>\n",
              "\n",
              "<style>\n",
              "  .colab-df-quickchart {\n",
              "      --bg-color: #E8F0FE;\n",
              "      --fill-color: #1967D2;\n",
              "      --hover-bg-color: #E2EBFA;\n",
              "      --hover-fill-color: #174EA6;\n",
              "      --disabled-fill-color: #AAA;\n",
              "      --disabled-bg-color: #DDD;\n",
              "  }\n",
              "\n",
              "  [theme=dark] .colab-df-quickchart {\n",
              "      --bg-color: #3B4455;\n",
              "      --fill-color: #D2E3FC;\n",
              "      --hover-bg-color: #434B5C;\n",
              "      --hover-fill-color: #FFFFFF;\n",
              "      --disabled-bg-color: #3B4455;\n",
              "      --disabled-fill-color: #666;\n",
              "  }\n",
              "\n",
              "  .colab-df-quickchart {\n",
              "    background-color: var(--bg-color);\n",
              "    border: none;\n",
              "    border-radius: 50%;\n",
              "    cursor: pointer;\n",
              "    display: none;\n",
              "    fill: var(--fill-color);\n",
              "    height: 32px;\n",
              "    padding: 0;\n",
              "    width: 32px;\n",
              "  }\n",
              "\n",
              "  .colab-df-quickchart:hover {\n",
              "    background-color: var(--hover-bg-color);\n",
              "    box-shadow: 0 1px 2px rgba(60, 64, 67, 0.3), 0 1px 3px 1px rgba(60, 64, 67, 0.15);\n",
              "    fill: var(--button-hover-fill-color);\n",
              "  }\n",
              "\n",
              "  .colab-df-quickchart-complete:disabled,\n",
              "  .colab-df-quickchart-complete:disabled:hover {\n",
              "    background-color: var(--disabled-bg-color);\n",
              "    fill: var(--disabled-fill-color);\n",
              "    box-shadow: none;\n",
              "  }\n",
              "\n",
              "  .colab-df-spinner {\n",
              "    border: 2px solid var(--fill-color);\n",
              "    border-color: transparent;\n",
              "    border-bottom-color: var(--fill-color);\n",
              "    animation:\n",
              "      spin 1s steps(1) infinite;\n",
              "  }\n",
              "\n",
              "  @keyframes spin {\n",
              "    0% {\n",
              "      border-color: transparent;\n",
              "      border-bottom-color: var(--fill-color);\n",
              "      border-left-color: var(--fill-color);\n",
              "    }\n",
              "    20% {\n",
              "      border-color: transparent;\n",
              "      border-left-color: var(--fill-color);\n",
              "      border-top-color: var(--fill-color);\n",
              "    }\n",
              "    30% {\n",
              "      border-color: transparent;\n",
              "      border-left-color: var(--fill-color);\n",
              "      border-top-color: var(--fill-color);\n",
              "      border-right-color: var(--fill-color);\n",
              "    }\n",
              "    40% {\n",
              "      border-color: transparent;\n",
              "      border-right-color: var(--fill-color);\n",
              "      border-top-color: var(--fill-color);\n",
              "    }\n",
              "    60% {\n",
              "      border-color: transparent;\n",
              "      border-right-color: var(--fill-color);\n",
              "    }\n",
              "    80% {\n",
              "      border-color: transparent;\n",
              "      border-right-color: var(--fill-color);\n",
              "      border-bottom-color: var(--fill-color);\n",
              "    }\n",
              "    90% {\n",
              "      border-color: transparent;\n",
              "      border-bottom-color: var(--fill-color);\n",
              "    }\n",
              "  }\n",
              "</style>\n",
              "\n",
              "  <script>\n",
              "    async function quickchart(key) {\n",
              "      const quickchartButtonEl =\n",
              "        document.querySelector('#' + key + ' button');\n",
              "      quickchartButtonEl.disabled = true;  // To prevent multiple clicks.\n",
              "      quickchartButtonEl.classList.add('colab-df-spinner');\n",
              "      try {\n",
              "        const charts = await google.colab.kernel.invokeFunction(\n",
              "            'suggestCharts', [key], {});\n",
              "      } catch (error) {\n",
              "        console.error('Error during call to suggestCharts:', error);\n",
              "      }\n",
              "      quickchartButtonEl.classList.remove('colab-df-spinner');\n",
              "      quickchartButtonEl.classList.add('colab-df-quickchart-complete');\n",
              "    }\n",
              "    (() => {\n",
              "      let quickchartButtonEl =\n",
              "        document.querySelector('#df-1b4bbb32-87c2-4256-81fc-9b70e9d3e089 button');\n",
              "      quickchartButtonEl.style.display =\n",
              "        google.colab.kernel.accessAllowed ? 'block' : 'none';\n",
              "    })();\n",
              "  </script>\n",
              "</div>\n",
              "\n",
              "    </div>\n",
              "  </div>\n"
            ],
            "application/vnd.google.colaboratory.intrinsic+json": {
              "type": "dataframe",
              "summary": "{\n  \"name\": \"pd\",\n  \"rows\": 20,\n  \"fields\": [\n    {\n      \"column\": \"text\",\n      \"properties\": {\n        \"dtype\": \"string\",\n        \"num_unique_values\": 20,\n        \"samples\": [\n          \"I rented I AM CURIOUS-YELLOW from my video store because of all the controversy that surrounded it when it was first released in 1967. I also heard that at first it was seized by U.S. customs if it ever tried to enter this country, therefore being a fan of films considered \\\"controversial\\\" I really had to see this for myself.<br /><br />The plot is centered around a young Swedish drama student named Lena who wants to learn everything she can about life. In particular she wants to focus her attentions to making some sort of documentary on what the average Swede thought about certain political issues such as the Vietnam War and race issues in the United States. In between asking politicians and ordinary denizens of Stockholm about their opinions on politics, she has sex with her drama teacher, classmates, and married men.<br /><br />What kills me about I AM CURIOUS-YELLOW is that 40 years ago, this was considered pornographic. Really, the sex and nudity scenes are few and far between, even then it's not shot like some cheaply made porno. While my countrymen mind find it shocking, in reality sex and nudity are a major staple in Swedish cinema. Even Ingmar Bergman, arguably their answer to good old boy John Ford, had sex scenes in his films.<br /><br />I do commend the filmmakers for the fact that any sex shown in the film is shown for artistic purposes rather than just to shock people and make money to be shown in pornographic theaters in America. I AM CURIOUS-YELLOW is a good film for anyone wanting to study the meat and potatoes (no pun intended) of Swedish cinema. But really, this film doesn't have much of a plot.\",\n          \"I have this film out of the library right now and I haven't finished watching it. It is so bad I am in disbelief. Audrey Hepburn had totally lost her talent by then, although she'd pretty much finished with it in 'Robin and Marian.' This is the worst thing about this appallingly stupid film. It's really only of interest because it was her last feature film and because of the Dorothy Stratten appearance just prior to her homicide.<br /><br />There is nothing but idiocy between Gazzara and his cronies. Little signals and little bows and nods to real screwball comedy of which this is the faintest, palest shadow.<br /><br />Who could believe that there are even some of the same Manhattan environs that Hepburn inhabited so magically and even mythically in 'Breakfast at Tiffany's' twenty years earlier? The soundtrack of old Sinatra songs and the Gershwin song from which the title is taken is too loud and obvious--you sure don't have to wait for the credits to find out that something was subtly woven into the cine-musique of the picture to know when the songs blasted out at you.<br /><br />'Reverting to type' means going back up as well as going back down, I guess. In this case, Audrey Hepburn's chic European lady is all you see of someone who was formerly occasionally an actress and always a star. Here she has even lost her talent as a star. If someone whose talent was continuing to grow in the period, like Ann-Margret, had played the role, there would have been some life in it, even given the unbelievably bad material and Mongoloid-level situations.<br /><br />Hepburn was a great person, of course, greater than most movie stars ever dreamed of being, and she was once one of the most charming and beautiful of film actors. After this dreadful performance, she went on to make an atrocious TV movie with Robert Wagner called 'Love Among Thieves.' In 'They all Laughed' it is as though she were still playing an ingenue in her 50's. Even much vainer and obviously less intelligent actresses who insisted upon doing this like Lana Turner were infinitely more effective than is Hepburn. Turner took acting seriously even when she was bad. Hepburn doesn't take it seriously at all, couldn't be bothered with it; even her hair and clothes look tacky. Her last really good work was in 'Two for the Road,' perhaps her most perfect, if possibly not her best in many ways.<br /><br />And that girl who plays the country singer is just sickening. John Ritter is horrible, there is simply nothing to recommend this film except to see Dorothy Stratten, who was truly pretty. Otherwise, critic David Thomson's oft-used phrase 'losing his/her talent' never has made more sense.<br /><br />Ben Gazarra had lost all sex appeal by then, and so we have 2 films with Gazarra and Hepburn--who could ask for anything less? Sandra Dee's last, pitiful film 'Lost,' from 2 years later, a low-budget nothing, had more to it than this. At least Ms. Dee spoke in her own voice; by 1981, Audrey Hepburn's accent just sounded silly; she'd go on to do the PBS 'Gardens of the World with Audrey Hepburn' and there her somewhat irritating accent works as she walks through English gardens with aristocrats or waxes effusively about 'what I like most is when flowers go back to nature!' as in naturalized daffodils, but in an actual fictional movie, she just sounds ridiculous.<br /><br />To think that 'Breakfast at Tiffany's' was such a profound sort of light poetic thing with Audrey Hepburn one of the most beautiful women in the world--she was surely one of the most beautiful screen presences in 'My Fair Lady', matching Garbo in several things and Delphine Seyrig in 'Last Year at Marienbad.' And then this! And her final brief role as the angel 'Hap' in the Spielberg film 'Always' was just more of the lady stuff--corny, witless and stifling.<br /><br />I went to her memorial service at the Fifth Avenue Presbyterian Church, a beautiful service which included a boys' choir singing the Shaker hymn 'Simple Gifts.' The only thing not listed in the program was the sudden playing of Hepburn's singing 'Moon River' on the fire escape in 'Breakfast at Tiffany's,' and this brought much emotion and some real tears out in the congregation.<br /><br />A great lady who was once a fine actress (as in 'The Nun's Story') and one of the greatest and most beautiful of film stars in many movies of the 50's and 60's who became a truly bad one--that's not all that common. And perhaps it is only a great human being who, in making such things as film performances trivial, nevertheless has the largeness of mind to want to have the flaws pointed out mercilessly--which all of her late film work contained in abundance. Most of the talk about Hepburn's miscasting is about 'My Fair Lady.' But the one that should have had the original actress in it was 'Wait Until Dark,' which had starred Lee Remick on Broadway. Never as celebrated as Hepburn, she was a better actress in many ways (Hepburn was completely incapable of playing anything really sordid), although Hepburn was at least adequate enough in that part. After that, all of her acting went downhill.\",\n          \"This film is just plain horrible. John Ritter doing pratt falls, 75% of the actors delivering their lines as if they were reading them from cue cards, poor editing, horrible sound mixing (dialogue is tough to pick up in places over the background noise), and a plot that really goes nowhere. I didn't think I'd ever say this, but Dorothy Stratten is not the worst actress in this film. There are at least 3 others that suck more. Patti Hansen delivers her lines with the passion of Ben Stein. I started to wonder if she wasn't dead inside. Even Bogdanovich's kids are awful (the oldest one is definitely reading her lines from a cue card). This movie is seriously horrible. There's a reason Bogdanovich couldn't get another project until 4 years later. Please don't watch it. If you see it in your television listings, cancel your cable. If a friend suggests it to you, reconsider your friendship. If your spouse wants to watch it, you're better off finding another soulmate. I'd rather gouge my eyes out with lawn darts than sit through this piece of garbage again. If I could sum this film up in one word, that word would be: Suckotrocity\"\n        ],\n        \"semantic_type\": \"\",\n        \"description\": \"\"\n      }\n    },\n    {\n      \"column\": \"label\",\n      \"properties\": {\n        \"dtype\": \"number\",\n        \"std\": 0,\n        \"min\": 0,\n        \"max\": 0,\n        \"num_unique_values\": 1,\n        \"samples\": [\n          0\n        ],\n        \"semantic_type\": \"\",\n        \"description\": \"\"\n      }\n    }\n  ]\n}"
            }
          },
          "metadata": {},
          "execution_count": 33
        }
      ],
      "source": [
        "pd.DataFrame({'text':dataset['train'][:20]['text'],'label':dataset['train'][:20]['label']})"
      ]
    },
    {
      "cell_type": "markdown",
      "metadata": {
        "id": "_mZPbhFTU6XG"
      },
      "source": [
        "### 2.3. Load Tokenizer and Model"
      ]
    },
    {
      "cell_type": "code",
      "execution_count": null,
      "metadata": {
        "id": "qEW5tntlU-1e",
        "colab": {
          "base_uri": "https://localhost:8080/"
        },
        "outputId": "8d1cb01f-fb94-4416-bed7-011e28959c10"
      },
      "outputs": [
        {
          "output_type": "stream",
          "name": "stderr",
          "text": [
            "/usr/local/lib/python3.10/dist-packages/transformers/tokenization_utils_base.py:1601: FutureWarning: `clean_up_tokenization_spaces` was not set. It will be set to `True` by default. This behavior will be depracted in transformers v4.45, and will be then set to `False` by default. For more details check this issue: https://github.com/huggingface/transformers/issues/31884\n",
            "  warnings.warn(\n",
            "Some weights of DistilBertForSequenceClassification were not initialized from the model checkpoint at distilbert-base-uncased and are newly initialized: ['classifier.bias', 'classifier.weight', 'pre_classifier.bias', 'pre_classifier.weight']\n",
            "You should probably TRAIN this model on a down-stream task to be able to use it for predictions and inference.\n"
          ]
        }
      ],
      "source": [
        "from transformers import AutoTokenizer, AutoModelForSequenceClassification\n",
        "\n",
        "### load tokenizer and model\n",
        "model_name = \"distilbert-base-uncased\"\n",
        "\n",
        "tokenizer = AutoTokenizer.from_pretrained(model_name)\n",
        "model = AutoModelForSequenceClassification.from_pretrained(model_name, num_labels=2)"
      ]
    },
    {
      "cell_type": "markdown",
      "metadata": {
        "id": "TKSTF49styPV"
      },
      "source": [
        "### 2.4: Preprocess Text Data"
      ]
    },
    {
      "cell_type": "code",
      "execution_count": null,
      "metadata": {
        "id": "Nqe51TgD0gaQ",
        "colab": {
          "base_uri": "https://localhost:8080/",
          "height": 49,
          "referenced_widgets": [
            "17de40f0d6b440b59977e5cd4f4f184d",
            "44e6f892afb64e618aa62912ccbfa7ae",
            "8c36bbfa9ee246649c77d4d9c442f200",
            "166cabdb26d64052aa9c7df637bb9fb9",
            "583f5835e3fc4895a6d815f49eedcf19",
            "6797c656d8a548e294b98f2afffde3cd",
            "3d86b6e71037420490c8b21f7acad486",
            "7f522b2059494521996b3d95741931b7",
            "367ea10d00274958819ebe44db73961f",
            "081882bc3c0f479b80d32d1c029190bf",
            "a7700a451bd348edaeabf50994c94d7f"
          ]
        },
        "outputId": "601f6b34-a188-4b5b-d3ed-88df3b102f4c"
      },
      "outputs": [
        {
          "output_type": "display_data",
          "data": {
            "text/plain": [
              "Map:   0%|          | 0/1000 [00:00<?, ? examples/s]"
            ],
            "application/vnd.jupyter.widget-view+json": {
              "version_major": 2,
              "version_minor": 0,
              "model_id": "17de40f0d6b440b59977e5cd4f4f184d"
            }
          },
          "metadata": {}
        }
      ],
      "source": [
        "def preprocess_function(examples):\n",
        "    return tokenizer(examples[\"text\"], padding=\"max_length\", truncation=True, max_length=128)\n",
        "\n",
        "train_sample = train_sample.map(preprocess_function, batched=True)\n",
        "test_sample = test_sample.map(preprocess_function, batched=True)"
      ]
    },
    {
      "cell_type": "markdown",
      "metadata": {
        "id": "8jecbJhnlF0s"
      },
      "source": [
        "###2.5. Define training arguments"
      ]
    },
    {
      "cell_type": "code",
      "execution_count": null,
      "metadata": {
        "id": "HaeQAxvWlGrJ",
        "colab": {
          "base_uri": "https://localhost:8080/"
        },
        "outputId": "a2b2c038-fcf0-425f-838b-ab4fabc6b379"
      },
      "outputs": [
        {
          "output_type": "stream",
          "name": "stderr",
          "text": [
            "/usr/local/lib/python3.10/dist-packages/transformers/training_args.py:1525: FutureWarning: `evaluation_strategy` is deprecated and will be removed in version 4.46 of 🤗 Transformers. Use `eval_strategy` instead\n",
            "  warnings.warn(\n"
          ]
        }
      ],
      "source": [
        "from transformers import Trainer, TrainingArguments\n",
        "\n",
        "training_args = TrainingArguments(\n",
        "    output_dir=\"./results\",             # Directory to save model checkpoints and logs\n",
        "    evaluation_strategy=\"epoch\",        # Evaluate at the end of each epoch\n",
        "    learning_rate=2e-5,                 # Learning rate\n",
        "    per_device_train_batch_size=8,      # Batch size for training\n",
        "    per_device_eval_batch_size=8,       # Batch size for evaluation\n",
        "    num_train_epochs=3,                 # Number of epochs\n",
        "    weight_decay=0.01,                  # Weight decay for regularization\n",
        "    logging_dir='./logs',               # Directory for logging\n",
        "    logging_steps=10                    # Log every 10 steps\n",
        ")\n"
      ]
    },
    {
      "cell_type": "markdown",
      "metadata": {
        "id": "GF-8wPm88NAL"
      },
      "source": [
        "### 2.6. Define Metric Function"
      ]
    },
    {
      "cell_type": "code",
      "execution_count": null,
      "metadata": {
        "id": "iAqpOVN38LIN"
      },
      "outputs": [],
      "source": [
        "import numpy as np\n",
        "from sklearn.metrics import accuracy_score, f1_score\n",
        "\n",
        "def compute_metrics(pred):\n",
        "    labels = pred.label_ids\n",
        "    preds = np.argmax(pred.predictions, axis=1)\n",
        "    accuracy = accuracy_score(labels, preds)\n",
        "    f1 = f1_score(labels, preds, average=\"weighted\")\n",
        "    return {\"accuracy\": accuracy, \"f1\": f1}"
      ]
    },
    {
      "cell_type": "markdown",
      "metadata": {
        "id": "5oSKS7-ewjAa"
      },
      "source": [
        "### 2.7. Initialize Trainer"
      ]
    },
    {
      "cell_type": "code",
      "execution_count": null,
      "metadata": {
        "id": "peZGw0bV0tz6"
      },
      "outputs": [],
      "source": [
        "trainer = Trainer(\n",
        "    model=model,\n",
        "    args=training_args,\n",
        "    train_dataset=train_sample,\n",
        "    eval_dataset=test_sample,\n",
        "    compute_metrics=compute_metrics\n",
        ")"
      ]
    },
    {
      "cell_type": "markdown",
      "metadata": {
        "id": "5TJSU8K0l56a"
      },
      "source": [
        "### 2.8.Train model"
      ]
    },
    {
      "cell_type": "code",
      "execution_count": null,
      "metadata": {
        "id": "9AYXnmH8l6kj",
        "colab": {
          "base_uri": "https://localhost:8080/",
          "height": 363
        },
        "outputId": "cb1e435e-6d2e-4971-ae9c-46734b068753"
      },
      "outputs": [
        {
          "output_type": "stream",
          "name": "stderr",
          "text": [
            "\u001b[34m\u001b[1mwandb\u001b[0m: \u001b[33mWARNING\u001b[0m The `run_name` is currently set to the same value as `TrainingArguments.output_dir`. If this was not intended, please specify a different run name by setting the `TrainingArguments.run_name` parameter.\n",
            "\u001b[34m\u001b[1mwandb\u001b[0m: Using wandb-core as the SDK backend. Please refer to https://wandb.me/wandb-core for more information.\n",
            "\u001b[34m\u001b[1mwandb\u001b[0m: Currently logged in as: \u001b[33mnamigaabbasov\u001b[0m (\u001b[33mnamigaabbasov-arizona-state-university\u001b[0m). Use \u001b[1m`wandb login --relogin`\u001b[0m to force relogin\n"
          ]
        },
        {
          "output_type": "display_data",
          "data": {
            "text/plain": [
              "<IPython.core.display.HTML object>"
            ],
            "text/html": [
              "Tracking run with wandb version 0.18.5"
            ]
          },
          "metadata": {}
        },
        {
          "output_type": "display_data",
          "data": {
            "text/plain": [
              "<IPython.core.display.HTML object>"
            ],
            "text/html": [
              "Run data is saved locally in <code>/content/wandb/run-20241107_175944-6q31wf2s</code>"
            ]
          },
          "metadata": {}
        },
        {
          "output_type": "display_data",
          "data": {
            "text/plain": [
              "<IPython.core.display.HTML object>"
            ],
            "text/html": [
              "Syncing run <strong><a href='https://wandb.ai/namigaabbasov-arizona-state-university/huggingface/runs/6q31wf2s' target=\"_blank\">./results</a></strong> to <a href='https://wandb.ai/namigaabbasov-arizona-state-university/huggingface' target=\"_blank\">Weights & Biases</a> (<a href='https://wandb.me/run' target=\"_blank\">docs</a>)<br/>"
            ]
          },
          "metadata": {}
        },
        {
          "output_type": "display_data",
          "data": {
            "text/plain": [
              "<IPython.core.display.HTML object>"
            ],
            "text/html": [
              " View project at <a href='https://wandb.ai/namigaabbasov-arizona-state-university/huggingface' target=\"_blank\">https://wandb.ai/namigaabbasov-arizona-state-university/huggingface</a>"
            ]
          },
          "metadata": {}
        },
        {
          "output_type": "display_data",
          "data": {
            "text/plain": [
              "<IPython.core.display.HTML object>"
            ],
            "text/html": [
              " View run at <a href='https://wandb.ai/namigaabbasov-arizona-state-university/huggingface/runs/6q31wf2s' target=\"_blank\">https://wandb.ai/namigaabbasov-arizona-state-university/huggingface/runs/6q31wf2s</a>"
            ]
          },
          "metadata": {}
        },
        {
          "output_type": "display_data",
          "data": {
            "text/plain": [
              "<IPython.core.display.HTML object>"
            ],
            "text/html": [
              "\n",
              "    <div>\n",
              "      \n",
              "      <progress value='3750' max='3750' style='width:300px; height:20px; vertical-align: middle;'></progress>\n",
              "      [3750/3750 08:09, Epoch 3/3]\n",
              "    </div>\n",
              "    <table border=\"1\" class=\"dataframe\">\n",
              "  <thead>\n",
              " <tr style=\"text-align: left;\">\n",
              "      <th>Epoch</th>\n",
              "      <th>Training Loss</th>\n",
              "      <th>Validation Loss</th>\n",
              "      <th>Accuracy</th>\n",
              "      <th>F1</th>\n",
              "    </tr>\n",
              "  </thead>\n",
              "  <tbody>\n",
              "    <tr>\n",
              "      <td>1</td>\n",
              "      <td>0.303400</td>\n",
              "      <td>0.353033</td>\n",
              "      <td>0.859000</td>\n",
              "      <td>0.859009</td>\n",
              "    </tr>\n",
              "    <tr>\n",
              "      <td>2</td>\n",
              "      <td>0.325800</td>\n",
              "      <td>0.455744</td>\n",
              "      <td>0.865000</td>\n",
              "      <td>0.865016</td>\n",
              "    </tr>\n",
              "    <tr>\n",
              "      <td>3</td>\n",
              "      <td>0.146300</td>\n",
              "      <td>0.564860</td>\n",
              "      <td>0.869000</td>\n",
              "      <td>0.869019</td>\n",
              "    </tr>\n",
              "  </tbody>\n",
              "</table><p>"
            ]
          },
          "metadata": {}
        },
        {
          "output_type": "execute_result",
          "data": {
            "text/plain": [
              "TrainOutput(global_step=3750, training_loss=0.2827906768878301, metrics={'train_runtime': 499.4206, 'train_samples_per_second': 60.07, 'train_steps_per_second': 7.509, 'total_flos': 993505489920000.0, 'train_loss': 0.2827906768878301, 'epoch': 3.0})"
            ]
          },
          "metadata": {},
          "execution_count": 39
        }
      ],
      "source": [
        "trainer.train()\n",
        "\n",
        "### you should get a quick API from https://wandb.ai/authorize"
      ]
    },
    {
      "cell_type": "markdown",
      "metadata": {
        "id": "urKfyKFZypkK"
      },
      "source": [
        "### 2.9. Evaluate Model"
      ]
    },
    {
      "cell_type": "code",
      "execution_count": null,
      "metadata": {
        "id": "C6eh-_c4yo3s",
        "colab": {
          "base_uri": "https://localhost:8080/",
          "height": 74
        },
        "outputId": "53a53711-7949-4a48-8d3d-ced287ad6b7f"
      },
      "outputs": [
        {
          "output_type": "display_data",
          "data": {
            "text/plain": [
              "<IPython.core.display.HTML object>"
            ],
            "text/html": [
              "\n",
              "    <div>\n",
              "      \n",
              "      <progress value='125' max='125' style='width:300px; height:20px; vertical-align: middle;'></progress>\n",
              "      [125/125 00:03]\n",
              "    </div>\n",
              "    "
            ]
          },
          "metadata": {}
        },
        {
          "output_type": "stream",
          "name": "stdout",
          "text": [
            "{'eval_loss': 0.5648595094680786, 'eval_accuracy': 0.869, 'eval_f1': 0.8690187352669673, 'eval_runtime': 3.6945, 'eval_samples_per_second': 270.675, 'eval_steps_per_second': 33.834, 'epoch': 3.0}\n"
          ]
        }
      ],
      "source": [
        "results = trainer.evaluate()\n",
        "print(results)"
      ]
    },
    {
      "cell_type": "markdown",
      "metadata": {
        "id": "EsECHzDeytH1"
      },
      "source": [
        "### 2.10. Make Predictions"
      ]
    },
    {
      "cell_type": "code",
      "execution_count": null,
      "metadata": {
        "id": "X38EHHFIyv-J",
        "colab": {
          "base_uri": "https://localhost:8080/"
        },
        "outputId": "de74c270-2311-4696-ff5c-1e79eb4d935e"
      },
      "outputs": [
        {
          "output_type": "stream",
          "name": "stdout",
          "text": [
            "positive\n"
          ]
        }
      ],
      "source": [
        "import torch\n",
        "device = torch.device(\"cuda\" if torch.cuda.is_available() else \"cpu\")\n",
        "model.to(device)\n",
        "\n",
        "def predict_sentiment(text):\n",
        "    inputs = tokenizer(text, return_tensors=\"pt\", truncation=True, max_length=128, padding=\"max_length\").to(device)\n",
        "    model.eval()\n",
        "    with torch.no_grad():\n",
        "        outputs = model(**inputs)\n",
        "        predictions = torch.nn.functional.softmax(outputs.logits, dim=-1)\n",
        "    sentiment = torch.argmax(predictions).item()\n",
        "    return \"positive\" if sentiment == 1 else \"negative\"\n",
        "\n",
        "\n",
        "print(predict_sentiment(\"This movie was fantastic!\"))"
      ]
    },
    {
      "cell_type": "markdown",
      "metadata": {
        "id": "dybl0QpC1N0E"
      },
      "source": [
        "### 2.10. Plot Confusion Matrix"
      ]
    },
    {
      "cell_type": "code",
      "execution_count": null,
      "metadata": {
        "id": "E_q-WDDP1R9Y",
        "colab": {
          "base_uri": "https://localhost:8080/",
          "height": 449
        },
        "outputId": "b937734a-521a-4bc6-d7fa-3fa10ec4f9a0"
      },
      "outputs": [
        {
          "output_type": "display_data",
          "data": {
            "text/plain": [
              "<IPython.core.display.HTML object>"
            ],
            "text/html": []
          },
          "metadata": {}
        },
        {
          "output_type": "display_data",
          "data": {
            "text/plain": [
              "<Figure size 640x480 with 2 Axes>"
            ],
            "image/png": "[encoded data removed]"
          },
          "metadata": {}
        }
      ],
      "source": [
        "from sklearn.metrics import confusion_matrix\n",
        "import seaborn as sns\n",
        "\n",
        "### Generate predictions on test set\n",
        "predictions = trainer.predict(test_sample)\n",
        "y_preds = predictions.predictions.argmax(axis=-1)\n",
        "y_true = test_sample['label']\n",
        "\n",
        "### plot confusion matrix\n",
        "cm = confusion_matrix(y_true, y_preds)\n",
        "sns.heatmap(cm, annot=True, fmt='d', cmap='Blues', xticklabels=['Negative', 'Positive'], yticklabels=['Negative', 'Positive'])\n",
        "plt.xlabel(\"Predicted Label\")\n",
        "plt.ylabel(\"True Label\")\n",
        "plt.show()"
      ]
    },
    {
      "cell_type": "markdown",
      "metadata": {
        "id": "OGHPV7OV1THr"
      },
      "source": [
        "### Classification Report (Precision, Recall, F1 Score)"
      ]
    },
    {
      "cell_type": "code",
      "execution_count": null,
      "metadata": {
        "id": "215-Y0HB1X5q",
        "colab": {
          "base_uri": "https://localhost:8080/"
        },
        "outputId": "59d68bde-268e-4812-e5d2-e015b063a1fd"
      },
      "outputs": [
        {
          "output_type": "display_data",
          "data": {
            "text/plain": [
              "<Figure size 640x480 with 1 Axes>"
            ],
            "image/png": "[encoded data removed]"
          },
          "metadata": {}
        }
      ],
      "source": [
        "from sklearn.metrics import classification_report\n",
        "import pandas as pd\n",
        "\n",
        "### generate classification report\n",
        "report = classification_report(y_true, y_preds, target_names=['Negative', 'Positive'], output_dict=True)\n",
        "\n",
        "### plot precision, recall, and F1\n",
        "metrics_df = pd.DataFrame(report).T\n",
        "metrics_df[['precision', 'recall', 'f1-score']].plot(kind='bar')\n",
        "plt.title(\"Classification Report Metrics\")\n",
        "plt.ylabel(\"Score\")\n",
        "plt.show()"
      ]
    },
    {
      "cell_type": "markdown",
      "metadata": {
        "id": "i58u0JNp1daj"
      },
      "source": [
        "### ROC Curve and AUC"
      ]
    },
    {
      "cell_type": "code",
      "execution_count": null,
      "metadata": {
        "id": "qEjDu_rF1g3M",
        "colab": {
          "base_uri": "https://localhost:8080/"
        },
        "outputId": "5d6c6b75-8bdd-4d2c-fbf2-2f41889ebf79"
      },
      "outputs": [
        {
          "output_type": "display_data",
          "data": {
            "text/plain": [
              "<Figure size 640x480 with 1 Axes>"
            ],
            "image/png": "[encoded data removed]"
          },
          "metadata": {}
        }
      ],
      "source": [
        "from sklearn.metrics import roc_curve, auc\n",
        "\n",
        "### get probability scores for positive class\n",
        "y_probs = predictions.predictions[:, 1]\n",
        "fpr, tpr, _ = roc_curve(y_true, y_probs)\n",
        "roc_auc = auc(fpr, tpr)\n",
        "\n",
        "plt.plot(fpr, tpr, label=f'AUC = {roc_auc:.2f}')\n",
        "plt.plot([0, 1], [0, 1], 'k--')  # Diagonal line\n",
        "plt.xlabel('False Positive Rate')\n",
        "plt.ylabel('True Positive Rate')\n",
        "plt.title('Receiver Operating Characteristic (ROC) Curve')\n",
        "plt.legend(loc='lower right')\n",
        "plt.show()"
      ]
    },
    {
      "cell_type": "markdown",
      "metadata": {
        "id": "Q4p4TyJp1kwP"
      },
      "source": [
        "### Precision-Recall Curve"
      ]
    },
    {
      "cell_type": "code",
      "execution_count": null,
      "metadata": {
        "id": "x0rEBGF41mEy",
        "colab": {
          "base_uri": "https://localhost:8080/"
        },
        "outputId": "384fc8a8-8ae2-4719-9368-b22f24127d02"
      },
      "outputs": [
        {
          "output_type": "display_data",
          "data": {
            "text/plain": [
              "<Figure size 640x480 with 1 Axes>"
            ],
            "image/png": "[encoded data removed]"
          },
          "metadata": {}
        }
      ],
      "source": [
        "from sklearn.metrics import precision_recall_curve\n",
        "\n",
        "precision, recall, _ = precision_recall_curve(y_true, y_probs)\n",
        "\n",
        "plt.plot(recall, precision, label='Precision-Recall Curve')\n",
        "plt.xlabel('Recall')\n",
        "plt.ylabel('Precision')\n",
        "plt.title('Precision-Recall Curve')\n",
        "plt.legend()\n",
        "plt.show()\n"
      ]
    },
    {
      "cell_type": "markdown",
      "metadata": {
        "id": "LvgGrRfS1s_0"
      },
      "source": [
        "### Word Cloud of Misclassified Reviews"
      ]
    },
    {
      "cell_type": "code",
      "execution_count": null,
      "metadata": {
        "id": "DDIhtkPC1sCL",
        "colab": {
          "base_uri": "https://localhost:8080/"
        },
        "outputId": "17da3116-780e-4a0f-a532-202df672ad51"
      },
      "outputs": [
        {
          "output_type": "display_data",
          "data": {
            "text/plain": [
              "<Figure size 1000x500 with 1 Axes>"
            ],
            "image/png": "[encoded data removed]"
          },
          "metadata": {}
        }
      ],
      "source": [
        "from wordcloud import WordCloud\n",
        "\n",
        "misclassified_texts = [test_sample[i]['text'] for i in range(len(y_true)) if y_true[i] != y_preds[i]]\n",
        "misclassified_text = \" \".join(misclassified_texts)\n",
        "\n",
        "wordcloud = WordCloud(width=800, height=400).generate(misclassified_text)\n",
        "plt.figure(figsize=(10, 5))\n",
        "plt.imshow(wordcloud, interpolation=\"bilinear\")\n",
        "plt.axis(\"off\")\n",
        "plt.show()\n"
      ]
    },
    {
      "cell_type": "markdown",
      "metadata": {
        "id": "jfhzFTa1tlvG"
      },
      "source": [
        "### Code Sources:\n",
        "\n",
        "1. https://huggingface.co/blog/sentiment-analysis-python\n",
        "2. https://medium.com/@manjindersingh_10145/sentiment-analysis-with-bert-using-huggingface-88e99deeec9a"
      ]
    }
  ],
  "metadata": {
    "accelerator": "GPU",
    "colab": {
      "gpuType": "T4",
      "provenance": [],
      "include_colab_link": true
    },
    "kernelspec": {
      "display_name": "Python 3",
      "name": "python3"
    },
    "language_info": {
      "name": "python"
    },
    "widgets": {
      "application/vnd.jupyter.widget-state+json": {
        "17de40f0d6b440b59977e5cd4f4f184d": {
          "model_module": "@jupyter-widgets/controls",
          "model_name": "HBoxModel",
          "model_module_version": "1.5.0",
          "state": {
            "_dom_classes": [],
            "_model_module": "@jupyter-widgets/controls",
            "_model_module_version": "1.5.0",
            "_model_name": "HBoxModel",
            "_view_count": null,
            "_view_module": "@jupyter-widgets/controls",
            "_view_module_version": "1.5.0",
            "_view_name": "HBoxView",
            "box_style": "",
            "children": [
              "IPY_MODEL_44e6f892afb64e618aa62912ccbfa7ae",
              "IPY_MODEL_8c36bbfa9ee246649c77d4d9c442f200",
              "IPY_MODEL_166cabdb26d64052aa9c7df637bb9fb9"
            ],
            "layout": "IPY_MODEL_583f5835e3fc4895a6d815f49eedcf19"
          }
        },
        "44e6f892afb64e618aa62912ccbfa7ae": {
          "model_module": "@jupyter-widgets/controls",
          "model_name": "HTMLModel",
          "model_module_version": "1.5.0",
          "state": {
            "_dom_classes": [],
            "_model_module": "@jupyter-widgets/controls",
            "_model_module_version": "1.5.0",
            "_model_name": "HTMLModel",
            "_view_count": null,
            "_view_module": "@jupyter-widgets/controls",
            "_view_module_version": "1.5.0",
            "_view_name": "HTMLView",
            "description": "",
            "description_tooltip": null,
            "layout": "IPY_MODEL_6797c656d8a548e294b98f2afffde3cd",
            "placeholder": "​",
            "style": "IPY_MODEL_3d86b6e71037420490c8b21f7acad486",
            "value": "Map: 100%"
          }
        },
        "8c36bbfa9ee246649c77d4d9c442f200": {
          "model_module": "@jupyter-widgets/controls",
          "model_name": "FloatProgressModel",
          "model_module_version": "1.5.0",
          "state": {
            "_dom_classes": [],
            "_model_module": "@jupyter-widgets/controls",
            "_model_module_version": "1.5.0",
            "_model_name": "FloatProgressModel",
            "_view_count": null,
            "_view_module": "@jupyter-widgets/controls",
            "_view_module_version": "1.5.0",
            "_view_name": "ProgressView",
            "bar_style": "success",
            "description": "",
            "description_tooltip": null,
            "layout": "IPY_MODEL_7f522b2059494521996b3d95741931b7",
            "max": 1000,
            "min": 0,
            "orientation": "horizontal",
            "style": "IPY_MODEL_367ea10d00274958819ebe44db73961f",
            "value": 1000
          }
        },
        "166cabdb26d64052aa9c7df637bb9fb9": {
          "model_module": "@jupyter-widgets/controls",
          "model_name": "HTMLModel",
          "model_module_version": "1.5.0",
          "state": {
            "_dom_classes": [],
            "_model_module": "@jupyter-widgets/controls",
            "_model_module_version": "1.5.0",
            "_model_name": "HTMLModel",
            "_view_count": null,
            "_view_module": "@jupyter-widgets/controls",
            "_view_module_version": "1.5.0",
            "_view_name": "HTMLView",
            "description": "",
            "description_tooltip": null,
            "layout": "IPY_MODEL_081882bc3c0f479b80d32d1c029190bf",
            "placeholder": "​",
            "style": "IPY_MODEL_a7700a451bd348edaeabf50994c94d7f",
            "value": " 1000/1000 [00:01&lt;00:00, 770.49 examples/s]"
          }
        },
        "583f5835e3fc4895a6d815f49eedcf19": {
          "model_module": "@jupyter-widgets/base",
          "model_name": "LayoutModel",
          "model_module_version": "1.2.0",
          "state": {
            "_model_module": "@jupyter-widgets/base",
            "_model_module_version": "1.2.0",
            "_model_name": "LayoutModel",
            "_view_count": null,
            "_view_module": "@jupyter-widgets/base",
            "_view_module_version": "1.2.0",
            "_view_name": "LayoutView",
            "align_content": null,
            "align_items": null,
            "align_self": null,
            "border": null,
            "bottom": null,
            "display": null,
            "flex": null,
            "flex_flow": null,
            "grid_area": null,
            "grid_auto_columns": null,
            "grid_auto_flow": null,
            "grid_auto_rows": null,
            "grid_column": null,
            "grid_gap": null,
            "grid_row": null,
            "grid_template_areas": null,
            "grid_template_columns": null,
            "grid_template_rows": null,
            "height": null,
            "justify_content": null,
            "justify_items": null,
            "left": null,
            "margin": null,
            "max_height": null,
            "max_width": null,
            "min_height": null,
            "min_width": null,
            "object_fit": null,
            "object_position": null,
            "order": null,
            "overflow": null,
            "overflow_x": null,
            "overflow_y": null,
            "padding": null,
            "right": null,
            "top": null,
            "visibility": null,
            "width": null
          }
        },
        "6797c656d8a548e294b98f2afffde3cd": {
          "model_module": "@jupyter-widgets/base",
          "model_name": "LayoutModel",
          "model_module_version": "1.2.0",
          "state": {
            "_model_module": "@jupyter-widgets/base",
            "_model_module_version": "1.2.0",
            "_model_name": "LayoutModel",
            "_view_count": null,
            "_view_module": "@jupyter-widgets/base",
            "_view_module_version": "1.2.0",
            "_view_name": "LayoutView",
            "align_content": null,
            "align_items": null,
            "align_self": null,
            "border": null,
            "bottom": null,
            "display": null,
            "flex": null,
            "flex_flow": null,
            "grid_area": null,
            "grid_auto_columns": null,
            "grid_auto_flow": null,
            "grid_auto_rows": null,
            "grid_column": null,
            "grid_gap": null,
            "grid_row": null,
            "grid_template_areas": null,
            "grid_template_columns": null,
            "grid_template_rows": null,
            "height": null,
            "justify_content": null,
            "justify_items": null,
            "left": null,
            "margin": null,
            "max_height": null,
            "max_width": null,
            "min_height": null,
            "min_width": null,
            "object_fit": null,
            "object_position": null,
            "order": null,
            "overflow": null,
            "overflow_x": null,
            "overflow_y": null,
            "padding": null,
            "right": null,
            "top": null,
            "visibility": null,
            "width": null
          }
        },
        "3d86b6e71037420490c8b21f7acad486": {
          "model_module": "@jupyter-widgets/controls",
          "model_name": "DescriptionStyleModel",
          "model_module_version": "1.5.0",
          "state": {
            "_model_module": "@jupyter-widgets/controls",
            "_model_module_version": "1.5.0",
            "_model_name": "DescriptionStyleModel",
            "_view_count": null,
            "_view_module": "@jupyter-widgets/base",
            "_view_module_version": "1.2.0",
            "_view_name": "StyleView",
            "description_width": ""
          }
        },
        "7f522b2059494521996b3d95741931b7": {
          "model_module": "@jupyter-widgets/base",
          "model_name": "LayoutModel",
          "model_module_version": "1.2.0",
          "state": {
            "_model_module": "@jupyter-widgets/base",
            "_model_module_version": "1.2.0",
            "_model_name": "LayoutModel",
            "_view_count": null,
            "_view_module": "@jupyter-widgets/base",
            "_view_module_version": "1.2.0",
            "_view_name": "LayoutView",
            "align_content": null,
            "align_items": null,
            "align_self": null,
            "border": null,
            "bottom": null,
            "display": null,
            "flex": null,
            "flex_flow": null,
            "grid_area": null,
            "grid_auto_columns": null,
            "grid_auto_flow": null,
            "grid_auto_rows": null,
            "grid_column": null,
            "grid_gap": null,
            "grid_row": null,
            "grid_template_areas": null,
            "grid_template_columns": null,
            "grid_template_rows": null,
            "height": null,
            "justify_content": null,
            "justify_items": null,
            "left": null,
            "margin": null,
            "max_height": null,
            "max_width": null,
            "min_height": null,
            "min_width": null,
            "object_fit": null,
            "object_position": null,
            "order": null,
            "overflow": null,
            "overflow_x": null,
            "overflow_y": null,
            "padding": null,
            "right": null,
            "top": null,
            "visibility": null,
            "width": null
          }
        },
        "367ea10d00274958819ebe44db73961f": {
          "model_module": "@jupyter-widgets/controls",
          "model_name": "ProgressStyleModel",
          "model_module_version": "1.5.0",
          "state": {
            "_model_module": "@jupyter-widgets/controls",
            "_model_module_version": "1.5.0",
            "_model_name": "ProgressStyleModel",
            "_view_count": null,
            "_view_module": "@jupyter-widgets/base",
            "_view_module_version": "1.2.0",
            "_view_name": "StyleView",
            "bar_color": null,
            "description_width": ""
          }
        },
        "081882bc3c0f479b80d32d1c029190bf": {
          "model_module": "@jupyter-widgets/base",
          "model_name": "LayoutModel",
          "model_module_version": "1.2.0",
          "state": {
            "_model_module": "@jupyter-widgets/base",
            "_model_module_version": "1.2.0",
            "_model_name": "LayoutModel",
            "_view_count": null,
            "_view_module": "@jupyter-widgets/base",
            "_view_module_version": "1.2.0",
            "_view_name": "LayoutView",
            "align_content": null,
            "align_items": null,
            "align_self": null,
            "border": null,
            "bottom": null,
            "display": null,
            "flex": null,
            "flex_flow": null,
            "grid_area": null,
            "grid_auto_columns": null,
            "grid_auto_flow": null,
            "grid_auto_rows": null,
            "grid_column": null,
            "grid_gap": null,
            "grid_row": null,
            "grid_template_areas": null,
            "grid_template_columns": null,
            "grid_template_rows": null,
            "height": null,
            "justify_content": null,
            "justify_items": null,
            "left": null,
            "margin": null,
            "max_height": null,
            "max_width": null,
            "min_height": null,
            "min_width": null,
            "object_fit": null,
            "object_position": null,
            "order": null,
            "overflow": null,
            "overflow_x": null,
            "overflow_y": null,
            "padding": null,
            "right": null,
            "top": null,
            "visibility": null,
            "width": null
          }
        },
        "a7700a451bd348edaeabf50994c94d7f": {
          "model_module": "@jupyter-widgets/controls",
          "model_name": "DescriptionStyleModel",
          "model_module_version": "1.5.0",
          "state": {
            "_model_module": "@jupyter-widgets/controls",
            "_model_module_version": "1.5.0",
            "_model_name": "DescriptionStyleModel",
            "_view_count": null,
            "_view_module": "@jupyter-widgets/base",
            "_view_module_version": "1.2.0",
            "_view_name": "StyleView",
            "description_width": ""
          }
        }
      }
    }
  },
  "nbformat": 4,
  "nbformat_minor": 0
}