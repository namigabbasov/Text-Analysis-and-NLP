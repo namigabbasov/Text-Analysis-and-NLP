{
 "cells": [
  {
   "cell_type": "markdown",
   "id": "1a3175c9-bd22-49e6-a221-dc3179518d94",
   "metadata": {},
   "source": [
    "# <center>INFO511: Final Project\n",
    "### <center>Namig Abbasov"
   ]
  },
  {
   "cell_type": "markdown",
   "id": "d37ba0e7-c540-4461-adda-9664dfd60f2f",
   "metadata": {},
   "source": [
    "## Import Libraries and Data"
   ]
  },
  {
   "cell_type": "code",
   "execution_count": 19,
   "id": "6e7ca289-19ef-4b4c-91ca-239a1d6083b5",
   "metadata": {},
   "outputs": [
    {
     "name": "stdout",
     "output_type": "stream",
     "text": [
      "The history saving thread hit an unexpected error (OperationalError('attempt to write a readonly database')).History will not be written to the database.\n"
     ]
    }
   ],
   "source": [
    "import os\n",
    "import random\n",
    "import numpy as np\n",
    "import pandas as pd\n",
    "from zipfile import ZipFile\n",
    "\n",
    "from sklearn.pipeline import Pipeline\n",
    "from sklearn.compose import ColumnTransformer\n",
    "from sklearn.preprocessing import OneHotEncoder\n",
    "from sklearn.experimental import enable_iterative_imputer\n",
    "from sklearn.impute import IterativeImputer, SimpleImputer\n",
    "from xgboost import XGBClassifier\n",
    "from sklearn.model_selection import RandomizedSearchCV\n",
    "from sklearn.metrics import roc_auc_score\n",
    "from scipy.stats import randint, uniform"
   ]
  },
  {
   "cell_type": "code",
   "execution_count": 20,
   "id": "b41f8a76-637b-4477-aea6-94aadd06a1e1",
   "metadata": {},
   "outputs": [],
   "source": [
    "### reproducibility\n",
    "SEED = 42\n",
    "random.seed(SEED)\n",
    "np.random.seed(SEED)\n",
    "os.environ['PYTHONHASHSEED'] = str(SEED)"
   ]
  },
  {
   "cell_type": "code",
   "execution_count": 21,
   "id": "55b667a3-0acf-4f43-bd5a-46659005a588",
   "metadata": {},
   "outputs": [],
   "source": [
    "train = pd.read_csv(\"data/train.csv\")\n",
    "dev = pd.read_csv(\"data/dev.csv\")\n",
    "test = pd.read_csv(\"data/test.csv\")"
   ]
  },
  {
   "cell_type": "markdown",
   "id": "17dd7162-573b-461b-9612-61f0337e6673",
   "metadata": {},
   "source": [
    "## Data Preprocessing "
   ]
  },
  {
   "cell_type": "code",
   "execution_count": 22,
   "id": "9ad37c3e-4fea-46c3-8dc1-4939795e7d7f",
   "metadata": {},
   "outputs": [],
   "source": [
    "### Feature engineering\n",
    "def add_features(df):\n",
    "    df[\"age_x_diabetes\"] = df[\"age\"] * df[\"has_diabetes\"]\n",
    "    df[\"uninsured_x_depression\"] = (\n",
    "        ((df[\"payer_type\"] == \"NO_INSURANCE\") & (df[\"has_depression\"] == 1)).astype(int)\n",
    "    )\n",
    "    df[\"race_ethnicity_combo\"] = df[\"race\"] + \"_\" + df[\"ethnicity\"]\n",
    "    df[\"cost_per_med\"] = df[\"total_med_cost\"] / (df[\"num_meds\"] + 1)\n",
    "    df[\"cost_per_proc\"] = df[\"total_proc_cost\"] / (df[\"num_procedures\"] + 1)\n",
    "    df[\"chronic_pain_x_pain_score\"] = df[\"has_chronic_pain\"] * df[\"pain_score\"]\n",
    "    return df\n",
    "\n",
    "train = add_features(train)\n",
    "dev = add_features(dev)\n",
    "test = add_features(test)"
   ]
  },
  {
   "cell_type": "code",
   "execution_count": 23,
   "id": "416d07a8-b2d5-4c1a-8f67-aa64639978ac",
   "metadata": {},
   "outputs": [],
   "source": [
    "### Features\n",
    "feature_cols = [\n",
    "    'age', 'gender', 'race', 'ethnicity', 'payer_type',\n",
    "    'has_chronic_pain', 'has_hypertension', 'has_diabetes',\n",
    "    'has_asthma', 'has_depression', 'encounter_cost',\n",
    "    'num_meds', 'total_med_cost', 'num_procedures',\n",
    "    'total_proc_cost', 'pain_score',\n",
    "    'age_x_diabetes', 'uninsured_x_depression', 'race_ethnicity_combo',\n",
    "    'cost_per_med', 'cost_per_proc', 'chronic_pain_x_pain_score']\n",
    "\n",
    "X_train = train[feature_cols]\n",
    "y_train = train[\"readmitted_within_30_days\"]\n",
    "X_dev = dev[feature_cols]\n",
    "y_dev = dev[\"readmitted_within_30_days\"]\n",
    "X_test = test[feature_cols]\n",
    "y_test = test[\"readmitted_within_30_days\"]\n",
    "\n",
    "dev_ids = dev[\"encounter_id\"]\n",
    "test_ids = test[\"encounter_id\"]"
   ]
  },
  {
   "cell_type": "code",
   "execution_count": 24,
   "id": "c511e8f7-6757-4b0f-85a4-3b3fc3b3f193",
   "metadata": {},
   "outputs": [],
   "source": [
    "### Column types\n",
    "categorical_cols = ['gender', 'race', 'ethnicity', 'payer_type', 'race_ethnicity_combo']\n",
    "numeric_cols = [col for col in feature_cols if col not in categorical_cols]"
   ]
  },
  {
   "cell_type": "code",
   "execution_count": 25,
   "id": "26600be9-4139-40fd-9080-f1d57eaffef7",
   "metadata": {},
   "outputs": [],
   "source": [
    "### preprocessing\n",
    "numeric_transformer = IterativeImputer(random_state=SEED)\n",
    "categorical_transformer = Pipeline([\n",
    "    (\"imputer\", SimpleImputer(strategy=\"most_frequent\")),\n",
    "    (\"onehot\", OneHotEncoder(handle_unknown=\"ignore\"))\n",
    "])\n",
    "preprocessor = ColumnTransformer([\n",
    "    (\"num\", numeric_transformer, numeric_cols),\n",
    "    (\"cat\", categorical_transformer, categorical_cols)])"
   ]
  },
  {
   "cell_type": "markdown",
   "id": "15e484b8-e0f8-4f6f-a21e-a783165bbe53",
   "metadata": {},
   "source": [
    "## Model Development "
   ]
  },
  {
   "cell_type": "code",
   "execution_count": 26,
   "id": "347141df-5338-4f2e-bbef-9695f36c2408",
   "metadata": {},
   "outputs": [],
   "source": [
    "### XGBoost pipeline\n",
    "xgb_model = Pipeline(steps=[\n",
    "    (\"preprocessor\", preprocessor),\n",
    "    (\"classifier\", XGBClassifier(\n",
    "        objective='binary:logistic',\n",
    "        eval_metric='auc',\n",
    "        use_label_encoder=False,\n",
    "        n_jobs=-1,\n",
    "        random_state=SEED\n",
    "    ))])"
   ]
  },
  {
   "cell_type": "markdown",
   "id": "97e06295-355d-4e0a-84d1-ecdef49b69d7",
   "metadata": {},
   "source": [
    "## Hyperparameter Optimization "
   ]
  },
  {
   "cell_type": "code",
   "execution_count": 27,
   "id": "de75ec0a-7327-4321-8bdc-bc7fc7938dd0",
   "metadata": {},
   "outputs": [],
   "source": [
    "### hyperparameter space\n",
    "param_distributions = {\n",
    "    \"classifier__n_estimators\": randint(300, 700),\n",
    "    \"classifier__max_depth\": randint(4, 12),\n",
    "    \"classifier__learning_rate\": uniform(0.01, 0.15),\n",
    "    \"classifier__subsample\": uniform(0.6, 0.4),\n",
    "    \"classifier__colsample_bytree\": uniform(0.6, 0.4),\n",
    "    \"classifier__gamma\": uniform(0, 5),\n",
    "    \"classifier__reg_lambda\": uniform(0, 5),\n",
    "    \"classifier__reg_alpha\": uniform(0, 5),}"
   ]
  },
  {
   "cell_type": "code",
   "execution_count": 28,
   "id": "9ca2e2a3-0fa2-460c-bcf2-9faca29b999d",
   "metadata": {},
   "outputs": [],
   "source": [
    "### RandomizedSearchCV\n",
    "search = RandomizedSearchCV(\n",
    "    estimator=xgb_model,\n",
    "    param_distributions=param_distributions,\n",
    "    n_iter=100,\n",
    "    scoring=\"roc_auc\",\n",
    "    cv=5,\n",
    "    verbose=2,\n",
    "    n_jobs=-1,\n",
    "    random_state=SEED)"
   ]
  },
  {
   "cell_type": "code",
   "execution_count": null,
   "id": "ddd6ce94-ccd0-4994-8f89-a3f318ee455f",
   "metadata": {},
   "outputs": [
    {
     "name": "stdout",
     "output_type": "stream",
     "text": [
      "Tuning XGBoost with RandomizedSearchCV:\n",
      "Fitting 5 folds for each of 100 candidates, totalling 500 fits\n"
     ]
    },
    {
     "name": "stderr",
     "output_type": "stream",
     "text": [
      "/Users/namigabbasov/anaconda3/lib/python3.11/site-packages/pandas/core/arrays/masked.py:60: UserWarning: Pandas requires version '1.3.6' or newer of 'bottleneck' (version '1.3.5' currently installed).\n",
      "  from pandas.core import (\n",
      "/Users/namigabbasov/anaconda3/lib/python3.11/site-packages/pandas/core/arrays/masked.py:60: UserWarning: Pandas requires version '1.3.6' or newer of 'bottleneck' (version '1.3.5' currently installed).\n",
      "  from pandas.core import (\n",
      "/Users/namigabbasov/anaconda3/lib/python3.11/site-packages/pandas/core/arrays/masked.py:60: UserWarning: Pandas requires version '1.3.6' or newer of 'bottleneck' (version '1.3.5' currently installed).\n",
      "  from pandas.core import (\n",
      "/Users/namigabbasov/anaconda3/lib/python3.11/site-packages/pandas/core/arrays/masked.py:60: UserWarning: Pandas requires version '1.3.6' or newer of 'bottleneck' (version '1.3.5' currently installed).\n",
      "  from pandas.core import (\n",
      "/Users/namigabbasov/anaconda3/lib/python3.11/site-packages/pandas/core/arrays/masked.py:60: UserWarning: Pandas requires version '1.3.6' or newer of 'bottleneck' (version '1.3.5' currently installed).\n",
      "  from pandas.core import (\n",
      "/Users/namigabbasov/anaconda3/lib/python3.11/site-packages/pandas/core/arrays/masked.py:60: UserWarning: Pandas requires version '1.3.6' or newer of 'bottleneck' (version '1.3.5' currently installed).\n",
      "  from pandas.core import (\n",
      "/Users/namigabbasov/anaconda3/lib/python3.11/site-packages/pandas/core/arrays/masked.py:60: UserWarning: Pandas requires version '1.3.6' or newer of 'bottleneck' (version '1.3.5' currently installed).\n",
      "  from pandas.core import (\n",
      "/Users/namigabbasov/anaconda3/lib/python3.11/site-packages/pandas/core/arrays/masked.py:60: UserWarning: Pandas requires version '1.3.6' or newer of 'bottleneck' (version '1.3.5' currently installed).\n",
      "  from pandas.core import (\n",
      "/Users/namigabbasov/anaconda3/lib/python3.11/site-packages/pandas/core/arrays/masked.py:60: UserWarning: Pandas requires version '1.3.6' or newer of 'bottleneck' (version '1.3.5' currently installed).\n",
      "  from pandas.core import (\n",
      "/Users/namigabbasov/anaconda3/lib/python3.11/site-packages/pandas/core/arrays/masked.py:60: UserWarning: Pandas requires version '1.3.6' or newer of 'bottleneck' (version '1.3.5' currently installed).\n",
      "  from pandas.core import (\n",
      "/Users/namigabbasov/anaconda3/lib/python3.11/site-packages/pandas/core/arrays/masked.py:60: UserWarning: Pandas requires version '1.3.6' or newer of 'bottleneck' (version '1.3.5' currently installed).\n",
      "  from pandas.core import (\n",
      "/Users/namigabbasov/anaconda3/lib/python3.11/site-packages/pandas/core/arrays/masked.py:60: UserWarning: Pandas requires version '1.3.6' or newer of 'bottleneck' (version '1.3.5' currently installed).\n",
      "  from pandas.core import (\n",
      "/Users/namigabbasov/anaconda3/lib/python3.11/site-packages/pandas/core/arrays/masked.py:60: UserWarning: Pandas requires version '1.3.6' or newer of 'bottleneck' (version '1.3.5' currently installed).\n",
      "  from pandas.core import (\n",
      "/Users/namigabbasov/anaconda3/lib/python3.11/site-packages/pandas/core/arrays/masked.py:60: UserWarning: Pandas requires version '1.3.6' or newer of 'bottleneck' (version '1.3.5' currently installed).\n",
      "  from pandas.core import (\n"
     ]
    }
   ],
   "source": [
    "### Fit search\n",
    "print(\"Tuning XGBoost with RandomizedSearchCV:\")\n",
    "search.fit(X_train, y_train)"
   ]
  },
  {
   "cell_type": "code",
   "execution_count": null,
   "id": "0641431f-8504-490d-8749-dbb57ec95983",
   "metadata": {},
   "outputs": [],
   "source": [
    "### Best model\n",
    "best_model = search.best_estimator_"
   ]
  },
  {
   "cell_type": "markdown",
   "id": "9a1e2fb9-65a6-4679-ad7d-44067fe1db9f",
   "metadata": {},
   "source": [
    "## Predict on Development and Save "
   ]
  },
  {
   "cell_type": "code",
   "execution_count": null,
   "id": "656da4ac-f2ab-4490-99cb-680ed3ff98cb",
   "metadata": {},
   "outputs": [],
   "source": [
    "### Dev performance\n",
    "dev_probas = best_model.predict_proba(X_dev)[:, 1]\n",
    "dev_auc = roc_auc_score(y_dev, dev_probas)\n",
    "print(f\"\\n Dev AUC: {dev_auc:.4f}\")"
   ]
  },
  {
   "cell_type": "code",
   "execution_count": null,
   "id": "17648985-b816-4c7c-92a4-3597f1edb41f",
   "metadata": {},
   "outputs": [],
   "source": [
    "### Save dev predictions\n",
    "submission_dev = pd.DataFrame({\n",
    "    \"encounter_id\": dev_ids,\n",
    "    \"readmitted_within_30_days\": dev_probas\n",
    "})\n",
    "submission_dev.to_csv(\"submission.csv\", index=False)\n",
    "with ZipFile(\"submission.zip\", \"w\") as zipf:\n",
    "    zipf.write(\"submission.csv\")\n",
    "print(\"submission.zip ready\")"
   ]
  },
  {
   "cell_type": "markdown",
   "id": "5ca37398-c6c9-4a9a-8498-9ab65bfa1ac4",
   "metadata": {},
   "source": [
    "## Predict on Test and Save"
   ]
  },
  {
   "cell_type": "code",
   "execution_count": null,
   "id": "459de724-9526-441a-b767-3ebb3128c909",
   "metadata": {},
   "outputs": [],
   "source": [
    "### test performance\n",
    "test_probas = best_model.predict_proba(X_test)[:, 1]\n",
    "test_auc = roc_auc_score(y_test, test_probas)\n",
    "print(f\"\\n Test AUC: {test_auc:.4f}\")"
   ]
  },
  {
   "cell_type": "code",
   "execution_count": null,
   "id": "ce168a16-8426-4c48-a7e1-4fd676739376",
   "metadata": {},
   "outputs": [],
   "source": [
    "### Save test predictions\n",
    "submission_test = pd.DataFrame({\n",
    "    \"encounter_id\": test_ids,\n",
    "    \"readmitted_within_30_days\": test_probas\n",
    "})\n",
    "submission_test.to_csv(\"submission_test.csv\", index=False)\n",
    "with ZipFile(\"submission_test.zip\", \"w\") as zipf:\n",
    "    zipf.write(\"submission_test.csv\")\n",
    "print(\"submission_test.zip ready\")"
   ]
  }
 ],
 "metadata": {
  "kernelspec": {
   "display_name": "Python 3 (ipykernel)",
   "language": "python",
   "name": "python3"
  },
  "language_info": {
   "codemirror_mode": {
    "name": "ipython",
    "version": 3
   },
   "file_extension": ".py",
   "mimetype": "text/x-python",
   "name": "python",
   "nbconvert_exporter": "python",
   "pygments_lexer": "ipython3",
   "version": "3.11.5"
  }
 },
 "nbformat": 4,
 "nbformat_minor": 5
}
